{
 "cells": [
  {
   "cell_type": "code",
   "execution_count": 1,
   "metadata": {
    "id": "OG2JlAXx3VoJ"
   },
   "outputs": [
    {
     "name": "stdout",
     "output_type": "stream",
     "text": [
      "Type of my_string: <class 'str'>\n",
      "ID of my_string: 2618597559344\n"
     ]
    }
   ],
   "source": [
    "#Declare a string and store it in a variable. \n",
    "\n",
    "\n",
    "\n",
    "#Check the type and print the id of the same.\n",
    "\n",
    "# Declare a string and store it in a variable\n",
    "my_string = \"Hello, world!\"\n",
    "\n",
    "# Check the type and print the id of the string\n",
    "print(\"Type of my_string:\", type(my_string))\n",
    "print(\"ID of my_string:\", id(my_string))\n",
    "\n"
   ]
  },
  {
   "cell_type": "code",
   "execution_count": null,
   "metadata": {
    "id": "wPxm3G8W3dqN"
   },
   "outputs": [],
   "source": [
    "Let's go through each of the strings:\n",
    "\n",
    "1. 'This is Python class'\n",
    "   - Valid\n",
    "\n",
    "2. \"This is Python class\"\n",
    "   - Valid\n",
    "\n",
    "3. '''This is Python class'''\n",
    "   - Valid\n",
    "\n",
    "4. \"\"\"This is Python class\"\"\"\n",
    "   - Valid\n",
    "\n",
    "5. 'This is Python's class'\n",
    "   - Invalid (Because the single quote within the string conflicts with the enclosing single quotes)\n",
    "\n",
    "6. \"Tutort provides \"Java\", \"Python\" classes\"\n",
    "   - Invalid (The double quotes within the string conflict with the enclosing double quotes)\n",
    "\n",
    "7. \"Tutort provides 'Java', 'Python' classes\"\n",
    "   - Valid\n",
    "\n",
    "8. \"This is Python's class\"\n",
    "   - Valid\n",
    "\n",
    "9. \"\"\"Tutort provides \"Java\", \"Python\" classes\"\"\"\n",
    "   - Valid\n",
    "\n",
    "10. '''Tutort provides \"Java\", \"Python\" classes'''\n",
    "    - Valid\n",
    "\n",
    "11. '''Tutort provides\n",
    "    \"Java\", \"Python\" \n",
    "    classes'''\n",
    "    - Valid (Triple-quoted strings can span multiple lines)\n",
    "\n",
    "12. 'This is\n",
    "    Python \n",
    "    class'\n",
    "    - Invalid (The string is broken into multiple lines without using triple quotes)\n",
    "\n",
    "So, the valid strings are: 1, 2, 3, 4, 7, 8, 9, 10, 11."
   ]
  },
  {
   "cell_type": "code",
   "execution_count": 2,
   "metadata": {
    "id": "Drx8fhT23g7a"
   },
   "outputs": [
    {
     "name": "stdout",
     "output_type": "stream",
     "text": [
      "The length of my_str is 66\n",
      "id of my_str and my_str1 is same? False\n",
      "Type of my_str is: <class 'str'>\n"
     ]
    }
   ],
   "source": [
    "my_str = \"Although that way may not be obvious at first unless you're Dutch.\"\n",
    "my_str1 = \"Although that way may not be obvious at first unless you're Dutch.\"\n",
    "\n",
    "# Output 1\n",
    "print(\"The length of my_str is\", len(my_str))\n",
    "\n",
    "# Output 2\n",
    "print(\"id of my_str and my_str1 is same?\", id(my_str) == id(my_str1))\n",
    "\n",
    "# Output 3\n",
    "print(\"Type of my_str is:\", type(my_str))\n"
   ]
  },
  {
   "cell_type": "code",
   "execution_count": 3,
   "metadata": {
    "id": "403e-I3A3lCO"
   },
   "outputs": [
    {
     "name": "stdout",
     "output_type": "stream",
     "text": [
      "The first character in my_str is: A\n",
      "The last character in my_str is: h\n",
      "The character at index 10 in my_str is:  \n",
      "The last character in my_str is: h\n",
      "The last character in my_str is: h\n",
      "The character in my_str is: 8\n"
     ]
    }
   ],
   "source": [
    "my_str = \"Although 8 that way may not be obvious at first unless you're Dutch\"\n",
    "\n",
    "# Output 1\n",
    "print(\"The first character in my_str is:\", my_str[0])\n",
    "\n",
    "# Output 2\n",
    "print(\"The last character in my_str is:\", my_str[len(my_str)-1])\n",
    "\n",
    "# Output 3\n",
    "print(\"The character at index 10 in my_str is:\", my_str[10])\n",
    "\n",
    "# Output 4\n",
    "print(\"The last character in my_str is:\", my_str[-1])\n",
    "\n",
    "# Output 5\n",
    "print(\"The last character in my_str is:\", my_str[len(my_str)-1])\n",
    "\n",
    "# Output 6\n",
    "print(\"The character in my_str is:\", my_str[9])\n"
   ]
  },
  {
   "cell_type": "code",
   "execution_count": 4,
   "metadata": {
    "id": "NK_QdtsM3luu"
   },
   "outputs": [
    {
     "name": "stdout",
     "output_type": "stream",
     "text": [
      "You have sliced: Although that way may not be obvious at first unless you're Dutch.\n",
      "You have sliced: Although that way may not be obvious at first unless you're Dutch.\n",
      "You have sliced: Atog htwymyntb biu tfrtuls o'eDth\n",
      "You have sliced: Although that way may not be obvious at first unless you're Dutch.\n",
      "You have sliced: .hctuD er'uoy sselnu tsrif ta suoivbo eb ton yam yaw taht hguohtlA\n",
      "You have sliced: hat way\n",
      "You have sliced: ht hguo\n",
      "You have sliced: .hctuD er'uoy sselnu tsrif ta suoivbo eb ton yam yaw taht hguohtl\n",
      "You have sliced: .hctuD er'uoy sselnu tsrif ta suoivbo eb ton yam yaw taht hguohtl\n",
      "You have sliced: u tsrif ta suoivbo eb ton yam yaw taht hguohtl\n",
      "You have sliced: utrft uib btnymywth got\n",
      "You have sliced:  yaw ta\n",
      "You have sliced: nle\n",
      "You have sliced: utc\n",
      "\n",
      "You have sliced:  fi\n",
      "You have sliced: ess\n"
     ]
    }
   ],
   "source": [
    "my_str = \"Although that way may not be obvious at first unless you're Dutch.\"\n",
    "\n",
    "# Output 1\n",
    "print(\"You have sliced:\", my_str[:])\n",
    "\n",
    "# Output 2\n",
    "print(\"You have sliced:\", my_str[0:len(my_str)])\n",
    "\n",
    "# Output 3\n",
    "print(\"You have sliced:\", my_str[::2])\n",
    "\n",
    "# Output 4\n",
    "print(\"You have sliced:\", my_str[0:len(my_str):1])\n",
    "\n",
    "# Output 5\n",
    "print(\"You have sliced:\", my_str[::-1])\n",
    "\n",
    "# Output 6\n",
    "print(\"You have sliced:\", my_str[10:17:1])\n",
    "\n",
    "# Output 7\n",
    "print(\"You have sliced:\", my_str[10:3:-1])\n",
    "\n",
    "# Output 8\n",
    "print(\"You have sliced:\", my_str[-1:0:-1])\n",
    "\n",
    "# Output 9\n",
    "print(\"You have sliced:\", my_str[-1:0:-1])\n",
    "\n",
    "# Output 10\n",
    "print(\"You have sliced:\", my_str[46:0:-1])\n",
    "\n",
    "# Output 11\n",
    "print(\"You have sliced:\", my_str[46:0:-2])\n",
    "\n",
    "# Output 12\n",
    "print(\"You have sliced:\", my_str[17:10:-1])\n",
    "\n",
    "# Output 13\n",
    "print(\"You have sliced:\", my_str[47:50:1])\n",
    "\n",
    "# Output 14\n",
    "print(\"You have sliced:\", my_str[-5:-2:1])\n",
    "\n",
    "# Output 15\n",
    "print(my_str[10:17:-1])\n",
    "# What will be the output? It will print an empty string.\n",
    "\n",
    "# Output 16\n",
    "print(\"You have sliced:\", my_str[39:42:1])\n",
    "\n",
    "# Output 17\n",
    "print(\"You have sliced:\", my_str[49:52:1])\n"
   ]
  },
  {
   "cell_type": "code",
   "execution_count": 5,
   "metadata": {
    "id": "qUSYa5x-3n5j"
   },
   "outputs": [
    {
     "name": "stdout",
     "output_type": "stream",
     "text": [
      "Learnbay Python\n",
      "LearnbayLearnbayLearnbay\n"
     ]
    }
   ],
   "source": [
    "str1 = 'Learnbay'\n",
    "str2 = 'Python'\n",
    "\n",
    "# Output 1\n",
    "print(str1 + ' ' + str2)\n",
    "\n",
    "# Output 2\n",
    "# Error: TypeError: can only concatenate str (not \"int\") to str\n",
    "# print(str1 + 10)\n",
    "\n",
    "# Output 3\n",
    "# Error: TypeError: can only concatenate str (not \"float\") to str\n",
    "# print(str1 + 10.5)\n",
    "\n",
    "# Output 4\n",
    "print(str1 * 3)\n",
    "\n",
    "# Output 5\n",
    "# Error: TypeError: can't multiply sequence by non-int of type 'float'\n",
    "# print(str1 * 2.5)\n",
    "\n",
    "# Output 6\n",
    "# Error: TypeError: can't multiply sequence by non-int of type 'str'\n",
    "# print(str1 * 'abc')\n"
   ]
  },
  {
   "cell_type": "code",
   "execution_count": 6,
   "metadata": {
    "id": "gREffmnr3s-p"
   },
   "outputs": [
    {
     "name": "stdout",
     "output_type": "stream",
     "text": [
      "True\n",
      "False\n",
      "True\n",
      "True\n",
      "True\n",
      "False\n"
     ]
    }
   ],
   "source": [
    "str1 = 'Python'\n",
    "str2 = 'Python'\n",
    "str3 = 'Python$'\n",
    "str4 = 'Python$'\n",
    "\n",
    "# Output 1\n",
    "print(str1 is str2)\n",
    "\n",
    "# Output 2\n",
    "print(str1 is str3)\n",
    "\n",
    "# Output 3\n",
    "print(str4 is not str3)\n",
    "\n",
    "# Output 4\n",
    "print('P' in str1)\n",
    "\n",
    "# Output 5\n",
    "print('$' in str3)\n",
    "\n",
    "# Output 6\n",
    "print('N' in str3)\n"
   ]
  },
  {
   "cell_type": "code",
   "execution_count": 7,
   "metadata": {
    "id": "QNFjxDr73u2H"
   },
   "outputs": [
    {
     "name": "stdout",
     "output_type": "stream",
     "text": [
      "True\n",
      "False\n",
      "True\n",
      "True\n",
      "True\n",
      "False\n"
     ]
    }
   ],
   "source": [
    "str1 = 'Python'\n",
    "str2 = 'Python'\n",
    "str3 = 'Python$'\n",
    "str4 = 'Python$'\n",
    "\n",
    "# Output 1\n",
    "print(str1 is str2)\n",
    "\n",
    "# Output 2\n",
    "print(str1 is str3)\n",
    "\n",
    "# Output 3\n",
    "print(str4 is not str3)\n",
    "\n",
    "# Output 4\n",
    "print('P' in str1)\n",
    "\n",
    "# Output 5\n",
    "print('$' in str3)\n",
    "\n",
    "# Output 6\n",
    "print('N' in str3)\n"
   ]
  },
  {
   "cell_type": "code",
   "execution_count": 8,
   "metadata": {
    "id": "-JgFbPmn3w3D"
   },
   "outputs": [
    {
     "name": "stdout",
     "output_type": "stream",
     "text": [
      "True\n",
      "True\n",
      "False\n",
      "False\n"
     ]
    }
   ],
   "source": [
    "str1 = 'A'\n",
    "str2 = 'A'\n",
    "\n",
    "# Output 1\n",
    "print(str1 == str2)\n",
    "\n",
    "# Output 2\n",
    "print(str1 is str2)\n",
    "\n",
    "# Output 3\n",
    "print(str1 != str2)\n",
    "\n",
    "# Output 4\n",
    "print(str1 is not str2)\n"
   ]
  },
  {
   "cell_type": "code",
   "execution_count": 9,
   "metadata": {
    "id": "fJ46_L-53yhW"
   },
   "outputs": [
    {
     "name": "stdout",
     "output_type": "stream",
     "text": [
      "True\n",
      "False\n",
      "True\n",
      "False\n"
     ]
    }
   ],
   "source": [
    "str1 = 'A'\n",
    "str2 = 'a'\n",
    "\n",
    "# Output 1\n",
    "print(str1 < str2)\n",
    "\n",
    "# Output 2\n",
    "print(str1 == str2)\n",
    "\n",
    "# Output 3\n",
    "print(str1 != str2)\n",
    "\n",
    "# Output 4\n",
    "print(str1 > str2)\n"
   ]
  },
  {
   "cell_type": "code",
   "execution_count": 10,
   "metadata": {
    "id": "e-Lr9va330gi"
   },
   "outputs": [
    {
     "name": "stdout",
     "output_type": "stream",
     "text": [
      "True\n",
      "False\n",
      "True\n"
     ]
    }
   ],
   "source": [
    "str1 = 'A'\n",
    "str2 = '65'\n",
    "\n",
    "# Output 1 (will raise an error)\n",
    "try:\n",
    "    print(str1 >= str2)\n",
    "except TypeError as e:\n",
    "    print(f\"Error: {e}\")\n",
    "\n",
    "# Output 2\n",
    "print(str1 == str2)\n",
    "\n",
    "# Output 3\n",
    "print(str1 != str2)\n"
   ]
  },
  {
   "cell_type": "code",
   "execution_count": 11,
   "metadata": {
    "id": "JO04jmpN32Im"
   },
   "outputs": [
    {
     "name": "stdout",
     "output_type": "stream",
     "text": [
      "True\n",
      "True\n",
      "False\n",
      "False\n"
     ]
    }
   ],
   "source": [
    "str1 = 'Python'\n",
    "str2 = 'Python'\n",
    "\n",
    "# Output 1\n",
    "print(str1 == str2)\n",
    "\n",
    "# Output 2\n",
    "print(str1 == str2)\n",
    "\n",
    "# Output 3\n",
    "print(str1 != str2)\n",
    "\n",
    "# Output 4\n",
    "print(str1 != str2)\n"
   ]
  },
  {
   "cell_type": "code",
   "execution_count": 12,
   "metadata": {
    "id": "nmVAYYC_35ip"
   },
   "outputs": [
    {
     "name": "stdout",
     "output_type": "stream",
     "text": [
      "True\n",
      "True\n",
      "False\n",
      "True\n"
     ]
    }
   ],
   "source": [
    "str1 = 'Python'\n",
    "str2 = 'python'\n",
    "\n",
    "# Output 1\n",
    "print(str1 < str2)\n",
    "\n",
    "# Output 2\n",
    "print(str1.lower() == str2.lower())\n",
    "\n",
    "# Output 3\n",
    "print(str1 == str2)\n",
    "\n",
    "# Output 4\n",
    "print(str1 != str2)\n",
    "\n"
   ]
  },
  {
   "cell_type": "code",
   "execution_count": 13,
   "metadata": {
    "id": "7ulv5ith37OJ"
   },
   "outputs": [
    {
     "name": "stdout",
     "output_type": "stream",
     "text": [
      "Result of \"a and b\": \n",
      "Result of \"a or b\": Python\n",
      "Result of \"not a\": False\n",
      "Result of \"not b\": True\n"
     ]
    }
   ],
   "source": [
    "a = 'Python'\n",
    "b = ''\n",
    "\n",
    "# Apply logical operators\n",
    "result_and = a and b\n",
    "result_or = a or b\n",
    "result_not_a = not a\n",
    "result_not_b = not b\n",
    "\n",
    "# Output\n",
    "print(f'Result of \"a and b\": {result_and}')\n",
    "print(f'Result of \"a or b\": {result_or}')\n",
    "print(f'Result of \"not a\": {result_not_a}')\n",
    "print(f'Result of \"not b\": {result_not_b}')\n"
   ]
  },
  {
   "cell_type": "code",
   "execution_count": 14,
   "metadata": {
    "id": "Yg_gsZBL383n"
   },
   "outputs": [
    {
     "name": "stdout",
     "output_type": "stream",
     "text": [
      "Result of \"a and b\": \n",
      "Result of \"a or b\": \n",
      "Result of \"not a\": True\n",
      "Result of \"not b\": True\n"
     ]
    }
   ],
   "source": [
    "a = ''\n",
    "b = ''\n",
    "\n",
    "# Apply logical operators\n",
    "result_and = a and b\n",
    "result_or = a or b\n",
    "result_not_a = not a\n",
    "result_not_b = not b\n",
    "\n",
    "# Output\n",
    "print(f'Result of \"a and b\": {result_and}')\n",
    "print(f'Result of \"a or b\": {result_or}')\n",
    "print(f'Result of \"not a\": {result_not_a}')\n",
    "print(f'Result of \"not b\": {result_not_b}')\n"
   ]
  },
  {
   "cell_type": "code",
   "execution_count": 15,
   "metadata": {
    "id": "cIWkP9Hf3-q5"
   },
   "outputs": [
    {
     "name": "stdout",
     "output_type": "stream",
     "text": [
      "Result of \"a and b\": Learnbay\n",
      "Result of \"a or b\": Python\n",
      "Result of \"not a\": False\n",
      "Result of \"not b\": False\n"
     ]
    }
   ],
   "source": [
    "a = 'Python'\n",
    "b = 'Learnbay'\n",
    "\n",
    "# Apply logical operators\n",
    "result_and = a and b\n",
    "result_or = a or b\n",
    "result_not_a = not a\n",
    "result_not_b = not b\n",
    "\n",
    "# Output\n",
    "print(f'Result of \"a and b\": {result_and}')\n",
    "print(f'Result of \"a or b\": {result_or}')\n",
    "print(f'Result of \"not a\": {result_not_a}')\n",
    "print(f'Result of \"not b\": {result_not_b}')\n"
   ]
  },
  {
   "cell_type": "code",
   "execution_count": 16,
   "metadata": {
    "id": "Y0Ot_E704AX5"
   },
   "outputs": [
    {
     "name": "stdout",
     "output_type": "stream",
     "text": [
      "7\n",
      "2\n",
      "2\n"
     ]
    }
   ],
   "source": [
    "my_str = \"Although 8 that way may not be obvious at first unless you're Dutch\"\n",
    "\n",
    "#Write the code to get the total count of 't' in above string. Use find() and index() method.\n",
    "print(my_str.count('t'))\n",
    "print(my_str.find('t'))\n",
    "print(my_str.index('t'))\n",
    "\n",
    "#Write the code to get the index of '8' in my_str. Use find() and index() method.\n",
    "# print()\n",
    "# print()\n",
    "\n",
    "#What will be the output of below code?\n",
    "# print(my_str.find('the'))\n",
    "\n",
    "\n",
    "# print(my_str.index('the'))\n",
    "\n",
    "\n",
    "# print(my_str.find('t', 9, 15))\n",
    "\n",
    "\n",
    "# print(my_str.rfind('u'))\n",
    "\n",
    "\n",
    "# print(my_str.rindex('u'))\n",
    "\n"
   ]
  },
  {
   "cell_type": "code",
   "execution_count": 18,
   "metadata": {
    "id": "Gommq59Q4CMi"
   },
   "outputs": [
    {
     "name": "stdout",
     "output_type": "stream",
     "text": [
      "Enter a string: hello\n",
      "Output: hello\n"
     ]
    }
   ],
   "source": [
    "user_input = input(\"Enter a string: \")\n",
    "\n",
    "if user_input.startswith(' ') and user_input.endswith(' '):\n",
    "    result = user_input.strip()\n",
    "elif user_input.startswith(' '):\n",
    "    result = user_input.lstrip()\n",
    "elif user_input.endswith(' '):\n",
    "    result = user_input.rstrip()\n",
    "else:\n",
    "    result = user_input\n",
    "\n",
    "print(\"Output:\", result)\n"
   ]
  },
  {
   "cell_type": "code",
   "execution_count": 19,
   "metadata": {
    "id": "9IUy-cpS4Dtt"
   },
   "outputs": [
    {
     "name": "stdout",
     "output_type": "stream",
     "text": [
      "Uppercase: ALTHOUGH 8 THAT WAY MAY NOT BE OBVIOUS AT FIRST UNLESS YOU'RE DUTCH\n",
      "Lowercase: although 8 that way may not be obvious at first unless you're dutch\n",
      "Swapped Case: aLTHOUGH 8 THAT WAY MAY NOT BE OBVIOUS AT FIRST UNLESS YOU'RE dUTCH\n"
     ]
    }
   ],
   "source": [
    "my_str = \"Although 8 that way may not be obvious at first unless you're Dutch\"\n",
    "\n",
    "# Convert all alphabets to upper case\n",
    "upper_case_str = my_str.upper()\n",
    "print(\"Uppercase:\", upper_case_str)\n",
    "\n",
    "# Convert all alphabets to lower case\n",
    "lower_case_str = my_str.lower()\n",
    "print(\"Lowercase:\", lower_case_str)\n",
    "\n",
    "# Swap the cases of all alphabets\n",
    "swap_case_str = my_str.swapcase()\n",
    "print(\"Swapped Case:\", swap_case_str)\n"
   ]
  },
  {
   "cell_type": "code",
   "execution_count": 20,
   "metadata": {
    "id": "-BjS-z674HKW"
   },
   "outputs": [
    {
     "name": "stdout",
     "output_type": "stream",
     "text": [
      "Enter a string: hello\n",
      "Output: Hello\n"
     ]
    }
   ],
   "source": [
    "user_input = input(\"Enter a string: \")\n",
    "\n",
    "if user_input and user_input[0].islower():\n",
    "    # If the string starts with a small case letter, convert it to corresponding capital letter\n",
    "    result = user_input.capitalize()\n",
    "else:\n",
    "    # If the string starts with capital letters, convert the first character of every word to capital\n",
    "    result = user_input.title()\n",
    "\n",
    "print(\"Output:\", result)\n"
   ]
  },
  {
   "cell_type": "code",
   "execution_count": 21,
   "metadata": {
    "id": "-MCuDy5J4JQS"
   },
   "outputs": [
    {
     "name": "stdout",
     "output_type": "stream",
     "text": [
      "Enter a string: hello World\n",
      "Alphanumeric: False\n",
      "Alphabets: False\n",
      "Digit: False\n",
      "All letters in lower case: False\n",
      "All letters in upper case: False\n",
      "Title case: False\n",
      "Space character: False\n",
      "Numeric: False\n",
      "All number elements are decimal: False\n"
     ]
    }
   ],
   "source": [
    "user_input = input(\"Enter a string: \")\n",
    "\n",
    "# 1. Check if it is alphanumeric\n",
    "print(\"Alphanumeric:\", user_input.isalnum())\n",
    "\n",
    "# 2. Check if it contains only alphabets\n",
    "print(\"Alphabets:\", user_input.isalpha())\n",
    "\n",
    "# 3. Check if it contains only digits\n",
    "print(\"Digit:\", user_input.isdigit())\n",
    "\n",
    "# 4. Check if all letters are in lower case\n",
    "print(\"All letters in lower case:\", user_input.islower())\n",
    "\n",
    "# 5. Check if all letters are in upper case\n",
    "print(\"All letters in upper case:\", user_input.isupper())\n",
    "\n",
    "# 6. Check if it is in title case\n",
    "print(\"Title case:\", user_input.istitle())\n",
    "\n",
    "# 7. Check if it is a space character\n",
    "print(\"Space character:\", user_input.isspace())\n",
    "\n",
    "# 8. Check if it is numeric\n",
    "print(\"Numeric:\", user_input.isnumeric())\n",
    "\n",
    "# 9. Check if all number elements in the string are decimal\n",
    "print(\"All number elements are decimal:\", all(part.isdecimal() for part in user_input.split()))\n"
   ]
  },
  {
   "cell_type": "code",
   "execution_count": 22,
   "metadata": {
    "id": "tiTN-4ik4KAG"
   },
   "outputs": [
    {
     "name": "stdout",
     "output_type": "stream",
     "text": [
      "abc: True\n",
      "abc1: True\n",
      "ab1c: True\n",
      "1abc: False\n",
      "abc$: False\n",
      "_abc: True\n",
      "if: True\n"
     ]
    }
   ],
   "source": [
    "def is_valid_identifier(identifier):\n",
    "    if identifier.isidentifier():\n",
    "        return True\n",
    "    else:\n",
    "        return False\n",
    "\n",
    "# Sample Input\n",
    "inputs = ['abc', 'abc1', 'ab1c', '1abc', 'abc$', '_abc', 'if']\n",
    "\n",
    "# Check and print results\n",
    "for input_str in inputs:\n",
    "    result = is_valid_identifier(input_str)\n",
    "    print(f\"{input_str}: {result}\")\n"
   ]
  },
  {
   "cell_type": "code",
   "execution_count": 23,
   "metadata": {
    "id": "tAMkSIN84MPe"
   },
   "outputs": [
    {
     "name": "stdout",
     "output_type": "stream",
     "text": [
      "True\n",
      "False\n",
      "False\n",
      "True\n"
     ]
    }
   ],
   "source": [
    "#What will be output of below code?\n",
    "s = chr(65) + chr(97)\n",
    "print(s.isprintable())\n",
    "\n",
    "s = chr(27) + chr(97)\n",
    "print(s.isprintable())\n",
    "\n",
    "s = '\\n'\n",
    "print(s.isprintable())\n",
    "\n",
    "s = ''\n",
    "print(s.isprintable())"
   ]
  },
  {
   "cell_type": "code",
   "execution_count": 24,
   "metadata": {
    "id": "pU9Os0mD4Pk1"
   },
   "outputs": [
    {
     "name": "stdout",
     "output_type": "stream",
     "text": [
      "True\n",
      "True\n",
      "True\n",
      "True\n",
      "False\n",
      "False\n"
     ]
    }
   ],
   "source": [
    "#What will be output of below code?\n",
    "my_string = '  '\n",
    "print(my_string.isascii())\n",
    "\n",
    "my_string = 'Studytonight'\n",
    "print(my_string.isascii())\n",
    "\n",
    "my_string = 'Study tonight'\n",
    "print(my_string.isascii())\n",
    "\n",
    "my_string = 'Studytonight@123'\n",
    "print(my_string.isascii())\n",
    "\n",
    "my_string = '°'\n",
    "print(my_string.isascii())\n",
    "\n",
    "my_string = 'ö'\n",
    "print(my_string.isascii())"
   ]
  },
  {
   "cell_type": "code",
   "execution_count": 25,
   "metadata": {
    "id": "VsLV8FF74QTB"
   },
   "outputs": [
    {
     "name": "stdout",
     "output_type": "stream",
     "text": [
      "The strings are equal.\n"
     ]
    }
   ],
   "source": [
    "#What will be the output of below code?\n",
    "firstString = \"der Fluß\"\n",
    "secondString = \"der Fluss\"\n",
    "\n",
    "if firstString.casefold() == secondString.casefold():\n",
    "    print('The strings are equal.')\n",
    "else:\n",
    "    print('The strings are not equal.')"
   ]
  },
  {
   "cell_type": "code",
   "execution_count": 27,
   "metadata": {
    "id": "cRVkvW6s4YKK"
   },
   "outputs": [
    {
     "name": "stdout",
     "output_type": "stream",
     "text": [
      "Output: 55\n"
     ]
    }
   ],
   "source": [
    "my_str = 'Write a Python program to find the length of the my_str'\n",
    "length_of_my_str = len(my_str)\n",
    "print(\"Output:\", length_of_my_str)\n"
   ]
  },
  {
   "cell_type": "code",
   "execution_count": 28,
   "metadata": {
    "id": "SjABWI284Zuz"
   },
   "outputs": [
    {
     "name": "stdout",
     "output_type": "stream",
     "text": [
      "Output: 9\n"
     ]
    }
   ],
   "source": [
    "input_str = 'peter piper picked a peck of pickled peppers.'\n",
    "count_of_p = input_str.count('p')\n",
    "print(\"Output:\", count_of_p)\n"
   ]
  },
  {
   "cell_type": "code",
   "execution_count": 29,
   "metadata": {
    "id": "-iZtqbEo4bQp"
   },
   "outputs": [
    {
     "name": "stdout",
     "output_type": "stream",
     "text": [
      "0\n",
      "6\n",
      "8\n",
      "12\n",
      "21\n",
      "29\n",
      "37\n",
      "39\n",
      "40\n"
     ]
    }
   ],
   "source": [
    "input_str = 'peter piper picked a peck of pickled peppers.'\n",
    "\n",
    "# Find all occurrences of 'p' and print their indexes\n",
    "for index, char in enumerate(input_str):\n",
    "    if char == 'p':\n",
    "        print(index)\n"
   ]
  },
  {
   "cell_type": "code",
   "execution_count": 30,
   "metadata": {
    "id": "_A8Eu8f84daM"
   },
   "outputs": [
    {
     "name": "stdout",
     "output_type": "stream",
     "text": [
      "Output: ['peter', 'piper', 'picked', 'a', 'peck', 'of', 'pickled', 'peppers.']\n"
     ]
    }
   ],
   "source": [
    "input_str = 'peter piper picked a peck of pickled peppers.'\n",
    "output_list = input_str.split()\n",
    "print(\"Output:\", output_list)\n"
   ]
  },
  {
   "cell_type": "code",
   "execution_count": 31,
   "metadata": {
    "id": "juh7tQuL4fNc"
   },
   "outputs": [
    {
     "name": "stdout",
     "output_type": "stream",
     "text": [
      "Output: peppers. pickled of peck a picked piper peter\n"
     ]
    }
   ],
   "source": [
    "input_str = 'peter piper picked a peck of pickled peppers.'\n",
    "word_list = input_str.split()\n",
    "reversed_str = ' '.join(reversed(word_list))\n",
    "print(\"Output:\", reversed_str)\n"
   ]
  },
  {
   "cell_type": "code",
   "execution_count": 32,
   "metadata": {
    "id": "aaHQYz194fW7"
   },
   "outputs": [
    {
     "name": "stdout",
     "output_type": "stream",
     "text": [
      "Output: .sreppep delkcip fo kcep a dekcip repip retep\n"
     ]
    }
   ],
   "source": [
    "input_str = 'peter piper picked a peck of pickled peppers.'\n",
    "output_str = input_str[::-1]\n",
    "print(\"Output:\", output_str)\n"
   ]
  },
  {
   "cell_type": "code",
   "execution_count": 33,
   "metadata": {
    "id": "LSgj9glC4feI"
   },
   "outputs": [
    {
     "name": "stdout",
     "output_type": "stream",
     "text": [
      "Output: retep repip dekcip a kcep fo delkcip .sreppep\n"
     ]
    }
   ],
   "source": [
    "input_str = 'peter piper picked a peck of pickled peppers.'\n",
    "words = input_str.split()\n",
    "reversed_words = [word[::-1] for word in words]\n",
    "output_str = ' '.join(reversed_words)\n",
    "print(\"Output:\", output_str)\n"
   ]
  },
  {
   "cell_type": "code",
   "execution_count": 34,
   "metadata": {
    "id": "WUxPAkY94foo"
   },
   "outputs": [
    {
     "name": "stdout",
     "output_type": "stream",
     "text": [
      "Output: Peter Piper Picked A Peck Of Pickled Peppers.\n"
     ]
    }
   ],
   "source": [
    "input_str = 'peter piper picked a peck of pickled peppers.'\n",
    "output_str = input_str.title()\n",
    "print(\"Output:\", output_str)\n"
   ]
  },
  {
   "cell_type": "code",
   "execution_count": 35,
   "metadata": {
    "id": "IT1NSPxA4mww"
   },
   "outputs": [
    {
     "name": "stdout",
     "output_type": "stream",
     "text": [
      "Output: Peter piper picked a peck of pickled peppers.\n"
     ]
    }
   ],
   "source": [
    "input_str = 'Peter Piper Picked A Peck Of Pickled Peppers.'\n",
    "output_str = input_str.capitalize()\n",
    "print(\"Output:\", output_str)\n"
   ]
  },
  {
   "cell_type": "code",
   "execution_count": 36,
   "metadata": {
    "id": "3Gg65vSc4m3C"
   },
   "outputs": [
    {
     "name": "stdout",
     "output_type": "stream",
     "text": [
      "Output: 0\n"
     ]
    }
   ],
   "source": [
    "def custom_index(my_str, sub_str):\n",
    "    try:\n",
    "        index = my_str.index(sub_str[0])\n",
    "        return index\n",
    "    except ValueError:\n",
    "        return -1\n",
    "\n",
    "my_str = 'Peter Piper Picked A Peck Of Pickled Peppers.'\n",
    "sub_str = 'Pickl'\n",
    "output_index = custom_index(my_str, sub_str)\n",
    "print(\"Output:\", output_index)\n"
   ]
  },
  {
   "cell_type": "code",
   "execution_count": 37,
   "metadata": {
    "id": "iFRhp_JI4m6k"
   },
   "outputs": [
    {
     "name": "stdout",
     "output_type": "stream",
     "text": [
      "Output: Peter Piper Picked A Pack Of Pickled Peppers.\n"
     ]
    }
   ],
   "source": [
    "def custom_replace(my_str, sub_str, new_str):\n",
    "    if sub_str in my_str:\n",
    "        updated_str = my_str.replace(sub_str, new_str, 1)\n",
    "        return updated_str\n",
    "    else:\n",
    "        return f\"{sub_str} not found\"\n",
    "\n",
    "my_str = 'Peter Piper Picked A Peck Of Pickled Peppers.'\n",
    "sub_str = 'Peck'\n",
    "new_str = 'Pack'\n",
    "output_str = custom_replace(my_str, sub_str, new_str)\n",
    "print(\"Output:\", output_str)\n"
   ]
  },
  {
   "cell_type": "code",
   "execution_count": 38,
   "metadata": {
    "id": "dQ9YhBBc4m9V"
   },
   "outputs": [
    {
     "name": "stdout",
     "output_type": "stream",
     "text": [
      "Output: *********************Peck********************\n"
     ]
    }
   ],
   "source": [
    "def custom_padding(my_str, sub_str):\n",
    "    if sub_str in my_str:\n",
    "        start_index = my_str.find(sub_str)\n",
    "        end_index = start_index + len(sub_str)\n",
    "        \n",
    "        left_padding = '*' * start_index\n",
    "        right_padding = '*' * (len(my_str) - end_index)\n",
    "        \n",
    "        padded_str = left_padding + sub_str + right_padding\n",
    "        return padded_str\n",
    "    else:\n",
    "        return f\"{sub_str} not found\"\n",
    "\n",
    "my_str = 'Peter Piper Picked A Peck Of Pickled Peppers.'\n",
    "sub_str = 'Peck'\n",
    "output_str = custom_padding(my_str, sub_str)\n",
    "print(\"Output:\", output_str)\n"
   ]
  },
  {
   "cell_type": "code",
   "execution_count": null,
   "metadata": {
    "id": "w37BRLdt4tYT"
   },
   "outputs": [],
   "source": []
  },
  {
   "cell_type": "code",
   "execution_count": null,
   "metadata": {
    "id": "W64gCpeu4vaF"
   },
   "outputs": [],
   "source": []
  }
 ],
 "metadata": {
  "colab": {
   "collapsed_sections": [],
   "name": "String_Assignment.ipynb",
   "provenance": []
  },
  "kernelspec": {
   "display_name": "Python 3 (ipykernel)",
   "language": "python",
   "name": "python3"
  },
  "language_info": {
   "codemirror_mode": {
    "name": "ipython",
    "version": 3
   },
   "file_extension": ".py",
   "mimetype": "text/x-python",
   "name": "python",
   "nbconvert_exporter": "python",
   "pygments_lexer": "ipython3",
   "version": "3.9.7"
  },
  "latex_envs": {
   "LaTeX_envs_menu_present": true,
   "autoclose": false,
   "autocomplete": true,
   "bibliofile": "biblio.bib",
   "cite_by": "apalike",
   "current_citInitial": 1,
   "eqLabelWithNumbers": true,
   "eqNumInitial": 1,
   "hotkeys": {
    "equation": "Ctrl-E",
    "itemize": "Ctrl-I"
   },
   "labels_anchors": false,
   "latex_user_defs": false,
   "report_style_numbering": false,
   "user_envs_cfg": false
  },
  "varInspector": {
   "cols": {
    "lenName": 16,
    "lenType": 16,
    "lenVar": 40
   },
   "kernels_config": {
    "python": {
     "delete_cmd_postfix": "",
     "delete_cmd_prefix": "del ",
     "library": "var_list.py",
     "varRefreshCmd": "print(var_dic_list())"
    },
    "r": {
     "delete_cmd_postfix": ") ",
     "delete_cmd_prefix": "rm(",
     "library": "var_list.r",
     "varRefreshCmd": "cat(var_dic_list()) "
    }
   },
   "types_to_exclude": [
    "module",
    "function",
    "builtin_function_or_method",
    "instance",
    "_Feature"
   ],
   "window_display": false
  }
 },
 "nbformat": 4,
 "nbformat_minor": 1
}
