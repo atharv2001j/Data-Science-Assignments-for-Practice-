{
 "cells": [
  {
   "cell_type": "markdown",
   "metadata": {},
   "source": [
    "# File handling\n",
    "\n",
    "<b>Q1. Write a Python program to read a file line by line and store it into a list</b>\n",
    "\n",
    "<b>Q2. Write a Python program to extract characters from various text files and puts them into a list.</b>\n",
    "\n",
    "words1.txt <br>\n",
    "Welcome to the Python Wiki, a user-editable compendium of knowledge\n",
    "based around the Python programming language. Some pages are protected\n",
    "against casual editing - see WikiEditingGuidelines for more information\n",
    "about editing content. <br>\n",
    "words2.txt <br>\n",
    "Python is a great object-oriented, interpreted, and interactive\n",
    "programming language. It is often compared (favorably of course :-) )\n",
    "to Lisp, Tcl, Perl, Ruby, C#, Visual Basic, Visual Fox Pro, Scheme or Java...\n",
    "and it's much more fun. <br>\n",
    "\n",
    "# Functions\n",
    "\n",
    "<b>1. Write a Python function to find the Max of three numbers.  </b>\n",
    "\n",
    "<b>2. Write a Python function to sum all the numbers in a list </b>\n",
    "\n",
    "<b>3. Write a Python function to check whether a string is a pangram or not. </b> <br>\n",
    "Note : Pangrams are words or sentences containing every letter of the alphabet at least once.<br>\n",
    "For example : \"The quick brown fox jumps over the lazy dog\"\n",
    "\n",
    "<b>4. Write a Python program to sort a list of tuples using Lambda.</b> <br>\n",
    "Original list of tuples:<br>\n",
    "[('English', 88), ('Science', 90), ('Maths', 97), ('Social sciences', 82)]<br>\n",
    "Sorting the List of Tuples:<br>\n",
    "[('Social sciences', 82), ('English', 88), ('Science', 90), ('Maths', 97)]<br>\n",
    "\n",
    "<b>5. Write a Python program to get the Fibonacci series between 0 to 50. </b>\n",
    "\n",
    "<b>6. Write a Python program to convert temperatures to and from celsius, fahrenheit </b>\n",
    "\n",
    "<b>7. Write a Python program to count the number of even and odd numbers from a series of numbers. </b>\n",
    "\n",
    "<b>8. Write a Python program which iterates the integers from 1 to 50. For multiples of three print \"Fizz\" instead of the number and for the multiples of five print \"Buzz\". For numbers which are multiples of both three and five print \"FizzBuzz\". </b>"
   ]
  },
  {
   "cell_type": "code",
   "execution_count": null,
   "metadata": {},
   "outputs": [],
   "source": [
    "file_path = 'your_file.txt'\n",
    "\n",
    "with open(file_path, 'r') as file:\n",
    "    lines = file.readlines()\n",
    "\n",
    "# 'lines' now contains a list where each element is a line from the file\n",
    "print(lines)\n"
   ]
  },
  {
   "cell_type": "code",
   "execution_count": null,
   "metadata": {},
   "outputs": [],
   "source": [
    "file_paths = ['words1.txt', 'words2.txt']\n",
    "characters = []\n",
    "\n",
    "for file_path in file_paths:\n",
    "    with open(file_path, 'r') as file:\n",
    "        characters.extend(file.read())\n",
    "\n",
    "# 'characters' now contains a list of characters from all files\n",
    "print(characters)\n"
   ]
  },
  {
   "cell_type": "code",
   "execution_count": null,
   "metadata": {},
   "outputs": [],
   "source": [
    "def max_of_three(a, b, c):\n",
    "    return max(a, b, c)\n",
    "\n",
    "# Example usage\n",
    "result = max_of_three(5, 10, 3)\n",
    "print(result)\n"
   ]
  },
  {
   "cell_type": "code",
   "execution_count": null,
   "metadata": {},
   "outputs": [],
   "source": [
    "def sum_of_list(numbers):\n",
    "    return sum(numbers)\n",
    "\n",
    "# Example usage\n",
    "numbers = [1, 2, 3, 4, 5]\n",
    "result = sum_of_list(numbers)\n",
    "print(result)\n"
   ]
  },
  {
   "cell_type": "code",
   "execution_count": null,
   "metadata": {},
   "outputs": [],
   "source": [
    "import string\n",
    "\n",
    "def is_pangram(input_string):\n",
    "    alphabet_set = set(string.ascii_lowercase)\n",
    "    return set(input_string.lower()) >= alphabet_set\n",
    "\n",
    "# Example usage\n",
    "sentence = \"The quick brown fox jumps over the lazy dog\"\n",
    "result = is_pangram(sentence)\n",
    "print(result)\n"
   ]
  },
  {
   "cell_type": "code",
   "execution_count": null,
   "metadata": {},
   "outputs": [],
   "source": [
    "original_list = [('English', 88), ('Science', 90), ('Maths', 97), ('Social sciences', 82)]\n",
    "\n",
    "sorted_list = sorted(original_list, key=lambda x: x[1])\n",
    "\n",
    "print(\"Original list of tuples:\")\n",
    "print(original_list)\n",
    "print(\"Sorting the List of Tuples:\")\n",
    "print(sorted_list)\n"
   ]
  },
  {
   "cell_type": "code",
   "execution_count": null,
   "metadata": {},
   "outputs": [],
   "source": [
    "def fibonacci_series(n):\n",
    "    fib_series = [0, 1]\n",
    "    while fib_series[-1] + fib_series[-2] <= n:\n",
    "        fib_series.append(fib_series[-1] + fib_series[-2])\n",
    "    return fib_series\n",
    "\n",
    "# Example usage\n",
    "result = fibonacci_series(50)\n",
    "print(result)\n"
   ]
  },
  {
   "cell_type": "code",
   "execution_count": null,
   "metadata": {},
   "outputs": [],
   "source": [
    "def celsius_to_fahrenheit(celsius):\n",
    "    return (celsius * 9/5) + 32\n",
    "\n",
    "def fahrenheit_to_celsius(fahrenheit):\n",
    "    return (fahrenheit - 32) * 5/9\n",
    "\n",
    "# Example usage\n",
    "temp_celsius = 25\n",
    "temp_fahrenheit = celsius_to_fahrenheit(temp_celsius)\n",
    "print(f\"{temp_celsius} Celsius is {temp_fahrenheit} Fahrenheit\")\n",
    "\n",
    "temp_fahrenheit = 77\n",
    "temp_celsius = fahrenheit_to_celsius(temp_fahrenheit)\n",
    "print(f\"{temp_fahrenheit} Fahrenheit is {temp_celsius} Celsius\")\n"
   ]
  },
  {
   "cell_type": "code",
   "execution_count": null,
   "metadata": {},
   "outputs": [],
   "source": [
    "def count_even_odd(numbers):\n",
    "    even_count = sum(1 for num in numbers if num % 2 == 0)\n",
    "    odd_count = len(numbers) - even_count\n",
    "    return even_count, odd_count\n",
    "\n",
    "# Example usage\n",
    "number_series = [1, 2, 3, 4, 5, 6, 7, 8, 9, 10]\n",
    "even, odd = count_even_odd(number_series)\n",
    "print(f\"Even numbers: {even}, Odd numbers: {odd}\")\n"
   ]
  },
  {
   "cell_type": "code",
   "execution_count": null,
   "metadata": {},
   "outputs": [],
   "source": [
    "for num in range(1, 51):\n",
    "    if num % 3 == 0 and num % 5 == 0:\n",
    "        print(\"FizzBuzz\")\n",
    "    elif num % 3 == 0:\n",
    "        print(\"Fizz\")\n",
    "    elif num % 5 == 0:\n",
    "        print(\"Buzz\")\n",
    "    else:\n",
    "        print(num)\n"
   ]
  }
 ],
 "metadata": {
  "kernelspec": {
   "display_name": "Python 3 (ipykernel)",
   "language": "python",
   "name": "python3"
  },
  "language_info": {
   "codemirror_mode": {
    "name": "ipython",
    "version": 3
   },
   "file_extension": ".py",
   "mimetype": "text/x-python",
   "name": "python",
   "nbconvert_exporter": "python",
   "pygments_lexer": "ipython3",
   "version": "3.9.12"
  }
 },
 "nbformat": 4,
 "nbformat_minor": 4
}
