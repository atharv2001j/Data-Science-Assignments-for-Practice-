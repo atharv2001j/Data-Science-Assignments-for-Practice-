{
 "cells": [
  {
   "cell_type": "code",
   "execution_count": null,
   "metadata": {
    "id": "gtlAv2oq9yzd"
   },
   "outputs": [],
   "source": [
    "#Write a Python program to find the sum of all elements in a list using loop.\n",
    "#Input:- [10,20,30,40]\n",
    "#Output:- 100\n",
    "\n",
    "\n"
   ]
  },
  {
   "cell_type": "code",
   "execution_count": 1,
   "metadata": {},
   "outputs": [
    {
     "name": "stdout",
     "output_type": "stream",
     "text": [
      "Input: [10, 20, 30, 40]\n",
      "Output: 100\n"
     ]
    }
   ],
   "source": [
    "def sum_of_elements(lst):\n",
    "    total = 0\n",
    "    for element in lst:\n",
    "        total += element\n",
    "    return total\n",
    "\n",
    "input_list = [10, 20, 30, 40]\n",
    "\n",
    "result = sum_of_elements(input_list)\n",
    "\n",
    "print(\"Input:\", input_list)\n",
    "print(\"Output:\", result)\n"
   ]
  },
  {
   "cell_type": "code",
   "execution_count": null,
   "metadata": {
    "id": "gTbA8psa93Y_"
   },
   "outputs": [],
   "source": [
    "#Write a Python program to find the multiplication of all elements in a list using loop.\n",
    "#Input:- [10,20,30,40]\n",
    "#Output:- 240000\n",
    "\n",
    "\n"
   ]
  },
  {
   "cell_type": "code",
   "execution_count": 2,
   "metadata": {},
   "outputs": [
    {
     "name": "stdout",
     "output_type": "stream",
     "text": [
      "Input: [10, 20, 30, 40]\n",
      "Output: 240000\n"
     ]
    }
   ],
   "source": [
    "def multiply_elements(lst):\n",
    "    result = 1\n",
    "    for element in lst:\n",
    "        result *= element\n",
    "    return result\n",
    "\n",
    "input_list = [10, 20, 30, 40]\n",
    "\n",
    "result = multiply_elements(input_list)\n",
    "\n",
    "print(\"Input:\", input_list)\n",
    "print(\"Output:\", result)\n"
   ]
  },
  {
   "cell_type": "code",
   "execution_count": null,
   "metadata": {
    "id": "XBCrEtLN94Lj"
   },
   "outputs": [],
   "source": [
    "#Write a Python program to find the largest number from a list using loop.\n",
    "#Input:- [10,100,2321, 1,200,2]\n",
    "#Output:- 2321\n",
    "\n",
    "\n"
   ]
  },
  {
   "cell_type": "code",
   "execution_count": 3,
   "metadata": {},
   "outputs": [
    {
     "name": "stdout",
     "output_type": "stream",
     "text": [
      "Input: [10, 100, 2321, 1, 200, 2]\n",
      "Output: 2321\n"
     ]
    }
   ],
   "source": [
    "def find_largest_number(lst):\n",
    "    if not lst:\n",
    "        return None\n",
    "\n",
    "    largest = lst[0]\n",
    "    for number in lst:\n",
    "        if number > largest:\n",
    "            largest = number\n",
    "    return largest\n",
    "\n",
    "input_list = [10, 100, 2321, 1, 200, 2]\n",
    "\n",
    "result = find_largest_number(input_list)\n",
    "\n",
    "print(\"Input:\", input_list)\n",
    "print(\"Output:\", result)\n"
   ]
  },
  {
   "cell_type": "code",
   "execution_count": null,
   "metadata": {
    "id": "l3paUtbH94Vw"
   },
   "outputs": [],
   "source": [
    "#Write a Python program to find the smallest number from a list using loop.\n",
    "#Input:- [10,100,2321, 1,200,2]\n",
    "#Output:- 1\n",
    "\n",
    "\n",
    "#Write a Python program which takes a list of numbers as input and prints a new list after removing even numbers from it.\n",
    "#Input:- [10,21,22,98,87,45,33,1,2,100]\n",
    "#Output:- [21,87,45,33,1]\n"
   ]
  },
  {
   "cell_type": "code",
   "execution_count": 4,
   "metadata": {},
   "outputs": [
    {
     "name": "stdout",
     "output_type": "stream",
     "text": [
      "Input: [10, 100, 2321, 1, 200, 2]\n",
      "Output: 1\n"
     ]
    }
   ],
   "source": [
    "def find_smallest_number(lst):\n",
    "    if not lst:\n",
    "        return None\n",
    "\n",
    "    smallest = lst[0]\n",
    "    for number in lst:\n",
    "        if number < smallest:\n",
    "            smallest = number\n",
    "    return smallest\n",
    "\n",
    "input_list = [10, 100, 2321, 1, 200, 2]\n",
    "\n",
    "result = find_smallest_number(input_list)\n",
    "\n",
    "print(\"Input:\", input_list)\n",
    "print(\"Output:\", result)\n"
   ]
  },
  {
   "cell_type": "code",
   "execution_count": null,
   "metadata": {
    "id": "JTVgy5VD94cE"
   },
   "outputs": [],
   "source": [
    "#Write a Python program to count the number of strings having length more than 2 and are palindrome in a list using loop.\n",
    "#Input:- ['ab', 'abc', 'aba', 'xyz', '1991']\n",
    "#Output:- 2"
   ]
  },
  {
   "cell_type": "code",
   "execution_count": 5,
   "metadata": {},
   "outputs": [
    {
     "name": "stdout",
     "output_type": "stream",
     "text": [
      "Input: ['ab', 'abc', 'aba', 'xyz', '1991']\n",
      "Output: 2\n"
     ]
    }
   ],
   "source": [
    "def count_palindromic_strings(lst):\n",
    "    count = 0\n",
    "    for string in lst:\n",
    "        if len(string) > 2 and string == string[::-1]:\n",
    "            count += 1\n",
    "    return count\n",
    "\n",
    "input_list = ['ab', 'abc', 'aba', 'xyz', '1991']\n",
    "\n",
    "result = count_palindromic_strings(input_list)\n",
    "\n",
    "print(\"Input:\", input_list)\n",
    "print(\"Output:\", result)\n"
   ]
  },
  {
   "cell_type": "code",
   "execution_count": null,
   "metadata": {
    "id": "xs-ZGJbJ94gr"
   },
   "outputs": [],
   "source": [
    "#Write a Python program to sort a list in ascending order using loop.\n",
    "#Input:- [100,10,1,298,65,483,49876,2,80,9,9213]\n",
    "#Output:- [1,2,9,10,65,80,100,298,483,9213,49876]\n",
    "\n",
    "\n"
   ]
  },
  {
   "cell_type": "code",
   "execution_count": 6,
   "metadata": {},
   "outputs": [
    {
     "name": "stdout",
     "output_type": "stream",
     "text": [
      "Input: [1, 2, 9, 10, 65, 80, 100, 298, 483, 9213, 49876]\n"
     ]
    }
   ],
   "source": [
    "def sort_list_ascending(lst):\n",
    "    n = len(lst)\n",
    "    for i in range(n):\n",
    "        for j in range(0, n-i-1):\n",
    "            if lst[j] > lst[j+1]:\n",
    "                lst[j], lst[j+1] = lst[j+1], lst[j]\n",
    "\n",
    "input_list = [100, 10, 1, 298, 65, 483, 49876, 2, 80, 9, 9213]\n",
    "\n",
    "sort_list_ascending(input_list)\n",
    "\n",
    "print(\"Input:\", input_list)\n"
   ]
  },
  {
   "cell_type": "code",
   "execution_count": null,
   "metadata": {
    "id": "VhKQJizZ94kg"
   },
   "outputs": [],
   "source": [
    "#Write a Python program to get a sorted list in increasing order of last element in each tuple in a given list using loop.\n",
    "#Input:- [(5,4),(9,1),(2,3),(5,9),(7,6),(5,5)]\n",
    "#output:- [(9,1),(2,3),(5,4),(5,5),(7,6),(5,9)]\n",
    "\n",
    "\n"
   ]
  },
  {
   "cell_type": "code",
   "execution_count": 7,
   "metadata": {},
   "outputs": [
    {
     "name": "stdout",
     "output_type": "stream",
     "text": [
      "Input: [(9, 1), (2, 3), (5, 4), (5, 5), (7, 6), (5, 9)]\n"
     ]
    }
   ],
   "source": [
    "def sort_list_by_last_element(input_list):\n",
    "    n = len(input_list)\n",
    "    for i in range(n):\n",
    "        for j in range(0, n-i-1):\n",
    "            if input_list[j][-1] > input_list[j+1][-1]:\n",
    "                input_list[j], input_list[j+1] = input_list[j+1], input_list[j]\n",
    "\n",
    "# Example input\n",
    "input_list = [(5, 4), (9, 1), (2, 3), (5, 9), (7, 6), (5, 5)]\n",
    "\n",
    "# Sort the list by the last element in each tuple using the function\n",
    "sort_list_by_last_element(input_list)\n",
    "\n",
    "# Display the result\n",
    "print(\"Input:\", input_list)\n"
   ]
  },
  {
   "cell_type": "code",
   "execution_count": null,
   "metadata": {
    "id": "YJrCLYp694n_"
   },
   "outputs": [],
   "source": [
    "#Write a Python program to remove fuplicate element from a list using loop.\n",
    "#Input:- [10,1,11,1,29,876,768,10,11,1,92,29,876]\n",
    "#Output:- [10,1,11,29,876,768,92]\n",
    "\n",
    "\n"
   ]
  },
  {
   "cell_type": "code",
   "execution_count": 8,
   "metadata": {},
   "outputs": [
    {
     "name": "stdout",
     "output_type": "stream",
     "text": [
      "Input: [10, 1, 11, 1, 29, 876, 768, 10, 11, 1, 92, 29, 876]\n",
      "Output: [10, 1, 11, 29, 876, 768, 92]\n"
     ]
    }
   ],
   "source": [
    "def remove_duplicates(input_list):\n",
    "    unique_list = []\n",
    "    for element in input_list:\n",
    "        if element not in unique_list:\n",
    "            unique_list.append(element)\n",
    "    return unique_list\n",
    "\n",
    "# Example input\n",
    "input_list = [10, 1, 11, 1, 29, 876, 768, 10, 11, 1, 92, 29, 876]\n",
    "\n",
    "# Remove duplicates using the function\n",
    "result = remove_duplicates(input_list)\n",
    "\n",
    "# Display the result\n",
    "print(\"Input:\", input_list)\n",
    "print(\"Output:\", result)\n"
   ]
  },
  {
   "cell_type": "code",
   "execution_count": null,
   "metadata": {
    "id": "koYe4YCu94rh"
   },
   "outputs": [],
   "source": [
    "#Write a Python program to check a list is empty or not?\n",
    "#Input:- []\n",
    "#Output:- List is empty\n",
    "#Input:- [10,20,30]\n",
    "#Output:- List is not empty\n",
    "\n",
    "\n"
   ]
  },
  {
   "cell_type": "code",
   "execution_count": 9,
   "metadata": {},
   "outputs": [
    {
     "name": "stdout",
     "output_type": "stream",
     "text": [
      "Input: []\n",
      "Output: List is empty\n",
      "Input: [10, 20, 30]\n",
      "Output: List is not empty\n"
     ]
    }
   ],
   "source": [
    "def check_empty_list(input_list):\n",
    "    if not input_list:\n",
    "        return \"List is empty\"\n",
    "    else:\n",
    "        return \"List is not empty\"\n",
    "\n",
    "# Example input\n",
    "input_list1 = []\n",
    "input_list2 = [10, 20, 30]\n",
    "\n",
    "# Check if the list is empty using the function\n",
    "result1 = check_empty_list(input_list1)\n",
    "result2 = check_empty_list(input_list2)\n",
    "\n",
    "# Display the result\n",
    "print(\"Input:\", input_list1)\n",
    "print(\"Output:\", result1)\n",
    "\n",
    "print(\"Input:\", input_list2)\n",
    "print(\"Output:\", result2)\n"
   ]
  },
  {
   "cell_type": "code",
   "execution_count": null,
   "metadata": {
    "id": "mES1WANa94u5"
   },
   "outputs": [],
   "source": [
    "#Write a Python program to copy a list using loop.\n",
    "#inp_lst = [10,10.20,10+20j, 'Python', [10,20], (10,20)]\n",
    "#out_lst = [10,10.20,10+20j, 'Python', [10,20], (10,20)]\n",
    "\n",
    "\n"
   ]
  },
  {
   "cell_type": "code",
   "execution_count": 10,
   "metadata": {},
   "outputs": [
    {
     "name": "stdout",
     "output_type": "stream",
     "text": [
      "Input List: [10, 10.2, (10+20j), 'Python', [10, 20], (10, 20)]\n",
      "Output List: [10, 10.2, (10+20j), 'Python', [10, 20], (10, 20)]\n"
     ]
    }
   ],
   "source": [
    "def copy_list(input_list):\n",
    "    output_list = []\n",
    "    for element in input_list:\n",
    "        output_list.append(element)\n",
    "    return output_list\n",
    "\n",
    "# Example input\n",
    "inp_lst = [10, 10.20, 10 + 20j, 'Python', [10, 20], (10, 20)]\n",
    "\n",
    "# Copy the list using the function\n",
    "out_lst = copy_list(inp_lst)\n",
    "\n",
    "# Display the result\n",
    "print(\"Input List:\", inp_lst)\n",
    "print(\"Output List:\", out_lst)\n"
   ]
  },
  {
   "cell_type": "code",
   "execution_count": null,
   "metadata": {
    "id": "CpBh31WO94yi"
   },
   "outputs": [],
   "source": [
    "#Write a Python program to find the list of words that are longer than or equal to 4 from a given string.\n",
    "#Input:- 'How much wood would a woodchuck chuck if a woodchuck could chuck wood'\n",
    "#Output:- ['much', 'wood', 'would', 'woodchuck', 'chuck', 'could']\n",
    "#Note:- Duplicate should be avoided.\n",
    "\n",
    "\n"
   ]
  },
  {
   "cell_type": "code",
   "execution_count": 11,
   "metadata": {},
   "outputs": [
    {
     "name": "stdout",
     "output_type": "stream",
     "text": [
      "Input String: How much wood would a woodchuck chuck if a woodchuck could chuck wood\n",
      "Output List: ['could', 'would', 'much', 'chuck', 'woodchuck', 'wood']\n"
     ]
    }
   ],
   "source": [
    "def find_long_words(input_string):\n",
    "    words = input_string.split()\n",
    "    unique_long_words = list(set(word for word in words if len(word) >= 4))\n",
    "    return unique_long_words\n",
    "\n",
    "# Example input\n",
    "input_string = 'How much wood would a woodchuck chuck if a woodchuck could chuck wood'\n",
    "\n",
    "# Find long words using the function\n",
    "output_list = find_long_words(input_string)\n",
    "\n",
    "# Display the result\n",
    "print(\"Input String:\", input_string)\n",
    "print(\"Output List:\", output_list)\n"
   ]
  },
  {
   "cell_type": "code",
   "execution_count": null,
   "metadata": {
    "id": "YVfj0fgZ9416"
   },
   "outputs": [],
   "source": [
    "#Write a Python program which takes two list as input and returns True if they have at least 3 common elements.\n",
    "#inp_lst1 = [10,20,'Python', 10.20, 10+20j, [10,20,30], (10,20,30)]\n",
    "#inp_lst2 = [(10,20,30),1,20+3j,100.2, 10+20j, [10,20,30],'Python']\n",
    "#Output:- True\n",
    "\n",
    "\n"
   ]
  },
  {
   "cell_type": "code",
   "execution_count": 13,
   "metadata": {},
   "outputs": [
    {
     "name": "stdout",
     "output_type": "stream",
     "text": [
      "List 1: [10, 20, 'Python', 10.2, (10+20j), [10, 20, 30], (10, 20, 30)]\n",
      "List 2: [(10, 20, 30), 1, (20+3j), 100.2, (10+20j), [10, 20, 30], 'Python']\n",
      "Output: True\n"
     ]
    }
   ],
   "source": [
    "def have_at_least_3_common_elements(lst1, lst2):\n",
    "    common_count = 0\n",
    "    for element in lst1:\n",
    "        if element in lst2:\n",
    "            common_count += 1\n",
    "            if common_count >= 3:\n",
    "                return True\n",
    "    return False\n",
    "\n",
    "# Example inputs\n",
    "inp_lst1 = [10, 20, 'Python', 10.20, 10 + 20j, [10, 20, 30], (10, 20, 30)]\n",
    "inp_lst2 = [(10, 20, 30), 1, 20 + 3j, 100.2, 10 + 20j, [10, 20, 30], 'Python']\n",
    "\n",
    "# Check for at least 3 common elements using the function\n",
    "output = have_at_least_3_common_elements(inp_lst1, inp_lst2)\n",
    "\n",
    "# Display the result\n",
    "print(\"List 1:\", inp_lst1)\n",
    "print(\"List 2:\", inp_lst2)\n",
    "print(\"Output:\", output)\n"
   ]
  },
  {
   "cell_type": "code",
   "execution_count": 12,
   "metadata": {
    "id": "7vwc3pjR945O"
   },
   "outputs": [],
   "source": [
    "#Write a Python program to create a 4X4 2D matrix with below elements using loop and list comprehension both.\n",
    "#Output:- [[0,0,0,0],[0,1,2,3],[0,2,4,6],[0,3,6,9]]\n",
    "\n"
   ]
  },
  {
   "cell_type": "code",
   "execution_count": 14,
   "metadata": {},
   "outputs": [
    {
     "name": "stdout",
     "output_type": "stream",
     "text": [
      "Matrix using loop: [[0, 0, 0, 0], [0, 1, 2, 3], [0, 2, 4, 6], [0, 3, 6, 9]]\n"
     ]
    }
   ],
   "source": [
    "# Using Loop\n",
    "matrix_loop = []\n",
    "for i in range(4):\n",
    "    row = []\n",
    "    for j in range(4):\n",
    "        row.append(i * j)\n",
    "    matrix_loop.append(row)\n",
    "\n",
    "# Display the matrix created using loop\n",
    "print(\"Matrix using loop:\", matrix_loop)\n"
   ]
  },
  {
   "cell_type": "code",
   "execution_count": 13,
   "metadata": {
    "id": "Pxafor84948b"
   },
   "outputs": [],
   "source": [
    "#Write a Python program to create a 3X4X6 3D matrix wiith below elements using loop\n",
    "#Output:- \n",
    "# [\n",
    "#     [[0,0,0,0,0,0],[0,0,0,0,0,0],[0,0,0,0,0,0],[0,0,0,0,0,0]],\n",
    "#     [[0,0,0,0,0,0],[1,1,1,1,1,1],[2,2,2,2,2,2],[3,3,3,3,3,3]],\n",
    "#     [[0,0,0,0,0,0],[2,2,2,2,2,2],[4,4,4,4,4,4],[6,6,6,6,6,6]]\n",
    "# ]\n",
    "\n"
   ]
  },
  {
   "cell_type": "code",
   "execution_count": 15,
   "metadata": {},
   "outputs": [
    {
     "name": "stdout",
     "output_type": "stream",
     "text": [
      "[[0, 0, 0, 0, 0, 0], [0, 0, 0, 0, 0, 0], [0, 0, 0, 0, 0, 0], [0, 0, 0, 0, 0, 0]]\n",
      "[[0, 0, 0, 0, 0, 0], [1, 1, 1, 1, 1, 1], [2, 2, 2, 2, 2, 2], [3, 3, 3, 3, 3, 3]]\n",
      "[[0, 0, 0, 0, 0, 0], [2, 2, 2, 2, 2, 2], [4, 4, 4, 4, 4, 4], [6, 6, 6, 6, 6, 6]]\n"
     ]
    }
   ],
   "source": [
    "# Using Loop\n",
    "matrix_3d = []\n",
    "for i in range(3):\n",
    "    matrix_2d = []\n",
    "    for j in range(4):\n",
    "        matrix_1d = []\n",
    "        for k in range(6):\n",
    "            matrix_1d.append(i * j)\n",
    "        matrix_2d.append(matrix_1d)\n",
    "    matrix_3d.append(matrix_2d)\n",
    "\n",
    "# Display the 3D matrix created using loop\n",
    "for matrix_2d in matrix_3d:\n",
    "    print(matrix_2d)\n"
   ]
  },
  {
   "cell_type": "code",
   "execution_count": null,
   "metadata": {
    "id": "lYNv8gk794_p"
   },
   "outputs": [],
   "source": [
    "#Write a Python program which takes a list of numbers as input and prints a new list after removing even numbers from it.\n",
    "#Input:- [10,21,22,98,87,45,33,1,2,100]\n",
    "#Output:- [21,87,45,33,1]\n",
    "\n",
    "\n"
   ]
  },
  {
   "cell_type": "code",
   "execution_count": 16,
   "metadata": {
    "id": "3BaCb-rB95B7"
   },
   "outputs": [
    {
     "name": "stdout",
     "output_type": "stream",
     "text": [
      "Input: [10, 21, 22, 98, 87, 45, 33, 1, 2, 100]\n",
      "Output: [21, 87, 45, 33, 1]\n"
     ]
    }
   ],
   "source": [
    "\n",
    "\n",
    "def remove_even_numbers(input_list):\n",
    "    result_list = [num for num in input_list if num % 2 != 0]\n",
    "    return result_list\n",
    "\n",
    "# Example input\n",
    "input_list = [10, 21, 22, 98, 87, 45, 33, 1, 2, 100]\n",
    "\n",
    "# Remove even numbers using the function\n",
    "output_list = remove_even_numbers(input_list)\n",
    "\n",
    "# Display the result\n",
    "print(\"Input:\", input_list)\n",
    "print(\"Output:\", output_list)\n",
    "\n"
   ]
  },
  {
   "cell_type": "code",
   "execution_count": null,
   "metadata": {},
   "outputs": [],
   "source": []
  }
 ],
 "metadata": {
  "colab": {
   "name": "List_Assignment.ipynb",
   "provenance": []
  },
  "kernelspec": {
   "display_name": "Python 3 (ipykernel)",
   "language": "python",
   "name": "python3"
  },
  "language_info": {
   "codemirror_mode": {
    "name": "ipython",
    "version": 3
   },
   "file_extension": ".py",
   "mimetype": "text/x-python",
   "name": "python",
   "nbconvert_exporter": "python",
   "pygments_lexer": "ipython3",
   "version": "3.11.5"
  }
 },
 "nbformat": 4,
 "nbformat_minor": 1
}
