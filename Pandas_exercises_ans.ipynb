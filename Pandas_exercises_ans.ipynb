{
 "cells": [
  {
   "cell_type": "markdown",
   "metadata": {
    "id": "zeLOLmTj1kBM"
   },
   "source": [
    "### <a name='0'></a> Import of libraries"
   ]
  },
  {
   "cell_type": "code",
   "execution_count": null,
   "metadata": {
    "id": "HXMB7SMe1Wnz"
   },
   "outputs": [],
   "source": [
    "import numpy as np\n",
    "import pandas as pd\n",
    "\n",
    "pd.__version__"
   ]
  },
  {
   "cell_type": "markdown",
   "metadata": {
    "id": "cyc70pMe1oCg"
   },
   "source": [
    "### <a name='1'></a> Exercise 1\n",
    "From the list below:\n",
    "```\n",
    "stocks = ['PLW', 'CDR', '11B', 'TEN']\n",
    "```\n",
    "Create a Series object.\n",
    "\n",
    "__Expected result:__\n",
    "\n",
    "```\n",
    "0    PLW\n",
    "1    CDR\n",
    "2    11B\n",
    "3    TEN\n",
    "dtype: object\n",
    "```"
   ]
  },
  {
   "cell_type": "code",
   "execution_count": 1,
   "metadata": {
    "id": "jvw4LDdmNlin"
   },
   "outputs": [
    {
     "name": "stdout",
     "output_type": "stream",
     "text": [
      "0    PLW\n",
      "1    CDR\n",
      "2    11B\n",
      "3    TEN\n",
      "dtype: object\n"
     ]
    }
   ],
   "source": [
    "# enter solution here\n",
    "import pandas as pd\n",
    "\n",
    "stocks = ['PLW', 'CDR', '11B', 'TEN']\n",
    "series_object = pd.Series(stocks)\n",
    "\n",
    "print(series_object)\n"
   ]
  },
  {
   "cell_type": "markdown",
   "metadata": {
    "id": "J9pY1rtr1sC0"
   },
   "source": [
    "### <a name='2'></a> Exercise 2\n",
    "From the dictionary below:\n",
    "\n",
    "```\n",
    "stocks = {'PLW': 387.00, 'CDR': 339.5, 'TEN': 349.5, '11B': 391.0}\n",
    "```\n",
    "Create a Series object and assign it to the _quotations_ variable.\n",
    "\n",
    "__Expected result:__\n",
    "\n",
    "```\n",
    "PLW    387.0\n",
    "CDR    339.5\n",
    "TEN    349.5\n",
    "11B    391.0\n",
    "dtype: float64\n",
    "```\n",
    "\n"
   ]
  },
  {
   "cell_type": "code",
   "execution_count": 2,
   "metadata": {
    "id": "IudOIn6cN0UO"
   },
   "outputs": [
    {
     "name": "stdout",
     "output_type": "stream",
     "text": [
      "PLW    387.0\n",
      "CDR    339.5\n",
      "TEN    349.5\n",
      "11B    391.0\n",
      "dtype: float64\n"
     ]
    }
   ],
   "source": [
    "# enter solution here\n",
    "import pandas as pd\n",
    "\n",
    "stocks = {'PLW': 387.00, 'CDR': 339.5, 'TEN': 349.5, '11B': 391.0}\n",
    "quotations = pd.Series(stocks)\n",
    "\n",
    "print(quotations)\n"
   ]
  },
  {
   "cell_type": "markdown",
   "metadata": {
    "id": "XQLYT2m11wVG"
   },
   "source": [
    "### <a name='3'></a> Exercise 3\n",
    "\n",
    "Convert _quotations_ to a list.\n",
    "\n",
    "__Expected result:__\n",
    "```\n",
    "[387.0, 339.5, 349.5, 391.0]\n",
    "```"
   ]
  },
  {
   "cell_type": "code",
   "execution_count": 3,
   "metadata": {
    "id": "JDz_gfbcOBKG"
   },
   "outputs": [
    {
     "name": "stdout",
     "output_type": "stream",
     "text": [
      "[387.0, 339.5, 349.5, 391.0]\n"
     ]
    }
   ],
   "source": [
    "# enter solution here\n",
    "import pandas as pd\n",
    "\n",
    "stocks = {'PLW': 387.00, 'CDR': 339.5, 'TEN': 349.5, '11B': 391.0}\n",
    "quotations = pd.Series(stocks)\n",
    "\n",
    "quotations_list = quotations.tolist()\n",
    "\n",
    "print(quotations_list)\n"
   ]
  },
  {
   "cell_type": "markdown",
   "metadata": {
    "id": "4xTKSUzg10MK"
   },
   "source": [
    "### <a name='4'></a> Exercise 4\n",
    "Convert the _quotations_ object to the _DataFrame_ object. Set the column name to _price_."
   ]
  },
  {
   "cell_type": "code",
   "execution_count": 4,
   "metadata": {
    "id": "QyrLUIQVOI0I"
   },
   "outputs": [
    {
     "name": "stdout",
     "output_type": "stream",
     "text": [
      "     price\n",
      "PLW  387.0\n",
      "CDR  339.5\n",
      "TEN  349.5\n",
      "11B  391.0\n"
     ]
    }
   ],
   "source": [
    "# enter solution here\n",
    "import pandas as pd\n",
    "\n",
    "stocks = {'PLW': 387.00, 'CDR': 339.5, 'TEN': 349.5, '11B': 391.0}\n",
    "quotations = pd.Series(stocks)\n",
    "\n",
    "# Convert Series to DataFrame with column name 'price'\n",
    "quotations_df = quotations.to_frame(name='price')\n",
    "\n",
    "print(quotations_df)\n"
   ]
  },
  {
   "cell_type": "markdown",
   "metadata": {
    "id": "o3HKIKlP15Ro"
   },
   "source": [
    "### <a name='5'></a> Exercise 5\n",
    "Using the _numpy_ library, build the following _Series_ object:\n",
    "\n",
    "```\n",
    "101    10.0\n",
    "102    20.0\n",
    "103    30.0\n",
    "104    40.0\n",
    "105    50.0\n",
    "106    60.0\n",
    "107    70.0\n",
    "108    80.0\n",
    "109    90.0\n",
    "dtype: float64\n",
    "```"
   ]
  },
  {
   "cell_type": "code",
   "execution_count": 5,
   "metadata": {
    "id": "OAEIMF61OOWQ"
   },
   "outputs": [
    {
     "name": "stdout",
     "output_type": "stream",
     "text": [
      "101    10\n",
      "102    20\n",
      "103    30\n",
      "104    40\n",
      "105    50\n",
      "106    60\n",
      "107    70\n",
      "108    80\n",
      "109    90\n",
      "dtype: int32\n"
     ]
    }
   ],
   "source": [
    "# enter solution here\n",
    "import numpy as np\n",
    "import pandas as pd\n",
    "\n",
    "# Create a NumPy array with values\n",
    "values = np.arange(10, 100, 10)\n",
    "\n",
    "# Create a Series with the specified index and values\n",
    "series_object = pd.Series(values, index=np.arange(101, 110))\n",
    "\n",
    "print(series_object)\n"
   ]
  },
  {
   "cell_type": "markdown",
   "metadata": {
    "id": "PunXd_Ey16so"
   },
   "source": [
    "### <a name='6'></a> Exercise 6\n",
    "The following object of type _Series_ is given:\n",
    "```\n",
    "series = pd.Series(['001', '002', '003', '004'], list('abcd'))\n",
    "```\n",
    "Convert object type _series_ to _int_ values.\n",
    "\n"
   ]
  },
  {
   "cell_type": "code",
   "execution_count": 7,
   "metadata": {
    "id": "FeWykLVAOm3t"
   },
   "outputs": [
    {
     "name": "stdout",
     "output_type": "stream",
     "text": [
      "a    1\n",
      "b    2\n",
      "c    3\n",
      "d    4\n",
      "dtype: int32\n"
     ]
    }
   ],
   "source": [
    "# enter solution here\n",
    "import pandas as pd\n",
    "\n",
    "series = pd.Series(['001', '002', '003', '004'], list('abcd'))\n",
    "\n",
    "# Convert string values to integers\n",
    "series_int = series.astype(int)\n",
    "\n",
    "print(series_int)\n"
   ]
  },
  {
   "cell_type": "markdown",
   "metadata": {
    "id": "_6bOUH4SOqse"
   },
   "source": [
    "Convert object type _series_ to _float_ values."
   ]
  },
  {
   "cell_type": "code",
   "execution_count": null,
   "metadata": {
    "id": "gDBgJSQPOsYC"
   },
   "outputs": [],
   "source": [
    "# enter solution here"
   ]
  },
  {
   "cell_type": "markdown",
   "metadata": {
    "id": "hOhqDRz618Tx"
   },
   "source": [
    "### <a name='7'></a> Exercise 7\n",
    "To the following _quotations_ object:\n",
    "```\n",
    "stocks = {'PLW': 387.00, 'CDR': 339.5, 'TEN': 349.5, '11B': 391.0}\n",
    "quotations = pd.Series(data=stocks)\n",
    "```\n",
    "Add two elements:\n",
    "* key: BBT, value: 25.5\n",
    "* key: F51, value: 19.2\n",
    "\n",
    "__Expected result:__\n",
    "```\n",
    "PLW    387.0\n",
    "CDR    339.5\n",
    "TEN    349.5\n",
    "11B    391.0\n",
    "BBT     25.5\n",
    "F51     19.2\n",
    "dtype: float64\n",
    "```\n"
   ]
  },
  {
   "cell_type": "code",
   "execution_count": null,
   "metadata": {
    "id": "rNm1p2iGPA_T"
   },
   "outputs": [],
   "source": [
    "# enter solution here"
   ]
  },
  {
   "cell_type": "markdown",
   "metadata": {
    "id": "TXUd_4631-gw"
   },
   "source": [
    "### <a name='8'></a> Exercise 8\n",
    "Convert the _quotations_ object from the previous exercise to an _DataFrame_ object. Reset the index and name the columns '_ticker_' and _'price'_."
   ]
  },
  {
   "cell_type": "code",
   "execution_count": 8,
   "metadata": {
    "id": "v3VyxIyDPHIB"
   },
   "outputs": [
    {
     "name": "stdout",
     "output_type": "stream",
     "text": [
      "PLW    387.0\n",
      "CDR    339.5\n",
      "TEN    349.5\n",
      "11B    391.0\n",
      "BBT     25.5\n",
      "F51     19.2\n",
      "dtype: float64\n"
     ]
    }
   ],
   "source": [
    "# enter solution here\n",
    "import pandas as pd\n",
    "\n",
    "stocks = {'PLW': 387.00, 'CDR': 339.5, 'TEN': 349.5, '11B': 391.0}\n",
    "quotations = pd.Series(data=stocks)\n",
    "\n",
    "# Add new elements\n",
    "quotations.loc['BBT'] = 25.5\n",
    "quotations.loc['F51'] = 19.2\n",
    "\n",
    "print(quotations)\n"
   ]
  },
  {
   "cell_type": "markdown",
   "metadata": {
    "id": "tgI6xEn-2AQo"
   },
   "source": [
    "### <a name='9'></a> Exercise 9\n",
    "\n",
    "Build the _DataFrame_ object below and assign it to the _companies_ variable:\n",
    "\n",
    "|    | company   |   price | ticker   |\n",
    "|---:|:----------|--------:|:---------|\n",
    "|  0 | Amazon    |  2375   | AMZN.US  |\n",
    "|  1 | Microsoft |   178.6 | MSFT.US  |\n",
    "|  2 | Facebook  |   179.2 | FB.US    |\n"
   ]
  },
  {
   "cell_type": "code",
   "execution_count": 9,
   "metadata": {
    "id": "_9M05ezFPOVz"
   },
   "outputs": [
    {
     "name": "stdout",
     "output_type": "stream",
     "text": [
      "     company   price   ticker\n",
      "0     Amazon  2375.0  AMZN.US\n",
      "1  Microsoft   178.6  MSFT.US\n",
      "2   Facebook   179.2    FB.US\n"
     ]
    }
   ],
   "source": [
    "# enter solution here\n",
    "import pandas as pd\n",
    "\n",
    "data = {\n",
    "    'company': ['Amazon', 'Microsoft', 'Facebook'],\n",
    "    'price': [2375, 178.6, 179.2],\n",
    "    'ticker': ['AMZN.US', 'MSFT.US', 'FB.US']\n",
    "}\n",
    "\n",
    "companies = pd.DataFrame(data)\n",
    "\n",
    "print(companies)\n"
   ]
  },
  {
   "cell_type": "markdown",
   "metadata": {
    "id": "wxhpf-uq2B1I"
   },
   "source": [
    "### <a name='10'></a> Exercise 10\n",
    "Convert the first column of the _companies_ object to an index.\n"
   ]
  },
  {
   "cell_type": "code",
   "execution_count": 10,
   "metadata": {
    "id": "YFc0KW6URsuc"
   },
   "outputs": [
    {
     "name": "stdout",
     "output_type": "stream",
     "text": [
      "            price   ticker\n",
      "company                   \n",
      "Amazon     2375.0  AMZN.US\n",
      "Microsoft   178.6  MSFT.US\n",
      "Facebook    179.2    FB.US\n"
     ]
    }
   ],
   "source": [
    "# enter solution here\n",
    "import pandas as pd\n",
    "\n",
    "data = {\n",
    "    'company': ['Amazon', 'Microsoft', 'Facebook'],\n",
    "    'price': [2375, 178.6, 179.2],\n",
    "    'ticker': ['AMZN.US', 'MSFT.US', 'FB.US']\n",
    "}\n",
    "\n",
    "companies = pd.DataFrame(data)\n",
    "\n",
    "# Set the 'company' column as the index\n",
    "companies.set_index('company', inplace=True)\n",
    "\n",
    "print(companies)\n"
   ]
  },
  {
   "cell_type": "markdown",
   "metadata": {
    "id": "nW_9JLS5PVSu"
   },
   "source": [
    "Extract row for company _Facebook_ from object _companies_."
   ]
  },
  {
   "cell_type": "code",
   "execution_count": 11,
   "metadata": {
    "id": "iDCnF7iUPTJf"
   },
   "outputs": [
    {
     "name": "stdout",
     "output_type": "stream",
     "text": [
      "price     179.2\n",
      "ticker    FB.US\n",
      "Name: Facebook, dtype: object\n"
     ]
    }
   ],
   "source": [
    "# enter solution here\n",
    "import pandas as pd\n",
    "\n",
    "data = {\n",
    "    'company': ['Amazon', 'Microsoft', 'Facebook'],\n",
    "    'price': [2375, 178.6, 179.2],\n",
    "    'ticker': ['AMZN.US', 'MSFT.US', 'FB.US']\n",
    "}\n",
    "\n",
    "companies = pd.DataFrame(data)\n",
    "\n",
    "# Set the 'company' column as the index\n",
    "companies.set_index('company', inplace=True)\n",
    "\n",
    "# Extract row for 'Facebook'\n",
    "facebook_row = companies.loc['Facebook']\n",
    "\n",
    "print(facebook_row)\n"
   ]
  },
  {
   "cell_type": "markdown",
   "metadata": {
    "id": "D1qn3t5HPZwg"
   },
   "source": [
    "Extract price for _Microsoft_"
   ]
  },
  {
   "cell_type": "code",
   "execution_count": 12,
   "metadata": {
    "id": "FcPjSj7dPXwn"
   },
   "outputs": [
    {
     "name": "stdout",
     "output_type": "stream",
     "text": [
      "178.6\n"
     ]
    }
   ],
   "source": [
    "# enter solution here\n",
    "import pandas as pd\n",
    "\n",
    "data = {\n",
    "    'company': ['Amazon', 'Microsoft', 'Facebook'],\n",
    "    'price': [2375, 178.6, 179.2],\n",
    "    'ticker': ['AMZN.US', 'MSFT.US', 'FB.US']\n",
    "}\n",
    "\n",
    "companies = pd.DataFrame(data)\n",
    "\n",
    "# Set the 'company' column as the index\n",
    "companies.set_index('company', inplace=True)\n",
    "\n",
    "# Extract price for 'Microsoft'\n",
    "microsoft_price = companies.loc['Microsoft', 'price']\n",
    "\n",
    "print(microsoft_price)\n"
   ]
  },
  {
   "cell_type": "markdown",
   "metadata": {
    "id": "o5oSXPQ78hEL"
   },
   "source": [
    "### <a name='1'></a> Exercise 11\n",
    "Build the _DatetimeIndex_ object containing the `yyyy-mm-dd` format dates for all days from January 2020 and assign it to the _date_range_ variable.\n",
    "\n",
    "__Expected result:__\n",
    "```\n",
    "DatetimeIndex(['2020-01-01', '2020-01-02', '2020-01-03', '2020-01-04',\n",
    "               '2020-01-05', '2020-01-06', '2020-01-07', '2020-01-08',\n",
    "               '2020-01-09', '2020-01-10', '2020-01-11', '2020-01-12',\n",
    "               '2020-01-13', '2020-01-14', '2020-01-15', '2020-01-16',\n",
    "               '2020-01-17', '2020-01-18', '2020-01-19', '2020-01-20',\n",
    "               '2020-01-21', '2020-01-22', '2020-01-23', '2020-01-24',\n",
    "               '2020-01-25', '2020-01-26', '2020-01-27', '2020-01-28',\n",
    "               '2020-01-29', '2020-01-30', '2020-01-31'],\n",
    "              dtype='datetime64[ns]', freq='D')\n",
    "```"
   ]
  },
  {
   "cell_type": "code",
   "execution_count": 13,
   "metadata": {
    "id": "b7OtQsCU8jgL"
   },
   "outputs": [
    {
     "name": "stdout",
     "output_type": "stream",
     "text": [
      "DatetimeIndex(['2020-01-01', '2020-01-02', '2020-01-03', '2020-01-04',\n",
      "               '2020-01-05', '2020-01-06', '2020-01-07', '2020-01-08',\n",
      "               '2020-01-09', '2020-01-10', '2020-01-11', '2020-01-12',\n",
      "               '2020-01-13', '2020-01-14', '2020-01-15', '2020-01-16',\n",
      "               '2020-01-17', '2020-01-18', '2020-01-19', '2020-01-20',\n",
      "               '2020-01-21', '2020-01-22', '2020-01-23', '2020-01-24',\n",
      "               '2020-01-25', '2020-01-26', '2020-01-27', '2020-01-28',\n",
      "               '2020-01-29', '2020-01-30', '2020-01-31'],\n",
      "              dtype='datetime64[ns]', freq='D')\n"
     ]
    }
   ],
   "source": [
    "# enter solution here\n",
    "import pandas as pd\n",
    "\n",
    "# Create DatetimeIndex object for all days in January 2020\n",
    "date_range = pd.date_range(start='2020-01-01', end='2020-01-31', freq='D')\n",
    "\n",
    "print(date_range)\n"
   ]
  },
  {
   "cell_type": "markdown",
   "metadata": {
    "id": "nduUqx2x8kHF"
   },
   "source": [
    "Build the _Series_ object from the _date_range_ variable."
   ]
  },
  {
   "cell_type": "code",
   "execution_count": null,
   "metadata": {
    "id": "ZADqDXDV8oZ2"
   },
   "outputs": [],
   "source": [
    "pd.Series(date_range)"
   ]
  },
  {
   "cell_type": "markdown",
   "metadata": {
    "id": "sMTpBnvT8qgz"
   },
   "source": [
    "### <a name='2'></a> Exercise 12\n",
    "Build the _DatetimeIndex_ object containing the dates in the `yyyy-mm-dd` format for all Mondays from 2020 and assign it to the _date_range_ variable."
   ]
  },
  {
   "cell_type": "code",
   "execution_count": 14,
   "metadata": {
    "id": "80YZspr48sjz"
   },
   "outputs": [
    {
     "name": "stdout",
     "output_type": "stream",
     "text": [
      "DatetimeIndex(['2020-01-06', '2020-01-13', '2020-01-20', '2020-01-27',\n",
      "               '2020-02-03', '2020-02-10', '2020-02-17', '2020-02-24',\n",
      "               '2020-03-02', '2020-03-09', '2020-03-16', '2020-03-23',\n",
      "               '2020-03-30', '2020-04-06', '2020-04-13', '2020-04-20',\n",
      "               '2020-04-27', '2020-05-04', '2020-05-11', '2020-05-18',\n",
      "               '2020-05-25', '2020-06-01', '2020-06-08', '2020-06-15',\n",
      "               '2020-06-22', '2020-06-29', '2020-07-06', '2020-07-13',\n",
      "               '2020-07-20', '2020-07-27', '2020-08-03', '2020-08-10',\n",
      "               '2020-08-17', '2020-08-24', '2020-08-31', '2020-09-07',\n",
      "               '2020-09-14', '2020-09-21', '2020-09-28', '2020-10-05',\n",
      "               '2020-10-12', '2020-10-19', '2020-10-26', '2020-11-02',\n",
      "               '2020-11-09', '2020-11-16', '2020-11-23', '2020-11-30',\n",
      "               '2020-12-07', '2020-12-14', '2020-12-21', '2020-12-28'],\n",
      "              dtype='datetime64[ns]', freq='W-MON')\n"
     ]
    }
   ],
   "source": [
    "# enter solution here\n",
    "import pandas as pd\n",
    "\n",
    "# Create DatetimeIndex object for all Mondays in 2020\n",
    "date_range = pd.date_range(start='2020-01-01', end='2020-12-31', freq='W-MON')\n",
    "\n",
    "print(date_range)\n"
   ]
  },
  {
   "cell_type": "markdown",
   "metadata": {
    "id": "-bb3wRXm8upE"
   },
   "source": [
    "### <a name='3'></a> Exercise 13\n",
    "Build the _DatetimeIndex_ object containing the dates in the format `yyyy-mm-dd hh: mm: ss` for January 1, 2021 with a time interval of 1h and assign to the variable _date_range_.\n",
    "\n",
    "__Expected result:__\n",
    "```\n",
    "DatetimeIndex(['2021-01-01 00:00:00', '2021-01-01 01:00:00',\n",
    "               '2021-01-01 02:00:00', '2021-01-01 03:00:00',\n",
    "               '2021-01-01 04:00:00', '2021-01-01 05:00:00',\n",
    "               '2021-01-01 06:00:00', '2021-01-01 07:00:00',\n",
    "               '2021-01-01 08:00:00', '2021-01-01 09:00:00',\n",
    "               '2021-01-01 10:00:00', '2021-01-01 11:00:00',\n",
    "               '2021-01-01 12:00:00', '2021-01-01 13:00:00',\n",
    "               '2021-01-01 14:00:00', '2021-01-01 15:00:00',\n",
    "               '2021-01-01 16:00:00', '2021-01-01 17:00:00',\n",
    "               '2021-01-01 18:00:00', '2021-01-01 19:00:00',\n",
    "               '2021-01-01 20:00:00', '2021-01-01 21:00:00',\n",
    "               '2021-01-01 22:00:00', '2021-01-01 23:00:00'],\n",
    "              dtype='datetime64[ns]', freq='H')\n",
    "```"
   ]
  },
  {
   "cell_type": "code",
   "execution_count": 15,
   "metadata": {
    "id": "NJ5KrsHm8yAn"
   },
   "outputs": [
    {
     "name": "stdout",
     "output_type": "stream",
     "text": [
      "DatetimeIndex(['2021-01-01 00:00:00', '2021-01-01 01:00:00',\n",
      "               '2021-01-01 02:00:00', '2021-01-01 03:00:00',\n",
      "               '2021-01-01 04:00:00', '2021-01-01 05:00:00',\n",
      "               '2021-01-01 06:00:00', '2021-01-01 07:00:00',\n",
      "               '2021-01-01 08:00:00', '2021-01-01 09:00:00',\n",
      "               '2021-01-01 10:00:00', '2021-01-01 11:00:00',\n",
      "               '2021-01-01 12:00:00', '2021-01-01 13:00:00',\n",
      "               '2021-01-01 14:00:00', '2021-01-01 15:00:00',\n",
      "               '2021-01-01 16:00:00', '2021-01-01 17:00:00',\n",
      "               '2021-01-01 18:00:00', '2021-01-01 19:00:00',\n",
      "               '2021-01-01 20:00:00', '2021-01-01 21:00:00',\n",
      "               '2021-01-01 22:00:00', '2021-01-01 23:00:00'],\n",
      "              dtype='datetime64[ns]', freq='H')\n"
     ]
    }
   ],
   "source": [
    "# enter solution here\n",
    "import pandas as pd\n",
    "\n",
    "# Create DatetimeIndex object for January 1, 2021 with hourly intervals\n",
    "date_range = pd.date_range(start='2021-01-01 00:00:00', end='2021-01-01 23:00:00', freq='H')\n",
    "\n",
    "print(date_range)\n"
   ]
  },
  {
   "cell_type": "markdown",
   "metadata": {
    "id": "vLdC1xmM80OB"
   },
   "source": [
    "### <a name='4'></a> Exercise 14\n",
    "Build the _DataFrame_ object below.\n",
    "\n",
    "__Tips:__ The _day_ column contains dates from March 1, 2021 to March 31, 2021. The column _day_of_year_ is the day number of the whole year.\n",
    "\n",
    "```\n",
    "      day\t       day_of_year\n",
    " 0\t2021-03-01\t60\n",
    " 1\t2021-03-02\t61\n",
    " 2\t2021-03-03\t62\n",
    " 3\t2021-03-04\t63\n",
    " 4\t2021-03-05\t64\n",
    " 5\t2021-03-06\t65\n",
    " 6\t2021-03-07\t66\n",
    " 7\t2021-03-08\t67\n",
    " 8\t2021-03-09\t68\n",
    " 9\t2021-03-10\t69\n",
    "10\t2021-03-11\t70\n",
    "11\t2021-03-12\t71\n",
    "12\t2021-03-13\t72\n",
    "13\t2021-03-14\t73\n",
    "14\t2021-03-15\t74\n",
    "15\t2021-03-16\t75\n",
    "16\t2021-03-17\t76\n",
    "17\t2021-03-18\t77\n",
    "18\t2021-03-19\t78\n",
    "19\t2021-03-20\t79\n",
    "20\t2021-03-21\t80\n",
    "21\t2021-03-22\t81\n",
    "22\t2021-03-23\t82\n",
    "23\t2021-03-24\t83\n",
    "24\t2021-03-25\t84\n",
    "25\t2021-03-26\t85\n",
    "26\t2021-03-27\t86\n",
    "27\t2021-03-28\t87\n",
    "28\t2021-03-29\t88\n",
    "29\t2021-03-30\t89\n",
    "30\t2021-03-31\t90\n",
    "```"
   ]
  },
  {
   "cell_type": "code",
   "execution_count": null,
   "metadata": {
    "id": "SUxUK1Lk82mb"
   },
   "outputs": [],
   "source": [
    "# enter solution here"
   ]
  },
  {
   "cell_type": "markdown",
   "metadata": {
    "id": "iN5PmfQB85zj"
   },
   "source": [
    "### <a name='5'></a> Exercise 15\n",
    "\n",
    "The following _data_dict_ dictionary is given.\n",
    "```\n",
    "data_dict = {\n",
    "    'normal': np.random.normal(loc=0, scale=1, size=1000),\n",
    "    'uniform': np.random.uniform(low=0, high=1, size=1000),\n",
    "    'binomial': np.random.binomial(n=1, p=0.2, size=1000)\n",
    "}\n",
    "```\n",
    "Build the _DateFrame_ object from this dictionary. Additionally, as an index, add a date from 01/01/2020 and assign it to the _df_ variable.\n",
    "\n"
   ]
  },
  {
   "cell_type": "code",
   "execution_count": 16,
   "metadata": {
    "id": "awKld_vA8767"
   },
   "outputs": [
    {
     "name": "stdout",
     "output_type": "stream",
     "text": [
      "              normal   uniform  binomial\n",
      "2020-01-01 -0.307819  0.253248         0\n",
      "2020-01-02  0.558073  0.270452         0\n",
      "2020-01-03 -0.373370  0.119193         0\n",
      "2020-01-04 -0.487923  0.471228         0\n",
      "2020-01-05 -0.051410  0.172622         1\n"
     ]
    }
   ],
   "source": [
    "import pandas as pd\n",
    "import numpy as np\n",
    "\n",
    "# Given data_dict\n",
    "data_dict = {\n",
    "    'normal': np.random.normal(loc=0, scale=1, size=1000),\n",
    "    'uniform': np.random.uniform(low=0, high=1, size=1000),\n",
    "    'binomial': np.random.binomial(n=1, p=0.2, size=1000)\n",
    "}\n",
    "\n",
    "# Create a DataFrame with the given data_dict\n",
    "df = pd.DataFrame(data_dict)\n",
    "\n",
    "# Create a date index starting from 01/01/2020\n",
    "date_index = pd.date_range(start='2020-01-01', periods=len(df), freq='D')\n",
    "\n",
    "# Assign the date index to the DataFrame\n",
    "df.index = date_index\n",
    "\n",
    "print(df.head())\n"
   ]
  },
  {
   "cell_type": "markdown",
   "metadata": {
    "id": "4LKyb8Di8-Af"
   },
   "source": [
    "### <a name='6'></a> Exercise 16\n",
    "Display the first 10 rows of the _df_ object from the previous exercise."
   ]
  },
  {
   "cell_type": "code",
   "execution_count": 17,
   "metadata": {
    "id": "GjfsoSiL8_9-"
   },
   "outputs": [
    {
     "name": "stdout",
     "output_type": "stream",
     "text": [
      "              normal   uniform  binomial\n",
      "2020-01-01 -0.307819  0.253248         0\n",
      "2020-01-02  0.558073  0.270452         0\n",
      "2020-01-03 -0.373370  0.119193         0\n",
      "2020-01-04 -0.487923  0.471228         0\n",
      "2020-01-05 -0.051410  0.172622         1\n",
      "2020-01-06  1.199974  0.262545         0\n",
      "2020-01-07 -0.487942  0.504333         0\n",
      "2020-01-08  0.523630  0.879309         0\n",
      "2020-01-09  0.525664  0.772708         0\n",
      "2020-01-10  1.847373  0.742539         0\n"
     ]
    }
   ],
   "source": [
    "# enter solution here\n",
    "print(df.head(10))\n"
   ]
  },
  {
   "cell_type": "markdown",
   "metadata": {
    "id": "l_LahygH9nti"
   },
   "source": [
    "Display the last 8 rows of the df object from the previous exercise."
   ]
  },
  {
   "cell_type": "code",
   "execution_count": 18,
   "metadata": {
    "id": "wBCOI_Rd9p6L"
   },
   "outputs": [
    {
     "name": "stdout",
     "output_type": "stream",
     "text": [
      "              normal   uniform  binomial\n",
      "2022-09-19  1.019727  0.748717         0\n",
      "2022-09-20 -2.404016  0.506748         0\n",
      "2022-09-21  0.398720  0.936692         1\n",
      "2022-09-22 -0.138305  0.243039         0\n",
      "2022-09-23  0.073300  0.771461         0\n",
      "2022-09-24 -0.321206  0.021325         1\n",
      "2022-09-25 -0.019958  0.101751         0\n",
      "2022-09-26 -0.065731  0.486175         0\n"
     ]
    }
   ],
   "source": [
    "# enter solution here\n",
    "print(df.tail(8))"
   ]
  },
  {
   "cell_type": "markdown",
   "metadata": {
    "id": "nJZmw0zN9sYb"
   },
   "source": [
    "### <a name='7'></a> Exercise 17\n",
    "Display basic information about the _df_ object (number of rows, number of columns, type of variables)."
   ]
  },
  {
   "cell_type": "code",
   "execution_count": 19,
   "metadata": {
    "id": "8LyzrE4L9uaO"
   },
   "outputs": [
    {
     "name": "stdout",
     "output_type": "stream",
     "text": [
      "<class 'pandas.core.frame.DataFrame'>\n",
      "DatetimeIndex: 1000 entries, 2020-01-01 to 2022-09-26\n",
      "Freq: D\n",
      "Data columns (total 3 columns):\n",
      " #   Column    Non-Null Count  Dtype  \n",
      "---  ------    --------------  -----  \n",
      " 0   normal    1000 non-null   float64\n",
      " 1   uniform   1000 non-null   float64\n",
      " 2   binomial  1000 non-null   int32  \n",
      "dtypes: float64(2), int32(1)\n",
      "memory usage: 27.3 KB\n"
     ]
    }
   ],
   "source": [
    "# enter solution here\n",
    "df.info()\n"
   ]
  },
  {
   "cell_type": "markdown",
   "metadata": {
    "id": "dPfZaIFH-Whh"
   },
   "source": [
    "Display basic statistics of _df_ (mean value, deviation, min, max, median)."
   ]
  },
  {
   "cell_type": "code",
   "execution_count": 20,
   "metadata": {
    "id": "5Nnwg8ZN-cND"
   },
   "outputs": [
    {
     "data": {
      "text/html": [
       "<div>\n",
       "<style scoped>\n",
       "    .dataframe tbody tr th:only-of-type {\n",
       "        vertical-align: middle;\n",
       "    }\n",
       "\n",
       "    .dataframe tbody tr th {\n",
       "        vertical-align: top;\n",
       "    }\n",
       "\n",
       "    .dataframe thead th {\n",
       "        text-align: right;\n",
       "    }\n",
       "</style>\n",
       "<table border=\"1\" class=\"dataframe\">\n",
       "  <thead>\n",
       "    <tr style=\"text-align: right;\">\n",
       "      <th></th>\n",
       "      <th>normal</th>\n",
       "      <th>uniform</th>\n",
       "      <th>binomial</th>\n",
       "    </tr>\n",
       "  </thead>\n",
       "  <tbody>\n",
       "    <tr>\n",
       "      <th>count</th>\n",
       "      <td>1000.000000</td>\n",
       "      <td>1000.000000</td>\n",
       "      <td>1000.000000</td>\n",
       "    </tr>\n",
       "    <tr>\n",
       "      <th>mean</th>\n",
       "      <td>0.009910</td>\n",
       "      <td>0.497757</td>\n",
       "      <td>0.187000</td>\n",
       "    </tr>\n",
       "    <tr>\n",
       "      <th>std</th>\n",
       "      <td>1.029588</td>\n",
       "      <td>0.287721</td>\n",
       "      <td>0.390107</td>\n",
       "    </tr>\n",
       "    <tr>\n",
       "      <th>min</th>\n",
       "      <td>-4.276907</td>\n",
       "      <td>0.000358</td>\n",
       "      <td>0.000000</td>\n",
       "    </tr>\n",
       "    <tr>\n",
       "      <th>25%</th>\n",
       "      <td>-0.666889</td>\n",
       "      <td>0.239676</td>\n",
       "      <td>0.000000</td>\n",
       "    </tr>\n",
       "    <tr>\n",
       "      <th>50%</th>\n",
       "      <td>0.028735</td>\n",
       "      <td>0.493103</td>\n",
       "      <td>0.000000</td>\n",
       "    </tr>\n",
       "    <tr>\n",
       "      <th>75%</th>\n",
       "      <td>0.747598</td>\n",
       "      <td>0.749002</td>\n",
       "      <td>0.000000</td>\n",
       "    </tr>\n",
       "    <tr>\n",
       "      <th>max</th>\n",
       "      <td>3.178414</td>\n",
       "      <td>0.999211</td>\n",
       "      <td>1.000000</td>\n",
       "    </tr>\n",
       "  </tbody>\n",
       "</table>\n",
       "</div>"
      ],
      "text/plain": [
       "            normal      uniform     binomial\n",
       "count  1000.000000  1000.000000  1000.000000\n",
       "mean      0.009910     0.497757     0.187000\n",
       "std       1.029588     0.287721     0.390107\n",
       "min      -4.276907     0.000358     0.000000\n",
       "25%      -0.666889     0.239676     0.000000\n",
       "50%       0.028735     0.493103     0.000000\n",
       "75%       0.747598     0.749002     0.000000\n",
       "max       3.178414     0.999211     1.000000"
      ]
     },
     "execution_count": 20,
     "metadata": {},
     "output_type": "execute_result"
    }
   ],
   "source": [
    "# enter solution here\n",
    "df.describe()"
   ]
  },
  {
   "cell_type": "markdown",
   "metadata": {
    "id": "WPenSCfS-jGC"
   },
   "source": [
    "### <a name='8'></a> Exercise 18\n",
    "Import the _seaborn_ library for data visualization."
   ]
  },
  {
   "cell_type": "code",
   "execution_count": null,
   "metadata": {
    "id": "URRO-cNR-wr6"
   },
   "outputs": [],
   "source": [
    "import seaborn as sns\n",
    "\n",
    "sns.set()"
   ]
  },
  {
   "cell_type": "markdown",
   "metadata": {
    "id": "mTQvrDCT-yit"
   },
   "source": [
    "Using the _pd.DataFrame.plot_ method, build histograms for the next three variables.\n",
    "* normal (20 bins)"
   ]
  },
  {
   "cell_type": "code",
   "execution_count": 21,
   "metadata": {
    "id": "7X5CNQpm-0Pd"
   },
   "outputs": [
    {
     "data": {
      "image/png": "[encoded data removed]",
      "text/plain": [
       "<Figure size 720x432 with 1 Axes>"
      ]
     },
     "metadata": {},
     "output_type": "display_data"
    }
   ],
   "source": [
    "# enter solution here\n",
    "\n",
    "import seaborn as sns\n",
    "import matplotlib.pyplot as plt\n",
    "\n",
    "# Set Seaborn style\n",
    "sns.set(style=\"whitegrid\")\n",
    "\n",
    "# Plot histogram for 'normal' variable with 20 bins\n",
    "df['normal'].plot(kind='hist', bins=20, edgecolor='black', figsize=(10, 6), color='skyblue')\n",
    "\n",
    "# Set plot title and labels\n",
    "plt.title('Histogram for Variable \"normal\"', fontsize=16)\n",
    "plt.xlabel('Value', fontsize=12)\n",
    "plt.ylabel('Frequency', fontsize=12)\n",
    "\n",
    "# Show the plot\n",
    "plt.show()\n"
   ]
  },
  {
   "cell_type": "markdown",
   "metadata": {
    "id": "G4jO16AF_TBq"
   },
   "source": [
    "* uniform (30 bins)"
   ]
  },
  {
   "cell_type": "code",
   "execution_count": 22,
   "metadata": {
    "id": "mFcPEOVr_ZNp"
   },
   "outputs": [
    {
     "data": {
      "image/png": "[encoded data removed]",
      "text/plain": [
       "<Figure size 720x432 with 1 Axes>"
      ]
     },
     "metadata": {},
     "output_type": "display_data"
    }
   ],
   "source": [
    "# enter solution here\n",
    "import seaborn as sns\n",
    "import matplotlib.pyplot as plt\n",
    "\n",
    "# Set Seaborn style\n",
    "sns.set(style=\"whitegrid\")\n",
    "\n",
    "# Plot histogram for 'uniform' variable with 30 bins\n",
    "df['uniform'].plot(kind='hist', bins=30, edgecolor='black', figsize=(10, 6), color='lightcoral')\n",
    "\n",
    "# Set plot title and labels\n",
    "plt.title('Histogram for Variable \"uniform\"', fontsize=16)\n",
    "plt.xlabel('Value', fontsize=12)\n",
    "plt.ylabel('Frequency', fontsize=12)\n",
    "\n",
    "# Show the plot\n",
    "plt.show()\n"
   ]
  },
  {
   "cell_type": "markdown",
   "metadata": {
    "id": "vidrjBft_VVC"
   },
   "source": [
    "* binomial"
   ]
  },
  {
   "cell_type": "code",
   "execution_count": 23,
   "metadata": {
    "id": "9cofOyRd_a3Z"
   },
   "outputs": [
    {
     "data": {
      "image/png": "[encoded data removed]",
      "text/plain": [
       "<Figure size 720x432 with 1 Axes>"
      ]
     },
     "metadata": {},
     "output_type": "display_data"
    }
   ],
   "source": [
    "# enter solution here\n",
    "import seaborn as sns\n",
    "import matplotlib.pyplot as plt\n",
    "\n",
    "# Set Seaborn style\n",
    "sns.set(style=\"whitegrid\")\n",
    "\n",
    "# Plot histogram for 'binomial' variable\n",
    "df['binomial'].plot(kind='hist', edgecolor='black', figsize=(10, 6), color='lightgreen')\n",
    "\n",
    "# Set plot title and labels\n",
    "plt.title('Histogram for Variable \"binomial\"', fontsize=16)\n",
    "plt.xlabel('Value', fontsize=12)\n",
    "plt.ylabel('Frequency', fontsize=12)\n",
    "\n",
    "# Show the plot\n",
    "plt.show()\n"
   ]
  },
  {
   "cell_type": "markdown",
   "metadata": {
    "id": "BYpj6MOV_YAS"
   },
   "source": [
    "### <a name='9'></a> Exercise 19\n",
    "Save the _df_ object to the _'dataframe.csv'_ file."
   ]
  },
  {
   "cell_type": "code",
   "execution_count": null,
   "metadata": {
    "id": "fij4T73l_bmZ"
   },
   "outputs": [],
   "source": [
    "# enter solution here\n",
    "df.to_csv('dataframe.csv')"
   ]
  },
  {
   "cell_type": "markdown",
   "metadata": {
    "id": "IJrSr2gP_iFB"
   },
   "source": [
    "Check the solution"
   ]
  },
  {
   "cell_type": "code",
   "execution_count": null,
   "metadata": {
    "id": "aEw4O2HF_kGZ"
   },
   "outputs": [],
   "source": [
    "!head -5 dataframe.csv"
   ]
  },
  {
   "cell_type": "markdown",
   "metadata": {
    "id": "hi_ss_MR_m0p"
   },
   "source": [
    "### <a name='10'></a> Exercise 20\n",
    "Load the _dataframe.csv_ file into the _df_new_ variable (remember to load the index correctly)."
   ]
  },
  {
   "cell_type": "code",
   "execution_count": 24,
   "metadata": {
    "id": "rPQwpc31_on5"
   },
   "outputs": [
    {
     "ename": "FileNotFoundError",
     "evalue": "[Errno 2] No such file or directory: 'dataframe.csv'",
     "output_type": "error",
     "traceback": [
      "\u001b[1;31m---------------------------------------------------------------------------\u001b[0m",
      "\u001b[1;31mFileNotFoundError\u001b[0m                         Traceback (most recent call last)",
      "\u001b[1;32m~\\AppData\\Local\\Temp\\ipykernel_10136\\3264963919.py\u001b[0m in \u001b[0;36m<module>\u001b[1;34m\u001b[0m\n\u001b[0;32m      3\u001b[0m \u001b[1;33m\u001b[0m\u001b[0m\n\u001b[0;32m      4\u001b[0m \u001b[1;31m# Load the CSV file into a new DataFrame\u001b[0m\u001b[1;33m\u001b[0m\u001b[1;33m\u001b[0m\u001b[0m\n\u001b[1;32m----> 5\u001b[1;33m \u001b[0mdf_new\u001b[0m \u001b[1;33m=\u001b[0m \u001b[0mpd\u001b[0m\u001b[1;33m.\u001b[0m\u001b[0mread_csv\u001b[0m\u001b[1;33m(\u001b[0m\u001b[1;34m'dataframe.csv'\u001b[0m\u001b[1;33m,\u001b[0m \u001b[0mindex_col\u001b[0m\u001b[1;33m=\u001b[0m\u001b[1;36m0\u001b[0m\u001b[1;33m,\u001b[0m \u001b[0mparse_dates\u001b[0m\u001b[1;33m=\u001b[0m\u001b[1;32mTrue\u001b[0m\u001b[1;33m)\u001b[0m\u001b[1;33m\u001b[0m\u001b[1;33m\u001b[0m\u001b[0m\n\u001b[0m\u001b[0;32m      6\u001b[0m \u001b[1;33m\u001b[0m\u001b[0m\n\u001b[0;32m      7\u001b[0m \u001b[1;31m# Display the loaded DataFrame\u001b[0m\u001b[1;33m\u001b[0m\u001b[1;33m\u001b[0m\u001b[0m\n",
      "\u001b[1;32m~\\anaconda3\\lib\\site-packages\\pandas\\util\\_decorators.py\u001b[0m in \u001b[0;36mwrapper\u001b[1;34m(*args, **kwargs)\u001b[0m\n\u001b[0;32m    309\u001b[0m                     \u001b[0mstacklevel\u001b[0m\u001b[1;33m=\u001b[0m\u001b[0mstacklevel\u001b[0m\u001b[1;33m,\u001b[0m\u001b[1;33m\u001b[0m\u001b[1;33m\u001b[0m\u001b[0m\n\u001b[0;32m    310\u001b[0m                 )\n\u001b[1;32m--> 311\u001b[1;33m             \u001b[1;32mreturn\u001b[0m \u001b[0mfunc\u001b[0m\u001b[1;33m(\u001b[0m\u001b[1;33m*\u001b[0m\u001b[0margs\u001b[0m\u001b[1;33m,\u001b[0m \u001b[1;33m**\u001b[0m\u001b[0mkwargs\u001b[0m\u001b[1;33m)\u001b[0m\u001b[1;33m\u001b[0m\u001b[1;33m\u001b[0m\u001b[0m\n\u001b[0m\u001b[0;32m    312\u001b[0m \u001b[1;33m\u001b[0m\u001b[0m\n\u001b[0;32m    313\u001b[0m         \u001b[1;32mreturn\u001b[0m \u001b[0mwrapper\u001b[0m\u001b[1;33m\u001b[0m\u001b[1;33m\u001b[0m\u001b[0m\n",
      "\u001b[1;32m~\\anaconda3\\lib\\site-packages\\pandas\\io\\parsers\\readers.py\u001b[0m in \u001b[0;36mread_csv\u001b[1;34m(filepath_or_buffer, sep, delimiter, header, names, index_col, usecols, squeeze, prefix, mangle_dupe_cols, dtype, engine, converters, true_values, false_values, skipinitialspace, skiprows, skipfooter, nrows, na_values, keep_default_na, na_filter, verbose, skip_blank_lines, parse_dates, infer_datetime_format, keep_date_col, date_parser, dayfirst, cache_dates, iterator, chunksize, compression, thousands, decimal, lineterminator, quotechar, quoting, doublequote, escapechar, comment, encoding, encoding_errors, dialect, error_bad_lines, warn_bad_lines, on_bad_lines, delim_whitespace, low_memory, memory_map, float_precision, storage_options)\u001b[0m\n\u001b[0;32m    584\u001b[0m     \u001b[0mkwds\u001b[0m\u001b[1;33m.\u001b[0m\u001b[0mupdate\u001b[0m\u001b[1;33m(\u001b[0m\u001b[0mkwds_defaults\u001b[0m\u001b[1;33m)\u001b[0m\u001b[1;33m\u001b[0m\u001b[1;33m\u001b[0m\u001b[0m\n\u001b[0;32m    585\u001b[0m \u001b[1;33m\u001b[0m\u001b[0m\n\u001b[1;32m--> 586\u001b[1;33m     \u001b[1;32mreturn\u001b[0m \u001b[0m_read\u001b[0m\u001b[1;33m(\u001b[0m\u001b[0mfilepath_or_buffer\u001b[0m\u001b[1;33m,\u001b[0m \u001b[0mkwds\u001b[0m\u001b[1;33m)\u001b[0m\u001b[1;33m\u001b[0m\u001b[1;33m\u001b[0m\u001b[0m\n\u001b[0m\u001b[0;32m    587\u001b[0m \u001b[1;33m\u001b[0m\u001b[0m\n\u001b[0;32m    588\u001b[0m \u001b[1;33m\u001b[0m\u001b[0m\n",
      "\u001b[1;32m~\\anaconda3\\lib\\site-packages\\pandas\\io\\parsers\\readers.py\u001b[0m in \u001b[0;36m_read\u001b[1;34m(filepath_or_buffer, kwds)\u001b[0m\n\u001b[0;32m    480\u001b[0m \u001b[1;33m\u001b[0m\u001b[0m\n\u001b[0;32m    481\u001b[0m     \u001b[1;31m# Create the parser.\u001b[0m\u001b[1;33m\u001b[0m\u001b[1;33m\u001b[0m\u001b[0m\n\u001b[1;32m--> 482\u001b[1;33m     \u001b[0mparser\u001b[0m \u001b[1;33m=\u001b[0m \u001b[0mTextFileReader\u001b[0m\u001b[1;33m(\u001b[0m\u001b[0mfilepath_or_buffer\u001b[0m\u001b[1;33m,\u001b[0m \u001b[1;33m**\u001b[0m\u001b[0mkwds\u001b[0m\u001b[1;33m)\u001b[0m\u001b[1;33m\u001b[0m\u001b[1;33m\u001b[0m\u001b[0m\n\u001b[0m\u001b[0;32m    483\u001b[0m \u001b[1;33m\u001b[0m\u001b[0m\n\u001b[0;32m    484\u001b[0m     \u001b[1;32mif\u001b[0m \u001b[0mchunksize\u001b[0m \u001b[1;32mor\u001b[0m \u001b[0miterator\u001b[0m\u001b[1;33m:\u001b[0m\u001b[1;33m\u001b[0m\u001b[1;33m\u001b[0m\u001b[0m\n",
      "\u001b[1;32m~\\anaconda3\\lib\\site-packages\\pandas\\io\\parsers\\readers.py\u001b[0m in \u001b[0;36m__init__\u001b[1;34m(self, f, engine, **kwds)\u001b[0m\n\u001b[0;32m    809\u001b[0m             \u001b[0mself\u001b[0m\u001b[1;33m.\u001b[0m\u001b[0moptions\u001b[0m\u001b[1;33m[\u001b[0m\u001b[1;34m\"has_index_names\"\u001b[0m\u001b[1;33m]\u001b[0m \u001b[1;33m=\u001b[0m \u001b[0mkwds\u001b[0m\u001b[1;33m[\u001b[0m\u001b[1;34m\"has_index_names\"\u001b[0m\u001b[1;33m]\u001b[0m\u001b[1;33m\u001b[0m\u001b[1;33m\u001b[0m\u001b[0m\n\u001b[0;32m    810\u001b[0m \u001b[1;33m\u001b[0m\u001b[0m\n\u001b[1;32m--> 811\u001b[1;33m         \u001b[0mself\u001b[0m\u001b[1;33m.\u001b[0m\u001b[0m_engine\u001b[0m \u001b[1;33m=\u001b[0m \u001b[0mself\u001b[0m\u001b[1;33m.\u001b[0m\u001b[0m_make_engine\u001b[0m\u001b[1;33m(\u001b[0m\u001b[0mself\u001b[0m\u001b[1;33m.\u001b[0m\u001b[0mengine\u001b[0m\u001b[1;33m)\u001b[0m\u001b[1;33m\u001b[0m\u001b[1;33m\u001b[0m\u001b[0m\n\u001b[0m\u001b[0;32m    812\u001b[0m \u001b[1;33m\u001b[0m\u001b[0m\n\u001b[0;32m    813\u001b[0m     \u001b[1;32mdef\u001b[0m \u001b[0mclose\u001b[0m\u001b[1;33m(\u001b[0m\u001b[0mself\u001b[0m\u001b[1;33m)\u001b[0m\u001b[1;33m:\u001b[0m\u001b[1;33m\u001b[0m\u001b[1;33m\u001b[0m\u001b[0m\n",
      "\u001b[1;32m~\\anaconda3\\lib\\site-packages\\pandas\\io\\parsers\\readers.py\u001b[0m in \u001b[0;36m_make_engine\u001b[1;34m(self, engine)\u001b[0m\n\u001b[0;32m   1038\u001b[0m             )\n\u001b[0;32m   1039\u001b[0m         \u001b[1;31m# error: Too many arguments for \"ParserBase\"\u001b[0m\u001b[1;33m\u001b[0m\u001b[1;33m\u001b[0m\u001b[0m\n\u001b[1;32m-> 1040\u001b[1;33m         \u001b[1;32mreturn\u001b[0m \u001b[0mmapping\u001b[0m\u001b[1;33m[\u001b[0m\u001b[0mengine\u001b[0m\u001b[1;33m]\u001b[0m\u001b[1;33m(\u001b[0m\u001b[0mself\u001b[0m\u001b[1;33m.\u001b[0m\u001b[0mf\u001b[0m\u001b[1;33m,\u001b[0m \u001b[1;33m**\u001b[0m\u001b[0mself\u001b[0m\u001b[1;33m.\u001b[0m\u001b[0moptions\u001b[0m\u001b[1;33m)\u001b[0m  \u001b[1;31m# type: ignore[call-arg]\u001b[0m\u001b[1;33m\u001b[0m\u001b[1;33m\u001b[0m\u001b[0m\n\u001b[0m\u001b[0;32m   1041\u001b[0m \u001b[1;33m\u001b[0m\u001b[0m\n\u001b[0;32m   1042\u001b[0m     \u001b[1;32mdef\u001b[0m \u001b[0m_failover_to_python\u001b[0m\u001b[1;33m(\u001b[0m\u001b[0mself\u001b[0m\u001b[1;33m)\u001b[0m\u001b[1;33m:\u001b[0m\u001b[1;33m\u001b[0m\u001b[1;33m\u001b[0m\u001b[0m\n",
      "\u001b[1;32m~\\anaconda3\\lib\\site-packages\\pandas\\io\\parsers\\c_parser_wrapper.py\u001b[0m in \u001b[0;36m__init__\u001b[1;34m(self, src, **kwds)\u001b[0m\n\u001b[0;32m     49\u001b[0m \u001b[1;33m\u001b[0m\u001b[0m\n\u001b[0;32m     50\u001b[0m         \u001b[1;31m# open handles\u001b[0m\u001b[1;33m\u001b[0m\u001b[1;33m\u001b[0m\u001b[0m\n\u001b[1;32m---> 51\u001b[1;33m         \u001b[0mself\u001b[0m\u001b[1;33m.\u001b[0m\u001b[0m_open_handles\u001b[0m\u001b[1;33m(\u001b[0m\u001b[0msrc\u001b[0m\u001b[1;33m,\u001b[0m \u001b[0mkwds\u001b[0m\u001b[1;33m)\u001b[0m\u001b[1;33m\u001b[0m\u001b[1;33m\u001b[0m\u001b[0m\n\u001b[0m\u001b[0;32m     52\u001b[0m         \u001b[1;32massert\u001b[0m \u001b[0mself\u001b[0m\u001b[1;33m.\u001b[0m\u001b[0mhandles\u001b[0m \u001b[1;32mis\u001b[0m \u001b[1;32mnot\u001b[0m \u001b[1;32mNone\u001b[0m\u001b[1;33m\u001b[0m\u001b[1;33m\u001b[0m\u001b[0m\n\u001b[0;32m     53\u001b[0m \u001b[1;33m\u001b[0m\u001b[0m\n",
      "\u001b[1;32m~\\anaconda3\\lib\\site-packages\\pandas\\io\\parsers\\base_parser.py\u001b[0m in \u001b[0;36m_open_handles\u001b[1;34m(self, src, kwds)\u001b[0m\n\u001b[0;32m    220\u001b[0m         \u001b[0mLet\u001b[0m \u001b[0mthe\u001b[0m \u001b[0mreaders\u001b[0m \u001b[0mopen\u001b[0m \u001b[0mIOHandles\u001b[0m \u001b[0mafter\u001b[0m \u001b[0mthey\u001b[0m \u001b[0mare\u001b[0m \u001b[0mdone\u001b[0m \u001b[1;32mwith\u001b[0m \u001b[0mtheir\u001b[0m \u001b[0mpotential\u001b[0m \u001b[0mraises\u001b[0m\u001b[1;33m.\u001b[0m\u001b[1;33m\u001b[0m\u001b[1;33m\u001b[0m\u001b[0m\n\u001b[0;32m    221\u001b[0m         \"\"\"\n\u001b[1;32m--> 222\u001b[1;33m         self.handles = get_handle(\n\u001b[0m\u001b[0;32m    223\u001b[0m             \u001b[0msrc\u001b[0m\u001b[1;33m,\u001b[0m\u001b[1;33m\u001b[0m\u001b[1;33m\u001b[0m\u001b[0m\n\u001b[0;32m    224\u001b[0m             \u001b[1;34m\"r\"\u001b[0m\u001b[1;33m,\u001b[0m\u001b[1;33m\u001b[0m\u001b[1;33m\u001b[0m\u001b[0m\n",
      "\u001b[1;32m~\\anaconda3\\lib\\site-packages\\pandas\\io\\common.py\u001b[0m in \u001b[0;36mget_handle\u001b[1;34m(path_or_buf, mode, encoding, compression, memory_map, is_text, errors, storage_options)\u001b[0m\n\u001b[0;32m    700\u001b[0m         \u001b[1;32mif\u001b[0m \u001b[0mioargs\u001b[0m\u001b[1;33m.\u001b[0m\u001b[0mencoding\u001b[0m \u001b[1;32mand\u001b[0m \u001b[1;34m\"b\"\u001b[0m \u001b[1;32mnot\u001b[0m \u001b[1;32min\u001b[0m \u001b[0mioargs\u001b[0m\u001b[1;33m.\u001b[0m\u001b[0mmode\u001b[0m\u001b[1;33m:\u001b[0m\u001b[1;33m\u001b[0m\u001b[1;33m\u001b[0m\u001b[0m\n\u001b[0;32m    701\u001b[0m             \u001b[1;31m# Encoding\u001b[0m\u001b[1;33m\u001b[0m\u001b[1;33m\u001b[0m\u001b[0m\n\u001b[1;32m--> 702\u001b[1;33m             handle = open(\n\u001b[0m\u001b[0;32m    703\u001b[0m                 \u001b[0mhandle\u001b[0m\u001b[1;33m,\u001b[0m\u001b[1;33m\u001b[0m\u001b[1;33m\u001b[0m\u001b[0m\n\u001b[0;32m    704\u001b[0m                 \u001b[0mioargs\u001b[0m\u001b[1;33m.\u001b[0m\u001b[0mmode\u001b[0m\u001b[1;33m,\u001b[0m\u001b[1;33m\u001b[0m\u001b[1;33m\u001b[0m\u001b[0m\n",
      "\u001b[1;31mFileNotFoundError\u001b[0m: [Errno 2] No such file or directory: 'dataframe.csv'"
     ]
    }
   ],
   "source": [
    "# enter solution here\n",
    "import pandas as pd\n",
    "\n",
    "# Load the CSV file into a new DataFrame\n",
    "df_new = pd.read_csv('dataframe.csv', index_col=0, parse_dates=True)\n",
    "\n",
    "# Display the loaded DataFrame\n",
    "print(df_new.head())\n"
   ]
  },
  {
   "cell_type": "markdown",
   "metadata": {
    "id": "YY71U9BaAJOZ"
   },
   "source": [
    "The _fetch_financial_data()_ function fetches data on listed companies. It will be used in the following exercises. To download data of a specific company, you must provide the ticker (symbol) of the company.\n",
    "\n",
    "Some sample company tickers:\n",
    "* AMZN - Amazon\n",
    "* GOOGL - Google\n",
    "* MSFT - Microsoft\n",
    "* AAPL - Apple\n",
    "* NKE - Nike\n",
    "* WMT - Walmart"
   ]
  },
  {
   "cell_type": "code",
   "execution_count": null,
   "metadata": {
    "id": "E2csffXuALAy"
   },
   "outputs": [],
   "source": [
    "def fetch_financial_data(company='AMZN'):\n",
    "    \"\"\"\n",
    "    This function fetches stock market quotations.\n",
    "    \"\"\"\n",
    "    import pandas_datareader.data as web\n",
    "    return web.DataReader(name=company, data_source='stooq')"
   ]
  },
  {
   "cell_type": "markdown",
   "metadata": {
    "id": "MPHEyOW0ANzQ"
   },
   "source": [
    "### <a name='1'></a> Exercise 21\n",
    "Using the _fetch_financial_data()_ function, download Google (Alphabet) quotes and assign to the variable _google_. Display object _google_."
   ]
  },
  {
   "cell_type": "code",
   "execution_count": 25,
   "metadata": {
    "id": "g4dN9KyMAPa-"
   },
   "outputs": [
    {
     "name": "stdout",
     "output_type": "stream",
     "text": [
      "[*********************100%%**********************]  1 of 1 completed\n",
      "                  Open        High         Low       Close   Adj Close  \\\n",
      "Date                                                                     \n",
      "2022-01-03  145.054993  145.850998  143.712997  144.991501  144.991501   \n",
      "2022-01-04  145.395996  146.485001  143.716507  144.399506  144.399506   \n",
      "2022-01-05  144.419998  144.499496  137.688004  137.774994  137.774994   \n",
      "2022-01-06  136.998505  139.940002  136.558502  137.747498  137.747498   \n",
      "2022-01-07  138.145493  138.448502  135.766495  137.016998  137.016998   \n",
      "...                ...         ...         ...         ...         ...   \n",
      "2022-12-23   87.110001   89.550003   87.070000   89.230003   89.230003   \n",
      "2022-12-27   88.800003   88.940002   87.010002   87.389999   87.389999   \n",
      "2022-12-28   86.980003   88.040001   85.940002   86.019997   86.019997   \n",
      "2022-12-29   86.620003   88.849998   86.610001   88.449997   88.449997   \n",
      "2022-12-30   86.980003   88.300003   86.570000   88.230003   88.230003   \n",
      "\n",
      "              Volume  \n",
      "Date                  \n",
      "2022-01-03  28646000  \n",
      "2022-01-04  28400000  \n",
      "2022-01-05  54618000  \n",
      "2022-01-06  37348000  \n",
      "2022-01-07  29760000  \n",
      "...              ...  \n",
      "2022-12-23  23003000  \n",
      "2022-12-27  20097300  \n",
      "2022-12-28  19523200  \n",
      "2022-12-29  23333500  \n",
      "2022-12-30  23986300  \n",
      "\n",
      "[251 rows x 6 columns]\n"
     ]
    }
   ],
   "source": [
    "# enter solution here\n",
    "import yfinance as yf\n",
    "\n",
    "def fetch_financial_data(ticker, start_date, end_date):\n",
    "    try:\n",
    "        data = yf.download(ticker, start=start_date, end=end_date)\n",
    "        return data\n",
    "    except Exception as e:\n",
    "        print(f\"Error fetching data for {ticker}: {e}\")\n",
    "        return None\n",
    "\n",
    "# Provide the ticker symbol, start date, and end date\n",
    "ticker_google = 'GOOGL'\n",
    "start_date = '2022-01-01'\n",
    "end_date = '2022-12-31'\n",
    "\n",
    "# Fetch Google quotes\n",
    "google = fetch_financial_data(ticker_google, start_date, end_date)\n",
    "\n",
    "# Display the DataFrame\n",
    "print(google)\n"
   ]
  },
  {
   "cell_type": "markdown",
   "metadata": {
    "id": "pOMlK6DYARzR"
   },
   "source": [
    "### <a name='2'></a> Exercise 22\n",
    "Display basic information about _google_ object."
   ]
  },
  {
   "cell_type": "code",
   "execution_count": 26,
   "metadata": {
    "id": "Q8yFP158ATx5"
   },
   "outputs": [
    {
     "name": "stdout",
     "output_type": "stream",
     "text": [
      "<class 'pandas.core.frame.DataFrame'>\n",
      "DatetimeIndex: 251 entries, 2022-01-03 to 2022-12-30\n",
      "Data columns (total 6 columns):\n",
      " #   Column     Non-Null Count  Dtype  \n",
      "---  ------     --------------  -----  \n",
      " 0   Open       251 non-null    float64\n",
      " 1   High       251 non-null    float64\n",
      " 2   Low        251 non-null    float64\n",
      " 3   Close      251 non-null    float64\n",
      " 4   Adj Close  251 non-null    float64\n",
      " 5   Volume     251 non-null    int64  \n",
      "dtypes: float64(5), int64(1)\n",
      "memory usage: 13.7 KB\n",
      "None\n"
     ]
    }
   ],
   "source": [
    "# enter solution here\n",
    "print(google.info())\n"
   ]
  },
  {
   "cell_type": "markdown",
   "metadata": {
    "id": "eCA3Wh8ZAVj5"
   },
   "source": [
    "Display basic statistics for _google_."
   ]
  },
  {
   "cell_type": "code",
   "execution_count": 27,
   "metadata": {
    "id": "XWZlL8oMAdKK"
   },
   "outputs": [
    {
     "name": "stdout",
     "output_type": "stream",
     "text": [
      "             Open        High         Low       Close   Adj Close  \\\n",
      "count  251.000000  251.000000  251.000000  251.000000  251.000000   \n",
      "mean   114.879681  116.483813  113.201064  114.760371  114.760371   \n",
      "std     16.268895   16.297471   15.952845   16.109141   16.109141   \n",
      "min     85.400002   86.519997   83.339996   83.430000   83.430000   \n",
      "25%    100.005001  101.884998   99.134998  100.879997  100.879997   \n",
      "50%    113.404999  115.589500  112.480003  113.891998  113.891998   \n",
      "75%    130.606255  131.892998  127.320999  129.215500  129.215500   \n",
      "max    151.250000  151.546494  145.522507  148.000000  148.000000   \n",
      "\n",
      "             Volume  \n",
      "count  2.510000e+02  \n",
      "mean   3.476753e+07  \n",
      "std    1.361927e+07  \n",
      "min    9.701400e+06  \n",
      "25%    2.601215e+07  \n",
      "50%    3.169600e+07  \n",
      "75%    3.997200e+07  \n",
      "max    1.232000e+08  \n"
     ]
    }
   ],
   "source": [
    "# enter solution here\n",
    "print(google.describe())\n"
   ]
  },
  {
   "cell_type": "markdown",
   "metadata": {
    "id": "wQR-hVfIAYPQ"
   },
   "source": [
    "Note the precision of individual statistics.\n",
    "Try setting the appropriate _pandas_ library options to display data with two decimal places.\n",
    "\n",
    "__Tip:__ \n",
    "https://pandas.pydata.org/pandas-docs/stable/user_guide/options.html"
   ]
  },
  {
   "cell_type": "code",
   "execution_count": null,
   "metadata": {
    "id": "sSBfszCHAbXp"
   },
   "outputs": [],
   "source": [
    "# enter solution here"
   ]
  },
  {
   "cell_type": "markdown",
   "metadata": {
    "id": "XB8sRBMvAqpy"
   },
   "source": [
    "__Additionally:__\n",
    "The following setting will also suppress mathematical notation (see column _Volume_)."
   ]
  },
  {
   "cell_type": "code",
   "execution_count": null,
   "metadata": {
    "id": "9EFb3lMvAsnx"
   },
   "outputs": [],
   "source": [
    "pd.options.display.float_format = '{:.2f}'.format\n",
    "google.describe()"
   ]
  },
  {
   "cell_type": "markdown",
   "metadata": {
    "id": "bNbPniAJAu0R"
   },
   "source": [
    "Build a simple chart for _google_ closing price (_Close_)"
   ]
  },
  {
   "cell_type": "code",
   "execution_count": 28,
   "metadata": {
    "id": "LmaSW0WNAw5Z"
   },
   "outputs": [
    {
     "data": {
      "image/png": "[encoded data removed]",
      "text/plain": [
       "<Figure size 864x432 with 1 Axes>"
      ]
     },
     "metadata": {},
     "output_type": "display_data"
    }
   ],
   "source": [
    "# enter solution here\n",
    "import matplotlib.pyplot as plt\n",
    "\n",
    "# Plotting the closing price\n",
    "google['Close'].plot(figsize=(12, 6), color='b', label='Google Close Price')\n",
    "\n",
    "# Adding labels and title\n",
    "plt.title('Google Closing Price Over Time')\n",
    "plt.xlabel('Date')\n",
    "plt.ylabel('Closing Price')\n",
    "plt.legend()\n",
    "\n",
    "# Show the plot\n",
    "plt.show()\n"
   ]
  },
  {
   "cell_type": "markdown",
   "metadata": {
    "id": "arZxANspBffg"
   },
   "source": [
    "### <a name='3'></a> Exercise 23\n",
    "Replace the _Date_ index with a column. Permanently assign changes to the _google_."
   ]
  },
  {
   "cell_type": "code",
   "execution_count": 29,
   "metadata": {
    "id": "YUazxLk2BhhY"
   },
   "outputs": [
    {
     "name": "stdout",
     "output_type": "stream",
     "text": [
      "        Date        Open        High         Low       Close   Adj Close  \\\n",
      "0 2022-01-03  145.054993  145.850998  143.712997  144.991501  144.991501   \n",
      "1 2022-01-04  145.395996  146.485001  143.716507  144.399506  144.399506   \n",
      "2 2022-01-05  144.419998  144.499496  137.688004  137.774994  137.774994   \n",
      "3 2022-01-06  136.998505  139.940002  136.558502  137.747498  137.747498   \n",
      "4 2022-01-07  138.145493  138.448502  135.766495  137.016998  137.016998   \n",
      "\n",
      "     Volume  \n",
      "0  28646000  \n",
      "1  28400000  \n",
      "2  54618000  \n",
      "3  37348000  \n",
      "4  29760000  \n"
     ]
    }
   ],
   "source": [
    "# enter solution here\n",
    "# Resetting the index and assigning changes to the 'google' DataFrame\n",
    "google.reset_index(inplace=True)\n",
    "\n",
    "# Displaying the updated DataFrame\n",
    "print(google.head())\n"
   ]
  },
  {
   "cell_type": "markdown",
   "metadata": {
    "id": "SQlq9ldjBjeo"
   },
   "source": [
    "Assign two new columns to the _google_ object by adding a column with the current month number named _'Month'_ and the year named _'Year'_."
   ]
  },
  {
   "cell_type": "code",
   "execution_count": 30,
   "metadata": {
    "id": "J4FpKFNPBlwg"
   },
   "outputs": [
    {
     "name": "stdout",
     "output_type": "stream",
     "text": [
      "        Date        Open        High         Low       Close   Adj Close  \\\n",
      "0 2022-01-03  145.054993  145.850998  143.712997  144.991501  144.991501   \n",
      "1 2022-01-04  145.395996  146.485001  143.716507  144.399506  144.399506   \n",
      "2 2022-01-05  144.419998  144.499496  137.688004  137.774994  137.774994   \n",
      "3 2022-01-06  136.998505  139.940002  136.558502  137.747498  137.747498   \n",
      "4 2022-01-07  138.145493  138.448502  135.766495  137.016998  137.016998   \n",
      "\n",
      "     Volume  Month  Year  \n",
      "0  28646000      1  2022  \n",
      "1  28400000      1  2022  \n",
      "2  54618000      1  2022  \n",
      "3  37348000      1  2022  \n",
      "4  29760000      1  2022  \n"
     ]
    }
   ],
   "source": [
    "# enter solution here\n",
    "# Extracting month and year from the 'Date' column\n",
    "google['Month'] = google['Date'].dt.month\n",
    "google['Year'] = google['Date'].dt.year\n",
    "\n",
    "# Displaying the updated DataFrame\n",
    "print(google.head())\n"
   ]
  },
  {
   "cell_type": "markdown",
   "metadata": {
    "id": "pr8aei3SBmXh"
   },
   "source": [
    "### <a name='4'></a> Exercise 24\n",
    "Compute the average closing price (_Close_) for a particular year (group data by year - column _Year_ and then calculate the average value)."
   ]
  },
  {
   "cell_type": "code",
   "execution_count": 31,
   "metadata": {
    "id": "ML0LQzxBCSvn"
   },
   "outputs": [
    {
     "name": "stdout",
     "output_type": "stream",
     "text": [
      "Year\n",
      "2022    114.760371\n",
      "Name: Close, dtype: float64\n"
     ]
    }
   ],
   "source": [
    "# enter solution here\n",
    "# Grouping data by the 'Year' column and calculating the mean for 'Close'\n",
    "average_closing_price_by_year = google.groupby('Year')['Close'].mean()\n",
    "\n",
    "# Displaying the average closing price for each year\n",
    "print(average_closing_price_by_year)\n"
   ]
  },
  {
   "cell_type": "markdown",
   "metadata": {
    "id": "4fl7HWqtBtTA"
   },
   "source": [
    "Present the obtained values on the graph using the _plot()_ method."
   ]
  },
  {
   "cell_type": "code",
   "execution_count": 32,
   "metadata": {
    "id": "o-5XrODsCTqP"
   },
   "outputs": [
    {
     "data": {
      "image/png": "[encoded data removed]",
      "text/plain": [
       "<Figure size 864x432 with 1 Axes>"
      ]
     },
     "metadata": {},
     "output_type": "display_data"
    }
   ],
   "source": [
    "# enter solution here\n",
    "import matplotlib.pyplot as plt\n",
    "\n",
    "# Grouping data by the 'Year' column and calculating the mean for 'Close'\n",
    "average_closing_price_by_year = google.groupby('Year')['Close'].mean()\n",
    "\n",
    "# Plotting the average closing price by year\n",
    "average_closing_price_by_year.plot(kind='bar', figsize=(12, 6), color='green')\n",
    "\n",
    "# Adding labels and title\n",
    "plt.title('Average Closing Price by Year')\n",
    "plt.xlabel('Year')\n",
    "plt.ylabel('Average Closing Price')\n",
    "\n",
    "# Show the plot\n",
    "plt.show()\n"
   ]
  },
  {
   "cell_type": "markdown",
   "metadata": {
    "id": "7YGkf4AOBv5T"
   },
   "source": [
    "Compute the average closing price (_Close_) for the month (group data by month - the _Month_ column and then count the average value)."
   ]
  },
  {
   "cell_type": "code",
   "execution_count": 33,
   "metadata": {
    "id": "SzSq4JOcCUw_"
   },
   "outputs": [
    {
     "name": "stdout",
     "output_type": "stream",
     "text": [
      "Month\n",
      "1     135.961949\n",
      "2     136.712895\n",
      "3     134.977957\n",
      "4     128.071250\n",
      "5     113.194119\n",
      "6     112.429524\n",
      "7     112.650724\n",
      "8     116.258696\n",
      "9     103.330000\n",
      "10     98.878571\n",
      "11     93.909048\n",
      "12     92.315239\n",
      "Name: Close, dtype: float64\n"
     ]
    }
   ],
   "source": [
    "# enter solution here\n",
    "# Grouping data by the 'Month' column and calculating the mean for 'Close'\n",
    "average_closing_price_by_month = google.groupby('Month')['Close'].mean()\n",
    "\n",
    "# Displaying the average closing price for each month\n",
    "print(average_closing_price_by_month)\n"
   ]
  },
  {
   "cell_type": "markdown",
   "metadata": {
    "id": "ATWPDh7rBz8Q"
   },
   "source": [
    "Present the obtained values on the graph using the _plot()_ method.\n",
    "Note which months may indicate weaker periods on the stock market."
   ]
  },
  {
   "cell_type": "code",
   "execution_count": 35,
   "metadata": {
    "id": "4BShUfkYCQ9a"
   },
   "outputs": [
    {
     "ename": "AttributeError",
     "evalue": "'Series' object has no attribute 'm'",
     "output_type": "error",
     "traceback": [
      "\u001b[1;31m---------------------------------------------------------------------------\u001b[0m",
      "\u001b[1;31mAttributeError\u001b[0m                            Traceback (most recent call last)",
      "\u001b[1;32m~\\AppData\\Local\\Temp\\ipykernel_10136\\2207735015.py\u001b[0m in \u001b[0;36m<module>\u001b[1;34m\u001b[0m\n\u001b[0;32m     14\u001b[0m \u001b[1;33m\u001b[0m\u001b[0m\n\u001b[0;32m     15\u001b[0m \u001b[1;31m# Highlighting potential weaker periods (e.g., months with lower average closing prices)\u001b[0m\u001b[1;33m\u001b[0m\u001b[1;33m\u001b[0m\u001b[0m\n\u001b[1;32m---> 16\u001b[1;33m \u001b[0mweaker_periods\u001b[0m \u001b[1;33m=\u001b[0m \u001b[0maverage_closing_price_by_month\u001b[0m\u001b[1;33m[\u001b[0m\u001b[0maverage_closing_price_by_month\u001b[0m \u001b[1;33m<\u001b[0m \u001b[0maverage_closing_price_by_month\u001b[0m\u001b[1;33m.\u001b[0m\u001b[0mm\u001b[0m\u001b[1;33m]\u001b[0m\u001b[1;33m\u001b[0m\u001b[1;33m\u001b[0m\u001b[0m\n\u001b[0m",
      "\u001b[1;32m~\\anaconda3\\lib\\site-packages\\pandas\\core\\generic.py\u001b[0m in \u001b[0;36m__getattr__\u001b[1;34m(self, name)\u001b[0m\n\u001b[0;32m   5485\u001b[0m         ):\n\u001b[0;32m   5486\u001b[0m             \u001b[1;32mreturn\u001b[0m \u001b[0mself\u001b[0m\u001b[1;33m[\u001b[0m\u001b[0mname\u001b[0m\u001b[1;33m]\u001b[0m\u001b[1;33m\u001b[0m\u001b[1;33m\u001b[0m\u001b[0m\n\u001b[1;32m-> 5487\u001b[1;33m         \u001b[1;32mreturn\u001b[0m \u001b[0mobject\u001b[0m\u001b[1;33m.\u001b[0m\u001b[0m__getattribute__\u001b[0m\u001b[1;33m(\u001b[0m\u001b[0mself\u001b[0m\u001b[1;33m,\u001b[0m \u001b[0mname\u001b[0m\u001b[1;33m)\u001b[0m\u001b[1;33m\u001b[0m\u001b[1;33m\u001b[0m\u001b[0m\n\u001b[0m\u001b[0;32m   5488\u001b[0m \u001b[1;33m\u001b[0m\u001b[0m\n\u001b[0;32m   5489\u001b[0m     \u001b[1;32mdef\u001b[0m \u001b[0m__setattr__\u001b[0m\u001b[1;33m(\u001b[0m\u001b[0mself\u001b[0m\u001b[1;33m,\u001b[0m \u001b[0mname\u001b[0m\u001b[1;33m:\u001b[0m \u001b[0mstr\u001b[0m\u001b[1;33m,\u001b[0m \u001b[0mvalue\u001b[0m\u001b[1;33m)\u001b[0m \u001b[1;33m->\u001b[0m \u001b[1;32mNone\u001b[0m\u001b[1;33m:\u001b[0m\u001b[1;33m\u001b[0m\u001b[1;33m\u001b[0m\u001b[0m\n",
      "\u001b[1;31mAttributeError\u001b[0m: 'Series' object has no attribute 'm'"
     ]
    },
    {
     "data": {
      "image/png": "[encoded data removed]",
      "text/plain": [
       "<Figure size 864x432 with 1 Axes>"
      ]
     },
     "metadata": {},
     "output_type": "display_data"
    }
   ],
   "source": [
    "# enter solution here\n",
    "import matplotlib.pyplot as plt\n",
    "\n",
    "# Grouping data by the 'Month' column and calculating the mean for 'Close'\n",
    "average_closing_price_by_month = google.groupby('Month')['Close'].mean()\n",
    "\n",
    "# Plotting the average closing price by month\n",
    "average_closing_price_by_month.plot(kind='bar', figsize=(12, 6), color='orange')\n",
    "\n",
    "# Adding labels and title\n",
    "plt.title('Average Closing Price by Month')\n",
    "plt.xlabel('Month')\n",
    "plt.ylabel('Average Closing Price')\n",
    "\n",
    "# Highlighting potential weaker periods (e.g., months with lower average closing prices)\n",
    "weaker_periods = average_closing_price_by_month[average_closing_price_by_month < average_closing_price_by_month.m]\n"
   ]
  },
  {
   "cell_type": "markdown",
   "metadata": {
    "id": "vXDfz-VmB3io"
   },
   "source": [
    "### <a name='5'></a> Exercise 25\n",
    "Group data from _google_ at year and month level. Then calculate the average value.\n"
   ]
  },
  {
   "cell_type": "code",
   "execution_count": 36,
   "metadata": {
    "id": "xLMY7armCJ_w"
   },
   "outputs": [
    {
     "name": "stdout",
     "output_type": "stream",
     "text": [
      "Year  Month\n",
      "2022  1        135.961949\n",
      "      2        136.712895\n",
      "      3        134.977957\n",
      "      4        128.071250\n",
      "      5        113.194119\n",
      "      6        112.429524\n",
      "      7        112.650724\n",
      "      8        116.258696\n",
      "      9        103.330000\n",
      "      10        98.878571\n",
      "      11        93.909048\n",
      "      12        92.315239\n",
      "Name: Close, dtype: float64\n"
     ]
    }
   ],
   "source": [
    "# enter solution here\n",
    "# Grouping data by 'Year' and 'Month' and calculating the mean for 'Close'\n",
    "average_closing_price_by_year_month = google.groupby(['Year', 'Month'])['Close'].mean()\n",
    "\n",
    "# Displaying the average closing price for each year and month\n",
    "print(average_closing_price_by_year_month)\n"
   ]
  },
  {
   "cell_type": "markdown",
   "metadata": {
    "id": "92V_W2KRB5JM"
   },
   "source": [
    "### <a name='6'></a> Exercise 26\n",
    "Find the index for which the _Close_ column has the largest value.\n"
   ]
  },
  {
   "cell_type": "code",
   "execution_count": 37,
   "metadata": {
    "id": "EaMibnYCCOsK"
   },
   "outputs": [
    {
     "name": "stdout",
     "output_type": "stream",
     "text": [
      "Index with the largest 'Close' value: 21\n"
     ]
    }
   ],
   "source": [
    "# enter solution here\n",
    "# Find the index for which the 'Close' column has the largest value\n",
    "max_close_index = google['Close'].idxmax()\n",
    "\n",
    "# Display the index with the largest 'Close' value\n",
    "print(\"Index with the largest 'Close' value:\", max_close_index)\n"
   ]
  },
  {
   "cell_type": "markdown",
   "metadata": {
    "id": "RTVWuG4rB7bo"
   },
   "source": [
    "Extract the row for this index from the google object as a DataFrame. Read the date."
   ]
  },
  {
   "cell_type": "code",
   "execution_count": 38,
   "metadata": {
    "id": "SdP5xBnQCJGQ"
   },
   "outputs": [
    {
     "name": "stdout",
     "output_type": "stream",
     "text": [
      "Date         2022-02-02 00:00:00\n",
      "Open                      151.25\n",
      "High                  151.546494\n",
      "Low                   145.522507\n",
      "Close                      148.0\n",
      "Adj Close                  148.0\n",
      "Volume                 123200000\n",
      "Month                          2\n",
      "Year                        2022\n",
      "Name: 21, dtype: object\n"
     ]
    }
   ],
   "source": [
    "# enter solution here\n",
    "# Extract the row for the index with the largest 'Close' value\n",
    "max_close_row = google.loc[max_close_index]\n",
    "\n",
    "# Display the DataFrame for the row\n",
    "print(max_close_row)\n"
   ]
  },
  {
   "cell_type": "markdown",
   "metadata": {
    "id": "YOyQiCGIB-dg"
   },
   "source": [
    "### <a name='7'></a> Exercise 27\n",
    "Extract the columns _Date_, _Open_, _Close_, _Volume_ from the _google_ object.\n",
    "Don't change the original _google_ object!"
   ]
  },
  {
   "cell_type": "code",
   "execution_count": 39,
   "metadata": {
    "id": "jNg2GbbGCIii"
   },
   "outputs": [
    {
     "name": "stdout",
     "output_type": "stream",
     "text": [
      "          Date        Open       Close    Volume\n",
      "0   2022-01-03  145.054993  144.991501  28646000\n",
      "1   2022-01-04  145.395996  144.399506  28400000\n",
      "2   2022-01-05  144.419998  137.774994  54618000\n",
      "3   2022-01-06  136.998505  137.747498  37348000\n",
      "4   2022-01-07  138.145493  137.016998  29760000\n",
      "..         ...         ...         ...       ...\n",
      "246 2022-12-23   87.110001   89.230003  23003000\n",
      "247 2022-12-27   88.800003   87.389999  20097300\n",
      "248 2022-12-28   86.980003   86.019997  19523200\n",
      "249 2022-12-29   86.620003   88.449997  23333500\n",
      "250 2022-12-30   86.980003   88.230003  23986300\n",
      "\n",
      "[251 rows x 4 columns]\n"
     ]
    }
   ],
   "source": [
    "# enter solution here\n",
    "# Extracting specific columns into a new DataFrame\n",
    "selected_columns = google[['Date', 'Open', 'Close', 'Volume']].copy()\n",
    "\n",
    "# Displaying the new DataFrame\n",
    "print(selected_columns)\n"
   ]
  },
  {
   "cell_type": "markdown",
   "metadata": {
    "id": "ouxdTG6KCAOo"
   },
   "source": [
    "### <a name='8'></a> Exercise 28\n",
    "Set the index for the _Date_ column back. Display object _google_."
   ]
  },
  {
   "cell_type": "code",
   "execution_count": 40,
   "metadata": {
    "id": "rfjAM_vaCH7I"
   },
   "outputs": [
    {
     "name": "stdout",
     "output_type": "stream",
     "text": [
      "                  Open        High         Low       Close   Adj Close  \\\n",
      "Date                                                                     \n",
      "2022-01-03  145.054993  145.850998  143.712997  144.991501  144.991501   \n",
      "2022-01-04  145.395996  146.485001  143.716507  144.399506  144.399506   \n",
      "2022-01-05  144.419998  144.499496  137.688004  137.774994  137.774994   \n",
      "2022-01-06  136.998505  139.940002  136.558502  137.747498  137.747498   \n",
      "2022-01-07  138.145493  138.448502  135.766495  137.016998  137.016998   \n",
      "...                ...         ...         ...         ...         ...   \n",
      "2022-12-23   87.110001   89.550003   87.070000   89.230003   89.230003   \n",
      "2022-12-27   88.800003   88.940002   87.010002   87.389999   87.389999   \n",
      "2022-12-28   86.980003   88.040001   85.940002   86.019997   86.019997   \n",
      "2022-12-29   86.620003   88.849998   86.610001   88.449997   88.449997   \n",
      "2022-12-30   86.980003   88.300003   86.570000   88.230003   88.230003   \n",
      "\n",
      "              Volume  Month  Year  \n",
      "Date                               \n",
      "2022-01-03  28646000      1  2022  \n",
      "2022-01-04  28400000      1  2022  \n",
      "2022-01-05  54618000      1  2022  \n",
      "2022-01-06  37348000      1  2022  \n",
      "2022-01-07  29760000      1  2022  \n",
      "...              ...    ...   ...  \n",
      "2022-12-23  23003000     12  2022  \n",
      "2022-12-27  20097300     12  2022  \n",
      "2022-12-28  19523200     12  2022  \n",
      "2022-12-29  23333500     12  2022  \n",
      "2022-12-30  23986300     12  2022  \n",
      "\n",
      "[251 rows x 8 columns]\n"
     ]
    }
   ],
   "source": [
    "# enter solution here\n",
    "# Set the index back to the 'Date' column\n",
    "google.set_index('Date', inplace=True)\n",
    "\n",
    "# Display the updated DataFrame\n",
    "print(google)\n"
   ]
  },
  {
   "cell_type": "markdown",
   "metadata": {
    "id": "Xbvf7vVxCC15"
   },
   "source": [
    "### <a name='9'></a> Exercise 29\n",
    "Permanently remove the _Year_ and _Month_ columns from the _google_ object. Display object _google_."
   ]
  },
  {
   "cell_type": "code",
   "execution_count": 41,
   "metadata": {
    "id": "FxqEId01CHPQ"
   },
   "outputs": [
    {
     "name": "stdout",
     "output_type": "stream",
     "text": [
      "                  Open        High         Low       Close   Adj Close  \\\n",
      "Date                                                                     \n",
      "2022-01-03  145.054993  145.850998  143.712997  144.991501  144.991501   \n",
      "2022-01-04  145.395996  146.485001  143.716507  144.399506  144.399506   \n",
      "2022-01-05  144.419998  144.499496  137.688004  137.774994  137.774994   \n",
      "2022-01-06  136.998505  139.940002  136.558502  137.747498  137.747498   \n",
      "2022-01-07  138.145493  138.448502  135.766495  137.016998  137.016998   \n",
      "...                ...         ...         ...         ...         ...   \n",
      "2022-12-23   87.110001   89.550003   87.070000   89.230003   89.230003   \n",
      "2022-12-27   88.800003   88.940002   87.010002   87.389999   87.389999   \n",
      "2022-12-28   86.980003   88.040001   85.940002   86.019997   86.019997   \n",
      "2022-12-29   86.620003   88.849998   86.610001   88.449997   88.449997   \n",
      "2022-12-30   86.980003   88.300003   86.570000   88.230003   88.230003   \n",
      "\n",
      "              Volume  \n",
      "Date                  \n",
      "2022-01-03  28646000  \n",
      "2022-01-04  28400000  \n",
      "2022-01-05  54618000  \n",
      "2022-01-06  37348000  \n",
      "2022-01-07  29760000  \n",
      "...              ...  \n",
      "2022-12-23  23003000  \n",
      "2022-12-27  20097300  \n",
      "2022-12-28  19523200  \n",
      "2022-12-29  23333500  \n",
      "2022-12-30  23986300  \n",
      "\n",
      "[251 rows x 6 columns]\n"
     ]
    }
   ],
   "source": [
    "# enter solution here\n",
    "# Remove the 'Year' and 'Month' columns\n",
    "google.drop(['Year', 'Month'], axis=1, inplace=True)\n",
    "\n",
    "# Display the updated DataFrame\n",
    "print(google)\n"
   ]
  },
  {
   "cell_type": "markdown",
   "metadata": {
    "id": "9F2z59CnCEsQ"
   },
   "source": [
    "### <a name='10'></a> Exercise 30\n",
    "\n",
    "Assign the following values to the column names:\n",
    "* Open -> O\n",
    "* High -> H\n",
    "* Low -> L\n",
    "* Close -> C\n",
    "* Volume -> V\n",
    "\n",
    "to object _google_. Siaplay object _google_."
   ]
  },
  {
   "cell_type": "code",
   "execution_count": 42,
   "metadata": {
    "id": "ThAek2vbCGh4"
   },
   "outputs": [
    {
     "name": "stdout",
     "output_type": "stream",
     "text": [
      "                     O           H           L           C   Adj Close  \\\n",
      "Date                                                                     \n",
      "2022-01-03  145.054993  145.850998  143.712997  144.991501  144.991501   \n",
      "2022-01-04  145.395996  146.485001  143.716507  144.399506  144.399506   \n",
      "2022-01-05  144.419998  144.499496  137.688004  137.774994  137.774994   \n",
      "2022-01-06  136.998505  139.940002  136.558502  137.747498  137.747498   \n",
      "2022-01-07  138.145493  138.448502  135.766495  137.016998  137.016998   \n",
      "...                ...         ...         ...         ...         ...   \n",
      "2022-12-23   87.110001   89.550003   87.070000   89.230003   89.230003   \n",
      "2022-12-27   88.800003   88.940002   87.010002   87.389999   87.389999   \n",
      "2022-12-28   86.980003   88.040001   85.940002   86.019997   86.019997   \n",
      "2022-12-29   86.620003   88.849998   86.610001   88.449997   88.449997   \n",
      "2022-12-30   86.980003   88.300003   86.570000   88.230003   88.230003   \n",
      "\n",
      "                   V  \n",
      "Date                  \n",
      "2022-01-03  28646000  \n",
      "2022-01-04  28400000  \n",
      "2022-01-05  54618000  \n",
      "2022-01-06  37348000  \n",
      "2022-01-07  29760000  \n",
      "...              ...  \n",
      "2022-12-23  23003000  \n",
      "2022-12-27  20097300  \n",
      "2022-12-28  19523200  \n",
      "2022-12-29  23333500  \n",
      "2022-12-30  23986300  \n",
      "\n",
      "[251 rows x 6 columns]\n"
     ]
    }
   ],
   "source": [
    "# enter solution here\n",
    "# Rename the columns\n",
    "google.rename(columns={'Open': 'O', 'High': 'H', 'Low': 'L', 'Close': 'C', 'Volume': 'V'}, inplace=True)\n",
    "\n",
    "# Display the updated DataFrame\n",
    "print(google)\n"
   ]
  },
  {
   "cell_type": "markdown",
   "metadata": {
    "id": "pTTcLpUDCm_Z"
   },
   "source": [
    "### <a name='1'></a> Exercise 31\n",
    "\n",
    "Load the csv file into a DataFrame object named _df_raw_ with the default parameters of the _pd.read_csv()_ function and display the first 5 rows.\n",
    "File url:\n",
    "* https://ml-repository-krakers.s3-eu-west-1.amazonaws.com/kaggle+/churn_modelling/Telco-Customer-Churn.csv"
   ]
  },
  {
   "cell_type": "code",
   "execution_count": 43,
   "metadata": {
    "id": "XKWpohWqC2IB"
   },
   "outputs": [
    {
     "name": "stdout",
     "output_type": "stream",
     "text": [
      "   customerID  gender  SeniorCitizen Partner Dependents  tenure PhoneService  \\\n",
      "0  7590-VHVEG  Female              0     Yes         No       1           No   \n",
      "1  5575-GNVDE    Male              0      No         No      34          Yes   \n",
      "2  3668-QPYBK    Male              0      No         No       2          Yes   \n",
      "3  7795-CFOCW    Male              0      No         No      45           No   \n",
      "4  9237-HQITU  Female              0      No         No       2          Yes   \n",
      "\n",
      "      MultipleLines InternetService OnlineSecurity  ... DeviceProtection  \\\n",
      "0  No phone service             DSL             No  ...               No   \n",
      "1                No             DSL            Yes  ...              Yes   \n",
      "2                No             DSL            Yes  ...               No   \n",
      "3  No phone service             DSL            Yes  ...              Yes   \n",
      "4                No     Fiber optic             No  ...               No   \n",
      "\n",
      "  TechSupport StreamingTV StreamingMovies        Contract PaperlessBilling  \\\n",
      "0          No          No              No  Month-to-month              Yes   \n",
      "1          No          No              No        One year               No   \n",
      "2          No          No              No  Month-to-month              Yes   \n",
      "3         Yes          No              No        One year               No   \n",
      "4          No          No              No  Month-to-month              Yes   \n",
      "\n",
      "               PaymentMethod MonthlyCharges  TotalCharges Churn  \n",
      "0           Electronic check          29.85         29.85    No  \n",
      "1               Mailed check          56.95        1889.5    No  \n",
      "2               Mailed check          53.85        108.15   Yes  \n",
      "3  Bank transfer (automatic)          42.30       1840.75    No  \n",
      "4           Electronic check          70.70        151.65   Yes  \n",
      "\n",
      "[5 rows x 21 columns]\n"
     ]
    }
   ],
   "source": [
    "# enter solution here\n",
    "import pandas as pd\n",
    "\n",
    "# URL of the CSV file\n",
    "url = \"https://ml-repository-krakers.s3-eu-west-1.amazonaws.com/kaggle+/churn_modelling/Telco-Customer-Churn.csv\"\n",
    "\n",
    "# Load the CSV file into a DataFrame\n",
    "df_raw = pd.read_csv(url)\n",
    "\n",
    "# Display the first 5 rows of the DataFrame\n",
    "print(df_raw.head())\n"
   ]
  },
  {
   "cell_type": "markdown",
   "metadata": {
    "id": "UshG60DyCpNY"
   },
   "source": [
    "Copy the _df_raw_ object to the _df_ variable."
   ]
  },
  {
   "cell_type": "code",
   "execution_count": 44,
   "metadata": {
    "id": "Vd9YltG4Cyqv"
   },
   "outputs": [
    {
     "name": "stdout",
     "output_type": "stream",
     "text": [
      "   customerID  gender  SeniorCitizen Partner Dependents  tenure PhoneService  \\\n",
      "0  7590-VHVEG  Female              0     Yes         No       1           No   \n",
      "1  5575-GNVDE    Male              0      No         No      34          Yes   \n",
      "2  3668-QPYBK    Male              0      No         No       2          Yes   \n",
      "3  7795-CFOCW    Male              0      No         No      45           No   \n",
      "4  9237-HQITU  Female              0      No         No       2          Yes   \n",
      "\n",
      "      MultipleLines InternetService OnlineSecurity  ... DeviceProtection  \\\n",
      "0  No phone service             DSL             No  ...               No   \n",
      "1                No             DSL            Yes  ...              Yes   \n",
      "2                No             DSL            Yes  ...               No   \n",
      "3  No phone service             DSL            Yes  ...              Yes   \n",
      "4                No     Fiber optic             No  ...               No   \n",
      "\n",
      "  TechSupport StreamingTV StreamingMovies        Contract PaperlessBilling  \\\n",
      "0          No          No              No  Month-to-month              Yes   \n",
      "1          No          No              No        One year               No   \n",
      "2          No          No              No  Month-to-month              Yes   \n",
      "3         Yes          No              No        One year               No   \n",
      "4          No          No              No  Month-to-month              Yes   \n",
      "\n",
      "               PaymentMethod MonthlyCharges  TotalCharges Churn  \n",
      "0           Electronic check          29.85         29.85    No  \n",
      "1               Mailed check          56.95        1889.5    No  \n",
      "2               Mailed check          53.85        108.15   Yes  \n",
      "3  Bank transfer (automatic)          42.30       1840.75    No  \n",
      "4           Electronic check          70.70        151.65   Yes  \n",
      "\n",
      "[5 rows x 21 columns]\n"
     ]
    }
   ],
   "source": [
    "# enter solution here\n",
    "import pandas as pd\n",
    "\n",
    "# URL of the CSV file\n",
    "url = \"https://ml-repository-krakers.s3-eu-west-1.amazonaws.com/kaggle+/churn_modelling/Telco-Customer-Churn.csv\"\n",
    "\n",
    "# Load the CSV file into a DataFrame\n",
    "df_raw = pd.read_csv(url)\n",
    "\n",
    "# Display the first 5 rows of the DataFrame\n",
    "print(df_raw.head())\n"
   ]
  },
  {
   "cell_type": "markdown",
   "metadata": {
    "id": "h50_rjhVCrIv"
   },
   "source": [
    "Display basic information about the object _df_."
   ]
  },
  {
   "cell_type": "code",
   "execution_count": 45,
   "metadata": {
    "id": "r9nYGPExCw9H"
   },
   "outputs": [
    {
     "name": "stdout",
     "output_type": "stream",
     "text": [
      "   customerID  gender  SeniorCitizen Partner Dependents  tenure PhoneService  \\\n",
      "0  7590-VHVEG  Female              0     Yes         No       1           No   \n",
      "1  5575-GNVDE    Male              0      No         No      34          Yes   \n",
      "2  3668-QPYBK    Male              0      No         No       2          Yes   \n",
      "3  7795-CFOCW    Male              0      No         No      45           No   \n",
      "4  9237-HQITU  Female              0      No         No       2          Yes   \n",
      "\n",
      "      MultipleLines InternetService OnlineSecurity  ... DeviceProtection  \\\n",
      "0  No phone service             DSL             No  ...               No   \n",
      "1                No             DSL            Yes  ...              Yes   \n",
      "2                No             DSL            Yes  ...               No   \n",
      "3  No phone service             DSL            Yes  ...              Yes   \n",
      "4                No     Fiber optic             No  ...               No   \n",
      "\n",
      "  TechSupport StreamingTV StreamingMovies        Contract PaperlessBilling  \\\n",
      "0          No          No              No  Month-to-month              Yes   \n",
      "1          No          No              No        One year               No   \n",
      "2          No          No              No  Month-to-month              Yes   \n",
      "3         Yes          No              No        One year               No   \n",
      "4          No          No              No  Month-to-month              Yes   \n",
      "\n",
      "               PaymentMethod MonthlyCharges  TotalCharges Churn  \n",
      "0           Electronic check          29.85         29.85    No  \n",
      "1               Mailed check          56.95        1889.5    No  \n",
      "2               Mailed check          53.85        108.15   Yes  \n",
      "3  Bank transfer (automatic)          42.30       1840.75    No  \n",
      "4           Electronic check          70.70        151.65   Yes  \n",
      "\n",
      "[5 rows x 21 columns]\n"
     ]
    }
   ],
   "source": [
    "# enter solution here\n",
    "# Copy the df_raw object to the df variable\n",
    "df = df_raw.copy()\n",
    "\n",
    "# Display the first 5 rows of the new DataFrame (df)\n",
    "print(df.head())\n"
   ]
  },
  {
   "cell_type": "markdown",
   "metadata": {
    "id": "xI-wd5p-Ctan"
   },
   "source": [
    "Determine the number of missing elements (_np.nan_) in the _df_ object for each variable."
   ]
  },
  {
   "cell_type": "code",
   "execution_count": 46,
   "metadata": {
    "id": "z5S8YQH1Cwkg"
   },
   "outputs": [
    {
     "name": "stdout",
     "output_type": "stream",
     "text": [
      "customerID          0\n",
      "gender              0\n",
      "SeniorCitizen       0\n",
      "Partner             0\n",
      "Dependents          0\n",
      "tenure              0\n",
      "PhoneService        0\n",
      "MultipleLines       0\n",
      "InternetService     0\n",
      "OnlineSecurity      0\n",
      "OnlineBackup        0\n",
      "DeviceProtection    0\n",
      "TechSupport         0\n",
      "StreamingTV         0\n",
      "StreamingMovies     0\n",
      "Contract            0\n",
      "PaperlessBilling    0\n",
      "PaymentMethod       0\n",
      "MonthlyCharges      0\n",
      "TotalCharges        0\n",
      "Churn               0\n",
      "dtype: int64\n"
     ]
    }
   ],
   "source": [
    "# enter solution here\n",
    "# Determine the number of missing elements for each variable in the DataFrame df\n",
    "missing_counts = df.isna().sum()\n",
    "\n",
    "# Display the number of missing elements for each variable\n",
    "print(missing_counts)\n"
   ]
  },
  {
   "cell_type": "markdown",
   "metadata": {
    "id": "v-rF8ZxEC8W_"
   },
   "source": [
    "### <a name='2'></a> Exercise 32\n",
    "Note the _TotalCharges_ column. The type of this column is _object_. Try to guess why this happened.\n",
    "\n",
    "__Tip:__\n",
    "Look at the variable distribution."
   ]
  },
  {
   "cell_type": "code",
   "execution_count": 47,
   "metadata": {
    "id": "e-FWxqTRC-pC"
   },
   "outputs": [
    {
     "name": "stdout",
     "output_type": "stream",
     "text": [
      "          11\n",
      "20.2      11\n",
      "19.75      9\n",
      "20.05      8\n",
      "19.9       8\n",
      "          ..\n",
      "6849.4     1\n",
      "692.35     1\n",
      "130.15     1\n",
      "3211.9     1\n",
      "6844.5     1\n",
      "Name: TotalCharges, Length: 6531, dtype: int64\n"
     ]
    }
   ],
   "source": [
    "# enter solution here\n",
    "# Check unique values and their counts in the 'TotalCharges' column\n",
    "unique_values = df['TotalCharges'].value_counts()\n",
    "\n",
    "# Display unique values and their counts\n",
    "print(unique_values)\n"
   ]
  },
  {
   "cell_type": "markdown",
   "metadata": {
    "id": "3CLW-KRGDAye"
   },
   "source": [
    "Note that we have 11 null values. To see it better, see below."
   ]
  },
  {
   "cell_type": "code",
   "execution_count": 48,
   "metadata": {
    "id": "Cb0S5LwlDARI"
   },
   "outputs": [
    {
     "data": {
      "text/plain": [
       "Index([' ', '20.2', '19.75'], dtype='object')"
      ]
     },
     "execution_count": 48,
     "metadata": {},
     "output_type": "execute_result"
    }
   ],
   "source": [
    "df['TotalCharges'].value_counts()[:3].index"
   ]
  },
  {
   "cell_type": "markdown",
   "metadata": {
    "id": "gDZwKkV1DFSZ"
   },
   "source": [
    "This is a space character that has crept into our data. He made the pandas read the entire column as text. As an analyst, we have to deal with such problems. Try to replace the missing values of the _TotalCharges_ column with its median."
   ]
  },
  {
   "cell_type": "code",
   "execution_count": 50,
   "metadata": {
    "id": "50WmBV4kDIN-"
   },
   "outputs": [
    {
     "name": "stdout",
     "output_type": "stream",
     "text": [
      "   customerID  gender  SeniorCitizen Partner Dependents  tenure PhoneService  \\\n",
      "0  7590-VHVEG  Female              0     Yes         No       1           No   \n",
      "1  5575-GNVDE    Male              0      No         No      34          Yes   \n",
      "2  3668-QPYBK    Male              0      No         No       2          Yes   \n",
      "3  7795-CFOCW    Male              0      No         No      45           No   \n",
      "4  9237-HQITU  Female              0      No         No       2          Yes   \n",
      "\n",
      "      MultipleLines InternetService OnlineSecurity  ... DeviceProtection  \\\n",
      "0  No phone service             DSL             No  ...               No   \n",
      "1                No             DSL            Yes  ...              Yes   \n",
      "2                No             DSL            Yes  ...               No   \n",
      "3  No phone service             DSL            Yes  ...              Yes   \n",
      "4                No     Fiber optic             No  ...               No   \n",
      "\n",
      "  TechSupport StreamingTV StreamingMovies        Contract PaperlessBilling  \\\n",
      "0          No          No              No  Month-to-month              Yes   \n",
      "1          No          No              No        One year               No   \n",
      "2          No          No              No  Month-to-month              Yes   \n",
      "3         Yes          No              No        One year               No   \n",
      "4          No          No              No  Month-to-month              Yes   \n",
      "\n",
      "               PaymentMethod MonthlyCharges  TotalCharges  Churn  \n",
      "0           Electronic check          29.85         29.85     No  \n",
      "1               Mailed check          56.95       1889.50     No  \n",
      "2               Mailed check          53.85        108.15    Yes  \n",
      "3  Bank transfer (automatic)          42.30       1840.75     No  \n",
      "4           Electronic check          70.70        151.65    Yes  \n",
      "\n",
      "[5 rows x 21 columns]\n"
     ]
    }
   ],
   "source": [
    "# enter solution here\n",
    "import numpy as np\n",
    "\n",
    "# Convert 'TotalCharges' column to numeric, handling errors as 'coerce' to replace non-numeric values with NaN\n",
    "df['TotalCharges'] = pd.to_numeric(df['TotalCharges'], errors='coerce')\n",
    "\n",
    "# Replace missing values with the median of the 'TotalCharges' column\n",
    "median_total_charges = df['TotalCharges'].median()\n",
    "df['TotalCharges'].fillna(median_total_charges, inplace=True)\n",
    "\n",
    "# Display the updated DataFrame with missing values replaced\n",
    "print(df.head())\n"
   ]
  },
  {
   "cell_type": "markdown",
   "metadata": {
    "id": "HZbXD9PWDHsu"
   },
   "source": [
    "Check if the type has been changed correctly."
   ]
  },
  {
   "cell_type": "code",
   "execution_count": 51,
   "metadata": {
    "id": "w0RYrXP4DJkO"
   },
   "outputs": [
    {
     "name": "stdout",
     "output_type": "stream",
     "text": [
      "Data type of \"TotalCharges\" column: float64\n"
     ]
    }
   ],
   "source": [
    "# enter solution here\n",
    "# Check the data type of the 'TotalCharges' column\n",
    "total_charges_dtype = df['TotalCharges'].dtype\n",
    "\n",
    "# Display the data type\n",
    "print(f'Data type of \"TotalCharges\" column: {total_charges_dtype}')\n"
   ]
  },
  {
   "cell_type": "markdown",
   "metadata": {
    "id": "aJPJzrS0DPZX"
   },
   "source": [
    "### <a name='3'></a> Exercise 33\n",
    "Convert columns from the list below _categorical_ to type _category_."
   ]
  },
  {
   "cell_type": "code",
   "execution_count": 53,
   "metadata": {
    "id": "K1tiBvjoDYR6"
   },
   "outputs": [
    {
     "ename": "KeyError",
     "evalue": "\"['Gender'] not in index\"",
     "output_type": "error",
     "traceback": [
      "\u001b[1;31m---------------------------------------------------------------------------\u001b[0m",
      "\u001b[1;31mKeyError\u001b[0m                                  Traceback (most recent call last)",
      "\u001b[1;32m~\\AppData\\Local\\Temp\\ipykernel_10136\\1139707743.py\u001b[0m in \u001b[0;36m<module>\u001b[1;34m\u001b[0m\n\u001b[0;32m      6\u001b[0m \u001b[1;33m\u001b[0m\u001b[0m\n\u001b[0;32m      7\u001b[0m \u001b[1;31m# Convert selected columns to the 'category' data type\u001b[0m\u001b[1;33m\u001b[0m\u001b[1;33m\u001b[0m\u001b[0m\n\u001b[1;32m----> 8\u001b[1;33m \u001b[0mdf\u001b[0m\u001b[1;33m[\u001b[0m\u001b[0mcolumns_to_convert\u001b[0m\u001b[1;33m]\u001b[0m \u001b[1;33m=\u001b[0m \u001b[0mdf\u001b[0m\u001b[1;33m[\u001b[0m\u001b[0mcolumns_to_convert\u001b[0m\u001b[1;33m]\u001b[0m\u001b[1;33m.\u001b[0m\u001b[0mastype\u001b[0m\u001b[1;33m(\u001b[0m\u001b[1;34m'category'\u001b[0m\u001b[1;33m)\u001b[0m\u001b[1;33m\u001b[0m\u001b[1;33m\u001b[0m\u001b[0m\n\u001b[0m\u001b[0;32m      9\u001b[0m \u001b[1;33m\u001b[0m\u001b[0m\n\u001b[0;32m     10\u001b[0m \u001b[1;31m# Display the updated DataFrame with columns converted to 'category'\u001b[0m\u001b[1;33m\u001b[0m\u001b[1;33m\u001b[0m\u001b[0m\n",
      "\u001b[1;32m~\\anaconda3\\lib\\site-packages\\pandas\\core\\frame.py\u001b[0m in \u001b[0;36m__getitem__\u001b[1;34m(self, key)\u001b[0m\n\u001b[0;32m   3462\u001b[0m             \u001b[1;32mif\u001b[0m \u001b[0mis_iterator\u001b[0m\u001b[1;33m(\u001b[0m\u001b[0mkey\u001b[0m\u001b[1;33m)\u001b[0m\u001b[1;33m:\u001b[0m\u001b[1;33m\u001b[0m\u001b[1;33m\u001b[0m\u001b[0m\n\u001b[0;32m   3463\u001b[0m                 \u001b[0mkey\u001b[0m \u001b[1;33m=\u001b[0m \u001b[0mlist\u001b[0m\u001b[1;33m(\u001b[0m\u001b[0mkey\u001b[0m\u001b[1;33m)\u001b[0m\u001b[1;33m\u001b[0m\u001b[1;33m\u001b[0m\u001b[0m\n\u001b[1;32m-> 3464\u001b[1;33m             \u001b[0mindexer\u001b[0m \u001b[1;33m=\u001b[0m \u001b[0mself\u001b[0m\u001b[1;33m.\u001b[0m\u001b[0mloc\u001b[0m\u001b[1;33m.\u001b[0m\u001b[0m_get_listlike_indexer\u001b[0m\u001b[1;33m(\u001b[0m\u001b[0mkey\u001b[0m\u001b[1;33m,\u001b[0m \u001b[0maxis\u001b[0m\u001b[1;33m=\u001b[0m\u001b[1;36m1\u001b[0m\u001b[1;33m)\u001b[0m\u001b[1;33m[\u001b[0m\u001b[1;36m1\u001b[0m\u001b[1;33m]\u001b[0m\u001b[1;33m\u001b[0m\u001b[1;33m\u001b[0m\u001b[0m\n\u001b[0m\u001b[0;32m   3465\u001b[0m \u001b[1;33m\u001b[0m\u001b[0m\n\u001b[0;32m   3466\u001b[0m         \u001b[1;31m# take() does not accept boolean indexers\u001b[0m\u001b[1;33m\u001b[0m\u001b[1;33m\u001b[0m\u001b[0m\n",
      "\u001b[1;32m~\\anaconda3\\lib\\site-packages\\pandas\\core\\indexing.py\u001b[0m in \u001b[0;36m_get_listlike_indexer\u001b[1;34m(self, key, axis)\u001b[0m\n\u001b[0;32m   1312\u001b[0m             \u001b[0mkeyarr\u001b[0m\u001b[1;33m,\u001b[0m \u001b[0mindexer\u001b[0m\u001b[1;33m,\u001b[0m \u001b[0mnew_indexer\u001b[0m \u001b[1;33m=\u001b[0m \u001b[0max\u001b[0m\u001b[1;33m.\u001b[0m\u001b[0m_reindex_non_unique\u001b[0m\u001b[1;33m(\u001b[0m\u001b[0mkeyarr\u001b[0m\u001b[1;33m)\u001b[0m\u001b[1;33m\u001b[0m\u001b[1;33m\u001b[0m\u001b[0m\n\u001b[0;32m   1313\u001b[0m \u001b[1;33m\u001b[0m\u001b[0m\n\u001b[1;32m-> 1314\u001b[1;33m         \u001b[0mself\u001b[0m\u001b[1;33m.\u001b[0m\u001b[0m_validate_read_indexer\u001b[0m\u001b[1;33m(\u001b[0m\u001b[0mkeyarr\u001b[0m\u001b[1;33m,\u001b[0m \u001b[0mindexer\u001b[0m\u001b[1;33m,\u001b[0m \u001b[0maxis\u001b[0m\u001b[1;33m)\u001b[0m\u001b[1;33m\u001b[0m\u001b[1;33m\u001b[0m\u001b[0m\n\u001b[0m\u001b[0;32m   1315\u001b[0m \u001b[1;33m\u001b[0m\u001b[0m\n\u001b[0;32m   1316\u001b[0m         if needs_i8_conversion(ax.dtype) or isinstance(\n",
      "\u001b[1;32m~\\anaconda3\\lib\\site-packages\\pandas\\core\\indexing.py\u001b[0m in \u001b[0;36m_validate_read_indexer\u001b[1;34m(self, key, indexer, axis)\u001b[0m\n\u001b[0;32m   1375\u001b[0m \u001b[1;33m\u001b[0m\u001b[0m\n\u001b[0;32m   1376\u001b[0m             \u001b[0mnot_found\u001b[0m \u001b[1;33m=\u001b[0m \u001b[0mlist\u001b[0m\u001b[1;33m(\u001b[0m\u001b[0mensure_index\u001b[0m\u001b[1;33m(\u001b[0m\u001b[0mkey\u001b[0m\u001b[1;33m)\u001b[0m\u001b[1;33m[\u001b[0m\u001b[0mmissing_mask\u001b[0m\u001b[1;33m.\u001b[0m\u001b[0mnonzero\u001b[0m\u001b[1;33m(\u001b[0m\u001b[1;33m)\u001b[0m\u001b[1;33m[\u001b[0m\u001b[1;36m0\u001b[0m\u001b[1;33m]\u001b[0m\u001b[1;33m]\u001b[0m\u001b[1;33m.\u001b[0m\u001b[0munique\u001b[0m\u001b[1;33m(\u001b[0m\u001b[1;33m)\u001b[0m\u001b[1;33m)\u001b[0m\u001b[1;33m\u001b[0m\u001b[1;33m\u001b[0m\u001b[0m\n\u001b[1;32m-> 1377\u001b[1;33m             \u001b[1;32mraise\u001b[0m \u001b[0mKeyError\u001b[0m\u001b[1;33m(\u001b[0m\u001b[1;34mf\"{not_found} not in index\"\u001b[0m\u001b[1;33m)\u001b[0m\u001b[1;33m\u001b[0m\u001b[1;33m\u001b[0m\u001b[0m\n\u001b[0m\u001b[0;32m   1378\u001b[0m \u001b[1;33m\u001b[0m\u001b[0m\n\u001b[0;32m   1379\u001b[0m \u001b[1;33m\u001b[0m\u001b[0m\n",
      "\u001b[1;31mKeyError\u001b[0m: \"['Gender'] not in index\""
     ]
    }
   ],
   "source": [
    "# enter solution here\n",
    "# List of columns to convert to category\n",
    "columns_to_convert = ['Gender', 'SeniorCitizen', 'Partner', 'Dependents', 'PhoneService', 'MultipleLines', \n",
    "                       'InternetService', 'OnlineSecurity', 'OnlineBackup', 'DeviceProtection', 'TechSupport',\n",
    "                       'StreamingTV', 'StreamingMovies', 'Contract', 'PaperlessBilling', 'PaymentMethod', 'Churn']\n",
    "\n",
    "# Convert selected columns to the 'category' data type\n",
    "df[columns_to_convert] = df[columns_to_convert].astype('category')\n",
    "\n",
    "# Display the updated DataFrame with columns converted to 'category'\n",
    "print(df.head())\n"
   ]
  },
  {
   "cell_type": "markdown",
   "metadata": {
    "id": "nJMdkLvKDSE_"
   },
   "source": [
    "Convert columns from the list below _numerical_ to type _float_."
   ]
  },
  {
   "cell_type": "code",
   "execution_count": null,
   "metadata": {
    "id": "MbU1mt_5DXdH"
   },
   "outputs": [],
   "source": [
    "# enter solution here"
   ]
  },
  {
   "cell_type": "markdown",
   "metadata": {
    "id": "nDsFUQjtDUPn"
   },
   "source": [
    "Set the _customerID_ column as the index of the _df_ object and display info about the _df_ object."
   ]
  },
  {
   "cell_type": "code",
   "execution_count": null,
   "metadata": {
    "id": "6mXUGTjTDW_A"
   },
   "outputs": [],
   "source": [
    "# enter solution here"
   ]
  },
  {
   "cell_type": "markdown",
   "metadata": {
    "id": "4ulcomm9DcHP"
   },
   "source": [
    "### <a name='4'></a> Exercise 34\n",
    "Use the _describe()_ method to display basic statistics for the _df_ object."
   ]
  },
  {
   "cell_type": "code",
   "execution_count": 54,
   "metadata": {
    "id": "0wSeJ3yaDj-Y"
   },
   "outputs": [
    {
     "data": {
      "text/html": [
       "<div>\n",
       "<style scoped>\n",
       "    .dataframe tbody tr th:only-of-type {\n",
       "        vertical-align: middle;\n",
       "    }\n",
       "\n",
       "    .dataframe tbody tr th {\n",
       "        vertical-align: top;\n",
       "    }\n",
       "\n",
       "    .dataframe thead th {\n",
       "        text-align: right;\n",
       "    }\n",
       "</style>\n",
       "<table border=\"1\" class=\"dataframe\">\n",
       "  <thead>\n",
       "    <tr style=\"text-align: right;\">\n",
       "      <th></th>\n",
       "      <th>SeniorCitizen</th>\n",
       "      <th>tenure</th>\n",
       "      <th>MonthlyCharges</th>\n",
       "      <th>TotalCharges</th>\n",
       "    </tr>\n",
       "  </thead>\n",
       "  <tbody>\n",
       "    <tr>\n",
       "      <th>count</th>\n",
       "      <td>7043.000000</td>\n",
       "      <td>7043.000000</td>\n",
       "      <td>7043.000000</td>\n",
       "      <td>7043.000000</td>\n",
       "    </tr>\n",
       "    <tr>\n",
       "      <th>mean</th>\n",
       "      <td>0.162147</td>\n",
       "      <td>32.371149</td>\n",
       "      <td>64.761692</td>\n",
       "      <td>2281.916928</td>\n",
       "    </tr>\n",
       "    <tr>\n",
       "      <th>std</th>\n",
       "      <td>0.368612</td>\n",
       "      <td>24.559481</td>\n",
       "      <td>30.090047</td>\n",
       "      <td>2265.270398</td>\n",
       "    </tr>\n",
       "    <tr>\n",
       "      <th>min</th>\n",
       "      <td>0.000000</td>\n",
       "      <td>0.000000</td>\n",
       "      <td>18.250000</td>\n",
       "      <td>18.800000</td>\n",
       "    </tr>\n",
       "    <tr>\n",
       "      <th>25%</th>\n",
       "      <td>0.000000</td>\n",
       "      <td>9.000000</td>\n",
       "      <td>35.500000</td>\n",
       "      <td>402.225000</td>\n",
       "    </tr>\n",
       "    <tr>\n",
       "      <th>50%</th>\n",
       "      <td>0.000000</td>\n",
       "      <td>29.000000</td>\n",
       "      <td>70.350000</td>\n",
       "      <td>1397.475000</td>\n",
       "    </tr>\n",
       "    <tr>\n",
       "      <th>75%</th>\n",
       "      <td>0.000000</td>\n",
       "      <td>55.000000</td>\n",
       "      <td>89.850000</td>\n",
       "      <td>3786.600000</td>\n",
       "    </tr>\n",
       "    <tr>\n",
       "      <th>max</th>\n",
       "      <td>1.000000</td>\n",
       "      <td>72.000000</td>\n",
       "      <td>118.750000</td>\n",
       "      <td>8684.800000</td>\n",
       "    </tr>\n",
       "  </tbody>\n",
       "</table>\n",
       "</div>"
      ],
      "text/plain": [
       "       SeniorCitizen       tenure  MonthlyCharges  TotalCharges\n",
       "count    7043.000000  7043.000000     7043.000000   7043.000000\n",
       "mean        0.162147    32.371149       64.761692   2281.916928\n",
       "std         0.368612    24.559481       30.090047   2265.270398\n",
       "min         0.000000     0.000000       18.250000     18.800000\n",
       "25%         0.000000     9.000000       35.500000    402.225000\n",
       "50%         0.000000    29.000000       70.350000   1397.475000\n",
       "75%         0.000000    55.000000       89.850000   3786.600000\n",
       "max         1.000000    72.000000      118.750000   8684.800000"
      ]
     },
     "execution_count": 54,
     "metadata": {},
     "output_type": "execute_result"
    }
   ],
   "source": [
    "# enter solution here\n",
    "df.describe()"
   ]
  },
  {
   "cell_type": "markdown",
   "metadata": {
    "id": "TcD6e9EgDeTf"
   },
   "source": [
    "Note that these are only numeric variables. Display the basic statistics of categorical variables by passing the appropriate parameter _include_ of the _describe()_ method."
   ]
  },
  {
   "cell_type": "code",
   "execution_count": null,
   "metadata": {
    "id": "6UW1PzuWDk1e"
   },
   "outputs": [],
   "source": [
    "# enter solution here"
   ]
  },
  {
   "cell_type": "markdown",
   "metadata": {
    "id": "C-CLljt2DgiC"
   },
   "source": [
    "Note that these are slightly different statistics than for numeric variables."
   ]
  },
  {
   "cell_type": "markdown",
   "metadata": {
    "id": "k6EO9PO6Do9x"
   },
   "source": [
    "### <a name='5'></a> Exercise 35\n",
    "Find the distribution of values for the _Churn_ variable."
   ]
  },
  {
   "cell_type": "code",
   "execution_count": 55,
   "metadata": {
    "id": "nPVzIuQbDomQ"
   },
   "outputs": [
    {
     "name": "stdout",
     "output_type": "stream",
     "text": [
      "No     5174\n",
      "Yes    1869\n",
      "Name: Churn, dtype: int64\n"
     ]
    }
   ],
   "source": [
    "# enter solution here\n",
    "# Find the distribution of values for the 'Churn' variable\n",
    "churn_distribution = df['Churn'].value_counts()\n",
    "\n",
    "# Display the distribution\n",
    "print(churn_distribution)\n"
   ]
  },
  {
   "cell_type": "markdown",
   "metadata": {
    "id": "7uI92FMIDruC"
   },
   "source": [
    "Build a pie chart of the distribution of the _Churn_ variable."
   ]
  },
  {
   "cell_type": "code",
   "execution_count": 56,
   "metadata": {
    "id": "45yZHJuZDsig"
   },
   "outputs": [
    {
     "data": {
      "image/png": "[encoded data removed]",
      "text/plain": [
       "<Figure size 432x288 with 1 Axes>"
      ]
     },
     "metadata": {},
     "output_type": "display_data"
    }
   ],
   "source": [
    "# enter solution here\n",
    "import matplotlib.pyplot as plt\n",
    "\n",
    "# Find the distribution of values for the 'Churn' variable\n",
    "churn_distribution = df['Churn'].value_counts()\n",
    "\n",
    "# Plot a pie chart\n",
    "churn_distribution.plot.pie(autopct='%1.1f%%', startangle=90, colors=['lightcoral', 'lightskyblue'])\n",
    "\n",
    "# Adding title\n",
    "plt.title('Churn Distribution')\n",
    "\n",
    "# Show the pie chart\n",
    "plt.show()\n"
   ]
  },
  {
   "cell_type": "markdown",
   "metadata": {
    "id": "E8XTsWakDwV3"
   },
   "source": [
    "### <a name='6'></a> Exercise 36\n",
    "Build the _pairplot()_ chart from the _seaborn_ library. Pass variables:\n",
    "* tenure\n",
    "* MonthlyCharges\n",
    "* TotalCharges\n",
    "\n",
    "\n",
    "and the parameter: _hue = 'Churn'_.\n",
    "\n",
    "__Tip:__\n",
    "https://seaborn.pydata.org/generated/seaborn.pairplot.html"
   ]
  },
  {
   "cell_type": "code",
   "execution_count": 57,
   "metadata": {
    "id": "i4VyKeJlDzIZ"
   },
   "outputs": [
    {
     "data": {
      "image/png": "[encoded data removed]",
      "text/plain": [
       "<Figure size 597.475x540 with 12 Axes>"
      ]
     },
     "metadata": {},
     "output_type": "display_data"
    }
   ],
   "source": [
    "# enter solution here\n",
    "import seaborn as sns\n",
    "import matplotlib.pyplot as plt\n",
    "\n",
    "# Selecting variables for the pairplot\n",
    "selected_variables = ['tenure', 'MonthlyCharges', 'TotalCharges', 'Churn']\n",
    "\n",
    "# Creating a pairplot\n",
    "sns.pairplot(df[selected_variables], hue='Churn', markers=['o', 's'], palette={'Yes': 'red', 'No': 'blue'})\n",
    "\n",
    "# Adding title\n",
    "plt.suptitle('Pairplot of Selected Variables with Churn Hue')\n",
    "\n",
    "# Show the pairplot\n",
    "plt.show()\n"
   ]
  },
  {
   "cell_type": "markdown",
   "metadata": {
    "id": "JmjP1A9QD1IR"
   },
   "source": [
    "### <a name='7'></a> Exercise 37\n",
    "Map the _Churn_ column accordingly:\n",
    "* 'Yes' -> 1\n",
    "* 'No' -> 0\n",
    "\n",
    "Display the first 5 rows of _df_."
   ]
  },
  {
   "cell_type": "code",
   "execution_count": 58,
   "metadata": {
    "id": "Syle4_alEJlX"
   },
   "outputs": [
    {
     "name": "stdout",
     "output_type": "stream",
     "text": [
      "   customerID  gender  SeniorCitizen Partner Dependents  tenure PhoneService  \\\n",
      "0  7590-VHVEG  Female              0     Yes         No       1           No   \n",
      "1  5575-GNVDE    Male              0      No         No      34          Yes   \n",
      "2  3668-QPYBK    Male              0      No         No       2          Yes   \n",
      "3  7795-CFOCW    Male              0      No         No      45           No   \n",
      "4  9237-HQITU  Female              0      No         No       2          Yes   \n",
      "\n",
      "      MultipleLines InternetService OnlineSecurity  ... DeviceProtection  \\\n",
      "0  No phone service             DSL             No  ...               No   \n",
      "1                No             DSL            Yes  ...              Yes   \n",
      "2                No             DSL            Yes  ...               No   \n",
      "3  No phone service             DSL            Yes  ...              Yes   \n",
      "4                No     Fiber optic             No  ...               No   \n",
      "\n",
      "  TechSupport StreamingTV StreamingMovies        Contract PaperlessBilling  \\\n",
      "0          No          No              No  Month-to-month              Yes   \n",
      "1          No          No              No        One year               No   \n",
      "2          No          No              No  Month-to-month              Yes   \n",
      "3         Yes          No              No        One year               No   \n",
      "4          No          No              No  Month-to-month              Yes   \n",
      "\n",
      "               PaymentMethod MonthlyCharges  TotalCharges  Churn  \n",
      "0           Electronic check          29.85         29.85      0  \n",
      "1               Mailed check          56.95       1889.50      0  \n",
      "2               Mailed check          53.85        108.15      1  \n",
      "3  Bank transfer (automatic)          42.30       1840.75      0  \n",
      "4           Electronic check          70.70        151.65      1  \n",
      "\n",
      "[5 rows x 21 columns]\n"
     ]
    }
   ],
   "source": [
    "# enter solution here\n",
    "# Map 'Yes' to 1 and 'No' to 0 in the 'Churn' column\n",
    "df['Churn'] = df['Churn'].map({'Yes': 1, 'No': 0})\n",
    "\n",
    "# Display the first 5 rows of the updated DataFrame\n",
    "print(df.head())\n"
   ]
  },
  {
   "cell_type": "markdown",
   "metadata": {
    "id": "tblIs5DwD41O"
   },
   "source": [
    "### <a name='8'></a> Exercise 38\n",
    "Calculate the correlation matrix for the _df_ object."
   ]
  },
  {
   "cell_type": "code",
   "execution_count": 59,
   "metadata": {
    "id": "u-ljIvrREH1y"
   },
   "outputs": [
    {
     "name": "stdout",
     "output_type": "stream",
     "text": [
      "                SeniorCitizen    tenure  MonthlyCharges  TotalCharges  \\\n",
      "SeniorCitizen        1.000000  0.016567        0.220173      0.102652   \n",
      "tenure               0.016567  1.000000        0.247900      0.825464   \n",
      "MonthlyCharges       0.220173  0.247900        1.000000      0.650864   \n",
      "TotalCharges         0.102652  0.825464        0.650864      1.000000   \n",
      "Churn                0.150889 -0.352229        0.193356     -0.199037   \n",
      "\n",
      "                   Churn  \n",
      "SeniorCitizen   0.150889  \n",
      "tenure         -0.352229  \n",
      "MonthlyCharges  0.193356  \n",
      "TotalCharges   -0.199037  \n",
      "Churn           1.000000  \n"
     ]
    }
   ],
   "source": [
    "# enter solution here\n",
    "# Calculate the correlation matrix for the DataFrame df\n",
    "correlation_matrix = df.corr()\n",
    "\n",
    "# Display the correlation matrix\n",
    "print(correlation_matrix)\n"
   ]
  },
  {
   "cell_type": "markdown",
   "metadata": {
    "id": "zk3SAi0aD7Jv"
   },
   "source": [
    "### <a name='9'></a> Exercise 39\n",
    "Find the distribution of _PaymentMethod_."
   ]
  },
  {
   "cell_type": "code",
   "execution_count": 60,
   "metadata": {
    "id": "Va0RKJ-0EG9v"
   },
   "outputs": [
    {
     "name": "stdout",
     "output_type": "stream",
     "text": [
      "Electronic check             2365\n",
      "Mailed check                 1612\n",
      "Bank transfer (automatic)    1544\n",
      "Credit card (automatic)      1522\n",
      "Name: PaymentMethod, dtype: int64\n"
     ]
    }
   ],
   "source": [
    "# enter solution here\n",
    "# Find the distribution of values for the 'PaymentMethod' variable\n",
    "payment_method_distribution = df['PaymentMethod'].value_counts()\n",
    "\n",
    "# Display the distribution\n",
    "print(payment_method_distribution)\n"
   ]
  },
  {
   "cell_type": "markdown",
   "metadata": {
    "id": "ZqmxXiMSD87-"
   },
   "source": [
    "Group data by the _PaymentMethod_ variable and calculate the average value for the _TotalCharges_ variable."
   ]
  },
  {
   "cell_type": "code",
   "execution_count": 61,
   "metadata": {
    "id": "8y2qHx65EGeU"
   },
   "outputs": [
    {
     "name": "stdout",
     "output_type": "stream",
     "text": [
      "Electronic check             2365\n",
      "Mailed check                 1612\n",
      "Bank transfer (automatic)    1544\n",
      "Credit card (automatic)      1522\n",
      "Name: PaymentMethod, dtype: int64\n"
     ]
    }
   ],
   "source": [
    "# enter solution here\n",
    "# Find the distribution of values for the 'PaymentMethod' variable\n",
    "payment_method_distribution = df['PaymentMethod'].value_counts()\n",
    "\n",
    "# Display the distribution\n",
    "print(payment_method_distribution)\n"
   ]
  },
  {
   "cell_type": "markdown",
   "metadata": {
    "id": "71fr1fqMD-vX"
   },
   "source": [
    "### <a name='10'></a> Exercise 40\n",
    "Take a sample of 10 rows from the _df_ object and save to _sample_10.csv_."
   ]
  },
  {
   "cell_type": "code",
   "execution_count": 62,
   "metadata": {
    "id": "NQdzkbarEDWf"
   },
   "outputs": [
    {
     "name": "stdout",
     "output_type": "stream",
     "text": [
      "      customerID  gender  SeniorCitizen Partner Dependents  tenure  \\\n",
      "185   1024-GUALD  Female              0     Yes         No       1   \n",
      "2715  0484-JPBRU    Male              0      No         No      41   \n",
      "3825  3620-EHIMZ  Female              0     Yes        Yes      52   \n",
      "1807  6910-HADCM  Female              0      No         No       1   \n",
      "132   8587-XYZSF    Male              0      No         No      67   \n",
      "\n",
      "     PhoneService     MultipleLines InternetService       OnlineSecurity  ...  \\\n",
      "185            No  No phone service             DSL                   No  ...   \n",
      "2715          Yes               Yes              No  No internet service  ...   \n",
      "3825          Yes                No              No  No internet service  ...   \n",
      "1807          Yes                No     Fiber optic                   No  ...   \n",
      "132           Yes                No             DSL                   No  ...   \n",
      "\n",
      "         DeviceProtection          TechSupport          StreamingTV  \\\n",
      "185                    No                   No                   No   \n",
      "2715  No internet service  No internet service  No internet service   \n",
      "3825  No internet service  No internet service  No internet service   \n",
      "1807                  Yes                   No                   No   \n",
      "132                    No                  Yes                   No   \n",
      "\n",
      "          StreamingMovies        Contract PaperlessBilling  \\\n",
      "185                    No  Month-to-month              Yes   \n",
      "2715  No internet service  Month-to-month              Yes   \n",
      "3825  No internet service        Two year               No   \n",
      "1807                   No  Month-to-month               No   \n",
      "132                    No        Two year               No   \n",
      "\n",
      "                  PaymentMethod MonthlyCharges  TotalCharges  Churn  \n",
      "185            Electronic check          24.80         24.80      1  \n",
      "2715  Bank transfer (automatic)          25.25        996.45      0  \n",
      "3825               Mailed check          19.35       1031.70      0  \n",
      "1807           Electronic check          76.35         76.35      1  \n",
      "132   Bank transfer (automatic)          50.55       3260.10      0  \n",
      "\n",
      "[5 rows x 21 columns]\n"
     ]
    }
   ],
   "source": [
    "# enter solution here\n",
    "# Take a sample of 10 rows from the DataFrame df\n",
    "sample_df = df.sample(n=10, random_state=42)\n",
    "\n",
    "# Save the sample to a CSV file\n",
    "sample_df.to_csv('sample_10.csv', index=False)\n",
    "\n",
    "# Display the first 5 rows of the sample\n",
    "print(sample_df.head())\n"
   ]
  },
  {
   "cell_type": "markdown",
   "metadata": {
    "id": "Svas1Sl7EAp3"
   },
   "source": [
    "Run the cell below to check."
   ]
  },
  {
   "cell_type": "code",
   "execution_count": 63,
   "metadata": {
    "id": "6L0im32wECh3"
   },
   "outputs": [
    {
     "name": "stderr",
     "output_type": "stream",
     "text": [
      "'cat' is not recognized as an internal or external command,\n",
      "operable program or batch file.\n"
     ]
    }
   ],
   "source": [
    "! cat sample_10.csv"
   ]
  },
  {
   "cell_type": "markdown",
   "metadata": {
    "id": "KqInZYuwEZXB"
   },
   "source": [
    "### <a name='1'></a> Exercise 41\n",
    "Two _Series_ objects are given:\n",
    "```\n",
    "s1 = pd.Series(np.random.rand(20))\n",
    "s2 = pd.Series(np.random.randn(20))\n",
    "```\n",
    "Combine these two objects into one _DataFrame_ object (as two columns) and assign to _df_. Name the columns _col1_ and _col2_ respectively.\n"
   ]
  },
  {
   "cell_type": "code",
   "execution_count": 64,
   "metadata": {
    "id": "YYE97Z8QEgiu"
   },
   "outputs": [
    {
     "name": "stdout",
     "output_type": "stream",
     "text": [
      "        col1      col2\n",
      "0   0.022394  0.224371\n",
      "1   0.375247  0.125772\n",
      "2   0.722413  0.001565\n",
      "3   0.346880 -1.253174\n",
      "4   0.455898  0.405956\n",
      "5   0.470442 -1.247305\n",
      "6   0.113757 -0.760415\n",
      "7   0.563923 -1.006973\n",
      "8   0.997464 -0.154928\n",
      "9   0.452308 -0.675206\n",
      "10  0.291289 -1.052652\n",
      "11  0.294691 -0.537465\n",
      "12  0.787388 -1.399891\n",
      "13  0.060855 -2.215580\n",
      "14  0.329441 -0.252403\n",
      "15  0.187408 -0.589543\n",
      "16  0.652831 -1.405914\n",
      "17  0.228251  0.309175\n",
      "18  0.130048  0.060370\n",
      "19  0.084058  1.043816\n"
     ]
    }
   ],
   "source": [
    "# enter solution here\n",
    "import pandas as pd\n",
    "import numpy as np\n",
    "\n",
    "# Creating the two Series objects\n",
    "s1 = pd.Series(np.random.rand(20))\n",
    "s2 = pd.Series(np.random.randn(20))\n",
    "\n",
    "# Combining the Series into a DataFrame\n",
    "df = pd.DataFrame({'col1': s1, 'col2': s2})\n",
    "\n",
    "# Display the resulting DataFrame\n",
    "print(df)\n"
   ]
  },
  {
   "cell_type": "markdown",
   "metadata": {
    "id": "UvNUrTJAEb1W"
   },
   "source": [
    "### <a name='2'></a> Exercise 42\n",
    "Extract rows from the _df_ object for which the value in the _col2_ column is between 0.0 and 1.0 (inclusive)."
   ]
  },
  {
   "cell_type": "code",
   "execution_count": 65,
   "metadata": {
    "id": "tacUW1xcEf5e"
   },
   "outputs": [
    {
     "name": "stdout",
     "output_type": "stream",
     "text": [
      "        col1      col2\n",
      "0   0.022394  0.224371\n",
      "1   0.375247  0.125772\n",
      "2   0.722413  0.001565\n",
      "4   0.455898  0.405956\n",
      "17  0.228251  0.309175\n",
      "18  0.130048  0.060370\n"
     ]
    }
   ],
   "source": [
    "# enter solution here\n",
    "# Extract rows where 'col2' values are between 0.0 and 1.0 (inclusive)\n",
    "filtered_df = df[(df['col2'] >= 0.0) & (df['col2'] <= 1.0)]\n",
    "\n",
    "# Display the resulting DataFrame\n",
    "print(filtered_df)\n"
   ]
  },
  {
   "cell_type": "markdown",
   "metadata": {
    "id": "eD_0LSmWEhmm"
   },
   "source": [
    "### <a name='3'></a> Exercise 43\n",
    "Assign a new column named _col3_, which will have a value of 1 when the value in the column _col2_ is non-negative and -1 opposite.\n"
   ]
  },
  {
   "cell_type": "code",
   "execution_count": 66,
   "metadata": {
    "id": "OpfI2iYnEhYW"
   },
   "outputs": [
    {
     "name": "stdout",
     "output_type": "stream",
     "text": [
      "        col1      col2  col3\n",
      "0   0.022394  0.224371     1\n",
      "1   0.375247  0.125772     1\n",
      "2   0.722413  0.001565     1\n",
      "3   0.346880 -1.253174    -1\n",
      "4   0.455898  0.405956     1\n",
      "5   0.470442 -1.247305    -1\n",
      "6   0.113757 -0.760415    -1\n",
      "7   0.563923 -1.006973    -1\n",
      "8   0.997464 -0.154928    -1\n",
      "9   0.452308 -0.675206    -1\n",
      "10  0.291289 -1.052652    -1\n",
      "11  0.294691 -0.537465    -1\n",
      "12  0.787388 -1.399891    -1\n",
      "13  0.060855 -2.215580    -1\n",
      "14  0.329441 -0.252403    -1\n",
      "15  0.187408 -0.589543    -1\n",
      "16  0.652831 -1.405914    -1\n",
      "17  0.228251  0.309175     1\n",
      "18  0.130048  0.060370     1\n",
      "19  0.084058  1.043816     1\n"
     ]
    }
   ],
   "source": [
    "# enter solution here\n",
    "import numpy as np\n",
    "\n",
    "# Assign values to 'col3' based on the condition for 'col2'\n",
    "df['col3'] = np.where(df['col2'] >= 0, 1, -1)\n",
    "\n",
    "# Display the updated DataFrame with the new column\n",
    "print(df)\n",
    "\n",
    "\n",
    "\n"
   ]
  },
  {
   "cell_type": "markdown",
   "metadata": {
    "id": "UvWtA9fiEld-"
   },
   "source": [
    "### <a name='4'></a> Exercise 44\n",
    "\n",
    "Assign a new column _col4_, which will truncate the values from the column _col2_ to the range $ [- 1.0, 1.0] $.\n",
    "In other words, for values below -1.0, leave -1.0, for values above 1.0, leave 1.0."
   ]
  },
  {
   "cell_type": "code",
   "execution_count": 67,
   "metadata": {
    "id": "5bXwK45gEnou"
   },
   "outputs": [
    {
     "name": "stdout",
     "output_type": "stream",
     "text": [
      "        col1      col2  col3      col4\n",
      "0   0.022394  0.224371     1  0.224371\n",
      "1   0.375247  0.125772     1  0.125772\n",
      "2   0.722413  0.001565     1  0.001565\n",
      "3   0.346880 -1.253174    -1 -1.000000\n",
      "4   0.455898  0.405956     1  0.405956\n",
      "5   0.470442 -1.247305    -1 -1.000000\n",
      "6   0.113757 -0.760415    -1 -0.760415\n",
      "7   0.563923 -1.006973    -1 -1.000000\n",
      "8   0.997464 -0.154928    -1 -0.154928\n",
      "9   0.452308 -0.675206    -1 -0.675206\n",
      "10  0.291289 -1.052652    -1 -1.000000\n",
      "11  0.294691 -0.537465    -1 -0.537465\n",
      "12  0.787388 -1.399891    -1 -1.000000\n",
      "13  0.060855 -2.215580    -1 -1.000000\n",
      "14  0.329441 -0.252403    -1 -0.252403\n",
      "15  0.187408 -0.589543    -1 -0.589543\n",
      "16  0.652831 -1.405914    -1 -1.000000\n",
      "17  0.228251  0.309175     1  0.309175\n",
      "18  0.130048  0.060370     1  0.060370\n",
      "19  0.084058  1.043816     1  1.000000\n"
     ]
    }
   ],
   "source": [
    "# enter solution here\n",
    "# Truncate values in 'col2' to the range [-1.0, 1.0] and assign to 'col4'\n",
    "df['col4'] = np.clip(df['col2'], -1.0, 1.0)\n",
    "\n",
    "# Display the updated DataFrame with the new column\n",
    "print(df)\n"
   ]
  },
  {
   "cell_type": "markdown",
   "metadata": {
    "id": "ThB0xCbsEqRZ"
   },
   "source": [
    "### <a name='5'></a> Exercise 45\n",
    "Find the top 5 values for the _col2_ column."
   ]
  },
  {
   "cell_type": "code",
   "execution_count": 68,
   "metadata": {
    "id": "_l_tfNhrEqnn"
   },
   "outputs": [
    {
     "name": "stdout",
     "output_type": "stream",
     "text": [
      "19    1.043816\n",
      "4     0.405956\n",
      "17    0.309175\n",
      "0     0.224371\n",
      "1     0.125772\n",
      "Name: col2, dtype: float64\n"
     ]
    }
   ],
   "source": [
    "# enter solution here\n",
    "# Find the top 5 values in the 'col2' column\n",
    "top5_col2_values = df['col2'].nlargest(5)\n",
    "\n",
    "# Display the top 5 values\n",
    "print(top5_col2_values)\n"
   ]
  },
  {
   "cell_type": "markdown",
   "metadata": {
    "id": "PxWgVeA5Ewqv"
   },
   "source": [
    "Find the 5 lowest values for the _col2_ column."
   ]
  },
  {
   "cell_type": "code",
   "execution_count": 69,
   "metadata": {
    "id": "4mtl-Hd0FJCu"
   },
   "outputs": [
    {
     "name": "stdout",
     "output_type": "stream",
     "text": [
      "13   -2.215580\n",
      "16   -1.405914\n",
      "12   -1.399891\n",
      "3    -1.253174\n",
      "5    -1.247305\n",
      "Name: col2, dtype: float64\n",
      "13   -2.215580\n",
      "16   -1.405914\n",
      "12   -1.399891\n",
      "3    -1.253174\n",
      "5    -1.247305\n",
      "Name: col2, dtype: float64\n"
     ]
    }
   ],
   "source": [
    "# Find the 5 lowest values in the 'col2' column\n",
    "lowest5_col2_values = df['col2'].nsmallest(5)\n",
    "\n",
    "# Display the 5 lowest values\n",
    "print(lowest5_col2_values)\n",
    "\n",
    "# Find the 5 lowest values in the 'col2' column\n",
    "lowest5_col2_values = df['col2'].nsmallest(5)\n",
    "\n",
    "# Display the 5 lowest values\n",
    "print(lowest5_col2_values)\n"
   ]
  },
  {
   "cell_type": "markdown",
   "metadata": {
    "id": "mCGn_qOKEyjm"
   },
   "source": [
    "### <a name='6'></a> Exercise 46\n",
    "Calculate the cumulative sum for each column.\n",
    "\n",
    "__Tip:__ Use the _pd.DataFrame.cumsum()_ method."
   ]
  },
  {
   "cell_type": "code",
   "execution_count": 70,
   "metadata": {
    "id": "WUNB1zXFFGmm"
   },
   "outputs": [
    {
     "name": "stdout",
     "output_type": "stream",
     "text": [
      "        col1       col2  col3      col4\n",
      "0   0.022394   0.224371     1  0.224371\n",
      "1   0.397641   0.350143     2  0.350143\n",
      "2   1.120054   0.351708     3  0.351708\n",
      "3   1.466934  -0.901466     2 -0.648292\n",
      "4   1.922832  -0.495511     3 -0.242337\n",
      "5   2.393274  -1.742816     2 -1.242337\n",
      "6   2.507031  -2.503231     1 -2.002751\n",
      "7   3.070954  -3.510204     0 -3.002751\n",
      "8   4.068418  -3.665131    -1 -3.157679\n",
      "9   4.520726  -4.340338    -2 -3.832885\n",
      "10  4.812015  -5.392989    -3 -4.832885\n",
      "11  5.106705  -5.930454    -4 -5.370350\n",
      "12  5.894093  -7.330345    -5 -6.370350\n",
      "13  5.954948  -9.545925    -6 -7.370350\n",
      "14  6.284390  -9.798328    -7 -7.622753\n",
      "15  6.471797 -10.387871    -8 -8.212296\n",
      "16  7.124628 -11.793786    -9 -9.212296\n",
      "17  7.352879 -11.484611    -8 -8.903121\n",
      "18  7.482927 -11.424240    -7 -8.842751\n",
      "19  7.566985 -10.380425    -6 -7.842751\n"
     ]
    }
   ],
   "source": [
    "# enter solution here\n",
    "# Calculate the cumulative sum for each column\n",
    "cumulative_sum_df = df.cumsum()\n",
    "\n",
    "# Display the DataFrame with cumulative sums\n",
    "print(cumulative_sum_df)\n"
   ]
  },
  {
   "cell_type": "markdown",
   "metadata": {
    "id": "1EmT1ZY6E0YO"
   },
   "source": [
    "### <a name='7'></a> Exercise 47\n",
    "Calculate the median for the _col2_ variable (or 0.5 quantile)."
   ]
  },
  {
   "cell_type": "code",
   "execution_count": 71,
   "metadata": {
    "id": "E3v4Ku0pFGA-"
   },
   "outputs": [
    {
     "name": "stdout",
     "output_type": "stream",
     "text": [
      "Median for col2: -0.5635041344282775\n"
     ]
    }
   ],
   "source": [
    "# enter solution here\n",
    "# Calculate the median for the 'col2' variable\n",
    "col2_median = df['col2'].median()\n",
    "\n",
    "# Display the median value\n",
    "print(\"Median for col2:\", col2_median)\n"
   ]
  },
  {
   "cell_type": "markdown",
   "metadata": {
    "id": "mKO_-Vf3E2YG"
   },
   "source": [
    "### <a name='8'></a> Exercise 48\n",
    "Extract rows for which the variable _col2_ takes values greater than 0.0."
   ]
  },
  {
   "cell_type": "code",
   "execution_count": 72,
   "metadata": {
    "id": "IN42wNfPFFMB"
   },
   "outputs": [
    {
     "name": "stdout",
     "output_type": "stream",
     "text": [
      "        col1      col2  col3      col4\n",
      "0   0.022394  0.224371     1  0.224371\n",
      "1   0.375247  0.125772     1  0.125772\n",
      "2   0.722413  0.001565     1  0.001565\n",
      "4   0.455898  0.405956     1  0.405956\n",
      "17  0.228251  0.309175     1  0.309175\n",
      "18  0.130048  0.060370     1  0.060370\n",
      "19  0.084058  1.043816     1  1.000000\n"
     ]
    }
   ],
   "source": [
    "# enter solution here\n",
    "# Extract rows where 'col2' values are greater than 0.0\n",
    "filtered_rows = df[df['col2'] > 0.0]\n",
    "\n",
    "# Display the resulting DataFrame\n",
    "print(filtered_rows)\n"
   ]
  },
  {
   "cell_type": "markdown",
   "metadata": {
    "id": "VaP6dm5rE4Tu"
   },
   "source": [
    "### <a name='9'></a> Exercise 49\n",
    "Extract first 5 rows of the _df_ object and convert it to a dictionary."
   ]
  },
  {
   "cell_type": "code",
   "execution_count": 73,
   "metadata": {
    "id": "QZ15dlUsFEZG"
   },
   "outputs": [
    {
     "name": "stdout",
     "output_type": "stream",
     "text": [
      "{'col1': {0: 0.02239374116727566, 1: 0.3752473688269268, 2: 0.7224132030565958, 3: 0.3468798605547976, 4: 0.45589790194728774}, 'col2': {0: 0.22437123880686766, 1: 0.12577214258335265, 2: 0.001564568174509986, 3: -1.2531743154172497, 4: 0.40595553973395326}, 'col3': {0: 1, 1: 1, 2: 1, 3: -1, 4: 1}, 'col4': {0: 0.22437123880686766, 1: 0.12577214258335265, 2: 0.001564568174509986, 3: -1.0, 4: 0.40595553973395326}}\n"
     ]
    }
   ],
   "source": [
    "# enter solution here\n",
    "# Extract the first 5 rows of the DataFrame and convert to a dictionary\n",
    "first5_rows_dict = df.head(5).to_dict()\n",
    "\n",
    "# Display the resulting dictionary\n",
    "print(first5_rows_dict)\n"
   ]
  },
  {
   "cell_type": "markdown",
   "metadata": {
    "id": "6q1Rjya-E6nn"
   },
   "source": [
    "### <a name='10'></a> Exercise 50\n",
    "Extract the first 5 rows of the _df_ object, convert it to Markdown format, and assign it to the _df_markdown_ variable."
   ]
  },
  {
   "cell_type": "code",
   "execution_count": 74,
   "metadata": {
    "id": "EorsJj4vFCvo"
   },
   "outputs": [
    {
     "name": "stdout",
     "output_type": "stream",
     "text": [
      "|    |      col1 |        col2 |   col3 |        col4 |\n",
      "|---:|----------:|------------:|-------:|------------:|\n",
      "|  0 | 0.0223937 |  0.224371   |      1 |  0.224371   |\n",
      "|  1 | 0.375247  |  0.125772   |      1 |  0.125772   |\n",
      "|  2 | 0.722413  |  0.00156457 |      1 |  0.00156457 |\n",
      "|  3 | 0.34688   | -1.25317    |     -1 | -1          |\n",
      "|  4 | 0.455898  |  0.405956   |      1 |  0.405956   |\n"
     ]
    }
   ],
   "source": [
    "# enter solution here\n",
    "# Extract the first 5 rows of the DataFrame and convert to Markdown format\n",
    "df_markdown = df.head(5).to_markdown()\n",
    "\n",
    "# Display the resulting Markdown-formatted string\n",
    "print(df_markdown)\n"
   ]
  },
  {
   "cell_type": "markdown",
   "metadata": {
    "id": "Ylf8VyNuE8qG"
   },
   "source": [
    "Print the contents of the _df_markdown_ variable to the console."
   ]
  },
  {
   "cell_type": "code",
   "execution_count": 75,
   "metadata": {
    "id": "9ny4iD1WFB_e"
   },
   "outputs": [
    {
     "name": "stdout",
     "output_type": "stream",
     "text": [
      "|    |      col1 |        col2 |   col3 |        col4 |\n",
      "|---:|----------:|------------:|-------:|------------:|\n",
      "|  0 | 0.0223937 |  0.224371   |      1 |  0.224371   |\n",
      "|  1 | 0.375247  |  0.125772   |      1 |  0.125772   |\n",
      "|  2 | 0.722413  |  0.00156457 |      1 |  0.00156457 |\n",
      "|  3 | 0.34688   | -1.25317    |     -1 | -1          |\n",
      "|  4 | 0.455898  |  0.405956   |      1 |  0.405956   |\n"
     ]
    }
   ],
   "source": [
    "# enter solution here\n",
    "# Print the contents of the df_markdown variable\n",
    "print(df_markdown)\n"
   ]
  },
  {
   "cell_type": "markdown",
   "metadata": {
    "id": "HDWtNJUsE-we"
   },
   "source": [
    "Copy the result of running the above cell and paste below:\n",
    "\n",
    "|    |     col1 |      col2 |   col3 |      col4 |\n",
    "|---:|---------:|----------:|-------:|----------:|\n",
    "|  0 | 0.292145 |  0.822545 |      1 |  0.822545 |\n",
    "|  1 | 0.366362 | -1.22084  |     -1 | -1        |\n",
    "|  2 | 0.45607  |  0.208864 |      1 |  0.208864 |\n",
    "|  3 | 0.785176 | -1.95967  |     -1 | -1        |\n",
    "|  4 | 0.199674 | -1.32819  |     -1 | -1        |\n"
   ]
  },
  {
   "cell_type": "markdown",
   "metadata": {
    "id": "YNSo4N-gFbN2"
   },
   "source": [
    "### <a name='1'></a> Exercise 51\n",
    "The following _DataFrame_ object is given:\n",
    "```\n",
    "df = pd.DataFrame(np.random.rand(10, 4), columns=list('ABCD'))\n",
    "```\n",
    "\n"
   ]
  },
  {
   "cell_type": "code",
   "execution_count": 77,
   "metadata": {
    "id": "5h5vBTzrGB99"
   },
   "outputs": [],
   "source": [
    "# enter solution here\n",
    "df = pd.DataFrame(np.random.rand(10, 4), columns=list('ABCD'))"
   ]
  },
  {
   "cell_type": "markdown",
   "metadata": {
    "id": "2uAO_X8VFdhn"
   },
   "source": [
    "Extract the rows of the _df_ object for which the _C_ column is greater than 0.8."
   ]
  },
  {
   "cell_type": "code",
   "execution_count": 78,
   "metadata": {
    "id": "yBItabjTGDb3"
   },
   "outputs": [
    {
     "name": "stdout",
     "output_type": "stream",
     "text": [
      "          A         B         C         D\n",
      "7  0.251367  0.664723  0.833156  0.327712\n",
      "8  0.794235  0.826552  0.971405  0.336989\n"
     ]
    }
   ],
   "source": [
    "# enter solution here\n",
    "# Extract rows where 'C' values are greater than 0.8\n",
    "filtered_rows_c_gt_08 = df[df['C'] > 0.8]\n",
    "\n",
    "# Display the resulting DataFrame\n",
    "print(filtered_rows_c_gt_08)\n"
   ]
  },
  {
   "cell_type": "markdown",
   "metadata": {
    "id": "C_MGxJXwFfYt"
   },
   "source": [
    "### <a name='2'></a> Exercise 52\n",
    "Extract the rows of the _df_ object for which the _C_ column is greater than 0.3 and the _D_ column is less than 0.7."
   ]
  },
  {
   "cell_type": "code",
   "execution_count": 79,
   "metadata": {
    "id": "1waXsRrZF_uO"
   },
   "outputs": [
    {
     "name": "stdout",
     "output_type": "stream",
     "text": [
      "          A         B         C         D\n",
      "3  0.214413  0.869182  0.609348  0.275125\n",
      "6  0.904050  0.232818  0.569294  0.323683\n",
      "7  0.251367  0.664723  0.833156  0.327712\n",
      "8  0.794235  0.826552  0.971405  0.336989\n",
      "9  0.490712  0.012813  0.377546  0.395554\n"
     ]
    }
   ],
   "source": [
    "# enter solution here\n",
    "# Extract rows where 'C' values are greater than 0.3 and 'D' values are less than 0.7\n",
    "filtered_rows_c_gt_03_d_lt_07 = df[(df['C'] > 0.3) & (df['D'] < 0.7)]\n",
    "\n",
    "# Display the resulting DataFrame\n",
    "print(filtered_rows_c_gt_03_d_lt_07)\n"
   ]
  },
  {
   "cell_type": "markdown",
   "metadata": {
    "id": "9YmNouDvFhaN"
   },
   "source": [
    "### <a name='3'></a> Exercise 53\n",
    "Iterate through the first five rows of the _df_ object. Print each row to the console.\n",
    "\n",
    "__Tip:__ Use the _pd.DataFrame.iterrows()_ function."
   ]
  },
  {
   "cell_type": "code",
   "execution_count": 80,
   "metadata": {
    "id": "SLrrtgBBF-BY"
   },
   "outputs": [
    {
     "name": "stdout",
     "output_type": "stream",
     "text": [
      "Row 0:\n",
      "A    0.669461\n",
      "B    0.884349\n",
      "C    0.742094\n",
      "D    0.796371\n",
      "Name: 0, dtype: float64\n",
      "\n",
      "Row 1:\n",
      "A    0.504607\n",
      "B    0.645615\n",
      "C    0.338385\n",
      "D    0.787829\n",
      "Name: 1, dtype: float64\n",
      "\n",
      "Row 2:\n",
      "A    0.534050\n",
      "B    0.417601\n",
      "C    0.012983\n",
      "D    0.915683\n",
      "Name: 2, dtype: float64\n",
      "\n",
      "Row 3:\n",
      "A    0.214413\n",
      "B    0.869182\n",
      "C    0.609348\n",
      "D    0.275125\n",
      "Name: 3, dtype: float64\n",
      "\n",
      "Row 4:\n",
      "A    0.453454\n",
      "B    0.514396\n",
      "C    0.164025\n",
      "D    0.272940\n",
      "Name: 4, dtype: float64\n",
      "\n"
     ]
    }
   ],
   "source": [
    "# enter solution here\n",
    "# Iterate through the first five rows of the DataFrame\n",
    "for index, row in df.head(5).iterrows():\n",
    "    print(f\"Row {index}:\\n{row}\\n\")\n"
   ]
  },
  {
   "cell_type": "markdown",
   "metadata": {
    "id": "Jd-LNY9hFjmA"
   },
   "source": [
    "### <a name='4'></a> Exercise 54\n",
    "Set the value in row with index 3 for column B as _np.nan_.\n",
    "Use _df.iloc_."
   ]
  },
  {
   "cell_type": "code",
   "execution_count": 81,
   "metadata": {
    "id": "rmISUsp1F7Cx"
   },
   "outputs": [
    {
     "name": "stdout",
     "output_type": "stream",
     "text": [
      "          A         B         C         D\n",
      "0  0.669461  0.884349  0.742094  0.796371\n",
      "1  0.504607  0.645615  0.338385  0.787829\n",
      "2  0.534050  0.417601  0.012983  0.915683\n",
      "3  0.214413       NaN  0.609348  0.275125\n",
      "4  0.453454  0.514396  0.164025  0.272940\n",
      "5  0.957665  0.387123  0.568856  0.838318\n",
      "6  0.904050  0.232818  0.569294  0.323683\n",
      "7  0.251367  0.664723  0.833156  0.327712\n",
      "8  0.794235  0.826552  0.971405  0.336989\n",
      "9  0.490712  0.012813  0.377546  0.395554\n"
     ]
    }
   ],
   "source": [
    "# enter solution here\n",
    "import numpy as np\n",
    "\n",
    "# Set the value in row with index 3 for column 'B' to np.nan\n",
    "df.iloc[3, df.columns.get_loc('B')] = np.nan\n",
    "\n",
    "# Display the updated DataFrame\n",
    "print(df)\n"
   ]
  },
  {
   "cell_type": "markdown",
   "metadata": {
    "id": "3Ejqs_iLFlWa"
   },
   "source": [
    "Set the value in the row at index 8 for column D as _np.nan_. Use _df.loc_."
   ]
  },
  {
   "cell_type": "code",
   "execution_count": 82,
   "metadata": {
    "id": "q81B8iVlF7io"
   },
   "outputs": [
    {
     "name": "stdout",
     "output_type": "stream",
     "text": [
      "          A         B         C         D\n",
      "0  0.669461  0.884349  0.742094  0.796371\n",
      "1  0.504607  0.645615  0.338385  0.787829\n",
      "2  0.534050  0.417601  0.012983  0.915683\n",
      "3  0.214413       NaN  0.609348  0.275125\n",
      "4  0.453454  0.514396  0.164025  0.272940\n",
      "5  0.957665  0.387123  0.568856  0.838318\n",
      "6  0.904050  0.232818  0.569294  0.323683\n",
      "7  0.251367  0.664723  0.833156  0.327712\n",
      "8  0.794235  0.826552  0.971405       NaN\n",
      "9  0.490712  0.012813  0.377546  0.395554\n"
     ]
    }
   ],
   "source": [
    "# enter solution here\n",
    "import numpy as np\n",
    "\n",
    "# Set the value in the row with index 8 for column 'D' to np.nan using df.loc\n",
    "df.loc[8, 'D'] = np.nan\n",
    "\n",
    "# Display the updated DataFrame\n",
    "print(df)\n"
   ]
  },
  {
   "cell_type": "markdown",
   "metadata": {
    "id": "KgV1pu4VFnJV"
   },
   "source": [
    "### <a name='5'></a> Exercise 55\n",
    "Delete all rows from object _df_ containing missing values and assign to variable _df1_. Display variable _df1_."
   ]
  },
  {
   "cell_type": "code",
   "execution_count": 83,
   "metadata": {
    "id": "vREJey_QF4lw"
   },
   "outputs": [
    {
     "name": "stdout",
     "output_type": "stream",
     "text": [
      "          A         B         C         D\n",
      "0  0.669461  0.884349  0.742094  0.796371\n",
      "1  0.504607  0.645615  0.338385  0.787829\n",
      "2  0.534050  0.417601  0.012983  0.915683\n",
      "4  0.453454  0.514396  0.164025  0.272940\n",
      "5  0.957665  0.387123  0.568856  0.838318\n",
      "6  0.904050  0.232818  0.569294  0.323683\n",
      "7  0.251367  0.664723  0.833156  0.327712\n",
      "9  0.490712  0.012813  0.377546  0.395554\n"
     ]
    }
   ],
   "source": [
    "# enter solution here\n",
    "# Remove rows with missing values and assign to df1\n",
    "df1 = df.dropna()\n",
    "\n",
    "# Display the updated DataFrame df1\n",
    "print(df1)\n"
   ]
  },
  {
   "cell_type": "markdown",
   "metadata": {
    "id": "mSqdP4mnFo8t"
   },
   "source": [
    "### <a name='6'></a> Exercise 56\n",
    "Note that the index after removing two rows in the _df1_ object is not in turn. Reset the index (do not add a new column, just reset the index). Display variable _df1_."
   ]
  },
  {
   "cell_type": "code",
   "execution_count": 84,
   "metadata": {
    "id": "b6PG0kWJF4BO"
   },
   "outputs": [
    {
     "name": "stdout",
     "output_type": "stream",
     "text": [
      "          A         B         C         D\n",
      "0  0.669461  0.884349  0.742094  0.796371\n",
      "1  0.504607  0.645615  0.338385  0.787829\n",
      "2  0.534050  0.417601  0.012983  0.915683\n",
      "3  0.453454  0.514396  0.164025  0.272940\n",
      "4  0.957665  0.387123  0.568856  0.838318\n",
      "5  0.904050  0.232818  0.569294  0.323683\n",
      "6  0.251367  0.664723  0.833156  0.327712\n",
      "7  0.490712  0.012813  0.377546  0.395554\n"
     ]
    }
   ],
   "source": [
    "# enter solution here\n",
    "# Reset the index of df1 without adding a new column\n",
    "df1 = df1.reset_index(drop=True)\n",
    "\n",
    "# Display the updated DataFrame df1\n",
    "print(df1)\n"
   ]
  },
  {
   "cell_type": "markdown",
   "metadata": {
    "id": "w8gjxLDtFq_C"
   },
   "source": [
    "### <a name='7'></a> Exercise 57\n",
    "Let's go back to the _df_  object. Determine the number of missing elements in the _df_ object for each column."
   ]
  },
  {
   "cell_type": "code",
   "execution_count": 85,
   "metadata": {
    "id": "Pt0NJG8gF3Pl"
   },
   "outputs": [
    {
     "name": "stdout",
     "output_type": "stream",
     "text": [
      "A    0\n",
      "B    1\n",
      "C    0\n",
      "D    1\n",
      "dtype: int64\n"
     ]
    }
   ],
   "source": [
    "# enter solution here\n",
    "# Determine the number of missing elements in each column of the df DataFrame\n",
    "missing_values_per_column = df.isnull().sum()\n",
    "\n",
    "# Display the number of missing values per column\n",
    "print(missing_values_per_column)\n"
   ]
  },
  {
   "cell_type": "markdown",
   "metadata": {
    "id": "Is8pru-iFtbl"
   },
   "source": [
    "### <a name='8'></a> Exercise 58\n",
    "Fill in the missing values with the value 0 and assign to the variable _df_.\n"
   ]
  },
  {
   "cell_type": "code",
   "execution_count": 86,
   "metadata": {
    "id": "R59quNG6F2qV"
   },
   "outputs": [
    {
     "name": "stdout",
     "output_type": "stream",
     "text": [
      "          A         B         C         D\n",
      "0  0.669461  0.884349  0.742094  0.796371\n",
      "1  0.504607  0.645615  0.338385  0.787829\n",
      "2  0.534050  0.417601  0.012983  0.915683\n",
      "3  0.214413  0.000000  0.609348  0.275125\n",
      "4  0.453454  0.514396  0.164025  0.272940\n",
      "5  0.957665  0.387123  0.568856  0.838318\n",
      "6  0.904050  0.232818  0.569294  0.323683\n",
      "7  0.251367  0.664723  0.833156  0.327712\n",
      "8  0.794235  0.826552  0.971405  0.000000\n",
      "9  0.490712  0.012813  0.377546  0.395554\n"
     ]
    }
   ],
   "source": [
    "# enter solution here\n",
    "# Fill in missing values with 0 in the df DataFrame\n",
    "df = df.fillna(0)\n",
    "\n",
    "# Display the updated DataFrame df\n",
    "print(df)\n"
   ]
  },
  {
   "cell_type": "markdown",
   "metadata": {
    "id": "ByltNd4kFvW1"
   },
   "source": [
    "### <a name='9'></a> Exercise 59\n",
    "Replace the order of the columns in the _df_ object with the one given below:\n",
    "* D, A, B, C\n",
    "\n",
    "and assign to _df_."
   ]
  },
  {
   "cell_type": "code",
   "execution_count": 87,
   "metadata": {
    "id": "I9eJGL8xF11W"
   },
   "outputs": [
    {
     "name": "stdout",
     "output_type": "stream",
     "text": [
      "          D         A         B         C\n",
      "0  0.796371  0.669461  0.884349  0.742094\n",
      "1  0.787829  0.504607  0.645615  0.338385\n",
      "2  0.915683  0.534050  0.417601  0.012983\n",
      "3  0.275125  0.214413  0.000000  0.609348\n",
      "4  0.272940  0.453454  0.514396  0.164025\n",
      "5  0.838318  0.957665  0.387123  0.568856\n",
      "6  0.323683  0.904050  0.232818  0.569294\n",
      "7  0.327712  0.251367  0.664723  0.833156\n",
      "8  0.000000  0.794235  0.826552  0.971405\n",
      "9  0.395554  0.490712  0.012813  0.377546\n"
     ]
    }
   ],
   "source": [
    "# enter solution here\n",
    "# Define the desired column order\n",
    "desired_column_order = ['D', 'A', 'B', 'C']\n",
    "\n",
    "# Reorder the columns in the df DataFrame\n",
    "df = df[desired_column_order]\n",
    "\n",
    "# Display the updated DataFrame df\n",
    "print(df)\n"
   ]
  },
  {
   "cell_type": "markdown",
   "metadata": {
    "id": "qyvYtxbfFxWV"
   },
   "source": [
    "### <a name='10'></a> Exercise 60\n",
    "Remove the $ D $ column from the _df_ object."
   ]
  },
  {
   "cell_type": "code",
   "execution_count": 88,
   "metadata": {
    "id": "2gQ2w1ClF0UW"
   },
   "outputs": [
    {
     "name": "stdout",
     "output_type": "stream",
     "text": [
      "          A         B         C\n",
      "0  0.669461  0.884349  0.742094\n",
      "1  0.504607  0.645615  0.338385\n",
      "2  0.534050  0.417601  0.012983\n",
      "3  0.214413  0.000000  0.609348\n",
      "4  0.453454  0.514396  0.164025\n",
      "5  0.957665  0.387123  0.568856\n",
      "6  0.904050  0.232818  0.569294\n",
      "7  0.251367  0.664723  0.833156\n",
      "8  0.794235  0.826552  0.971405\n",
      "9  0.490712  0.012813  0.377546\n"
     ]
    }
   ],
   "source": [
    "# enter solution here\n",
    "# Remove the 'D' column from the df DataFrame\n",
    "df = df.drop('D', axis=1)\n",
    "\n",
    "# Display the updated DataFrame df\n",
    "print(df)\n"
   ]
  },
  {
   "cell_type": "markdown",
   "metadata": {
    "id": "uCncY9kRGK89"
   },
   "source": [
    "### <a name='1'></a> Exercise 61\n",
    "Load the csv file into the _DataFrame_ object named _df_:\n",
    "\n",
    "* https://storage.googleapis.com/esmartdata-courses-files/dash-course/data.csv\n",
    "\n",
    "Set the index to the first column. Display object _df_.\n"
   ]
  },
  {
   "cell_type": "code",
   "execution_count": 89,
   "metadata": {
    "id": "Znhb3eBzJj07"
   },
   "outputs": [
    {
     "name": "stdout",
     "output_type": "stream",
     "text": [
      "                                  Name    Location  Year  Kilometers_Driven  \\\n",
      "0               Maruti Wagon R LXI CNG      Mumbai  2010              72000   \n",
      "1     Hyundai Creta 1.6 CRDi SX Option        Pune  2015              41000   \n",
      "2                         Honda Jazz V     Chennai  2011              46000   \n",
      "3                    Maruti Ertiga VDI     Chennai  2012              87000   \n",
      "4      Audi A4 New 2.0 TDI Multitronic  Coimbatore  2013              40670   \n",
      "...                                ...         ...   ...                ...   \n",
      "6014                  Maruti Swift VDI       Delhi  2014              27365   \n",
      "6015          Hyundai Xcent 1.1 CRDi S      Jaipur  2015             100000   \n",
      "6016             Mahindra Xylo D4 BSIV      Jaipur  2012              55000   \n",
      "6017                Maruti Wagon R VXI     Kolkata  2013              46000   \n",
      "6018             Chevrolet Beat Diesel   Hyderabad  2011              47000   \n",
      "\n",
      "     Fuel_Type Transmission Owner_Type     Mileage   Engine      Power  Seats  \\\n",
      "0          CNG       Manual      First  26.6 km/kg   998 CC  58.16 bhp    5.0   \n",
      "1       Diesel       Manual      First  19.67 kmpl  1582 CC  126.2 bhp    5.0   \n",
      "2       Petrol       Manual      First   18.2 kmpl  1199 CC   88.7 bhp    5.0   \n",
      "3       Diesel       Manual      First  20.77 kmpl  1248 CC  88.76 bhp    7.0   \n",
      "4       Diesel    Automatic     Second   15.2 kmpl  1968 CC  140.8 bhp    5.0   \n",
      "...        ...          ...        ...         ...      ...        ...    ...   \n",
      "6014    Diesel       Manual      First   28.4 kmpl  1248 CC     74 bhp    5.0   \n",
      "6015    Diesel       Manual      First   24.4 kmpl  1120 CC     71 bhp    5.0   \n",
      "6016    Diesel       Manual     Second   14.0 kmpl  2498 CC    112 bhp    8.0   \n",
      "6017    Petrol       Manual      First   18.9 kmpl   998 CC   67.1 bhp    5.0   \n",
      "6018    Diesel       Manual      First  25.44 kmpl   936 CC   57.6 bhp    5.0   \n",
      "\n",
      "      New_Price  Price  \n",
      "0           NaN   1.75  \n",
      "1           NaN  12.50  \n",
      "2     8.61 Lakh   4.50  \n",
      "3           NaN   6.00  \n",
      "4           NaN  17.74  \n",
      "...         ...    ...  \n",
      "6014  7.88 Lakh   4.75  \n",
      "6015        NaN   4.00  \n",
      "6016        NaN   2.90  \n",
      "6017        NaN   2.65  \n",
      "6018        NaN   2.50  \n",
      "\n",
      "[6019 rows x 13 columns]\n"
     ]
    }
   ],
   "source": [
    "# enter solution here\n",
    "import pandas as pd\n",
    "\n",
    "# Load the CSV file into the DataFrame\n",
    "df = pd.read_csv('https://storage.googleapis.com/esmartdata-courses-files/dash-course/data.csv', index_col=0)\n",
    "\n",
    "# Display the DataFrame with the updated index\n",
    "print(df)\n"
   ]
  },
  {
   "cell_type": "markdown",
   "metadata": {
    "id": "zaI-KhcWGOnN"
   },
   "source": [
    "Display information about the object _df_."
   ]
  },
  {
   "cell_type": "code",
   "execution_count": 90,
   "metadata": {
    "id": "dLD9kNQoJkjr"
   },
   "outputs": [
    {
     "name": "stdout",
     "output_type": "stream",
     "text": [
      "<class 'pandas.core.frame.DataFrame'>\n",
      "Int64Index: 6019 entries, 0 to 6018\n",
      "Data columns (total 13 columns):\n",
      " #   Column             Non-Null Count  Dtype  \n",
      "---  ------             --------------  -----  \n",
      " 0   Name               6019 non-null   object \n",
      " 1   Location           6019 non-null   object \n",
      " 2   Year               6019 non-null   int64  \n",
      " 3   Kilometers_Driven  6019 non-null   int64  \n",
      " 4   Fuel_Type          6019 non-null   object \n",
      " 5   Transmission       6019 non-null   object \n",
      " 6   Owner_Type         6019 non-null   object \n",
      " 7   Mileage            6017 non-null   object \n",
      " 8   Engine             5983 non-null   object \n",
      " 9   Power              5983 non-null   object \n",
      " 10  Seats              5977 non-null   float64\n",
      " 11  New_Price          824 non-null    object \n",
      " 12  Price              6019 non-null   float64\n",
      "dtypes: float64(2), int64(2), object(9)\n",
      "memory usage: 658.3+ KB\n"
     ]
    }
   ],
   "source": [
    "# enter solution here\n",
    "df.info()"
   ]
  },
  {
   "cell_type": "markdown",
   "metadata": {
    "id": "zUgmufEEGQ22"
   },
   "source": [
    "Display basic statistics of an object _df_."
   ]
  },
  {
   "cell_type": "code",
   "execution_count": 91,
   "metadata": {
    "id": "gpAoDGp-JlBo"
   },
   "outputs": [
    {
     "data": {
      "text/html": [
       "<div>\n",
       "<style scoped>\n",
       "    .dataframe tbody tr th:only-of-type {\n",
       "        vertical-align: middle;\n",
       "    }\n",
       "\n",
       "    .dataframe tbody tr th {\n",
       "        vertical-align: top;\n",
       "    }\n",
       "\n",
       "    .dataframe thead th {\n",
       "        text-align: right;\n",
       "    }\n",
       "</style>\n",
       "<table border=\"1\" class=\"dataframe\">\n",
       "  <thead>\n",
       "    <tr style=\"text-align: right;\">\n",
       "      <th></th>\n",
       "      <th>Year</th>\n",
       "      <th>Kilometers_Driven</th>\n",
       "      <th>Seats</th>\n",
       "      <th>Price</th>\n",
       "    </tr>\n",
       "  </thead>\n",
       "  <tbody>\n",
       "    <tr>\n",
       "      <th>count</th>\n",
       "      <td>6019.000000</td>\n",
       "      <td>6.019000e+03</td>\n",
       "      <td>5977.000000</td>\n",
       "      <td>6019.000000</td>\n",
       "    </tr>\n",
       "    <tr>\n",
       "      <th>mean</th>\n",
       "      <td>2013.358199</td>\n",
       "      <td>5.873838e+04</td>\n",
       "      <td>5.278735</td>\n",
       "      <td>9.479468</td>\n",
       "    </tr>\n",
       "    <tr>\n",
       "      <th>std</th>\n",
       "      <td>3.269742</td>\n",
       "      <td>9.126884e+04</td>\n",
       "      <td>0.808840</td>\n",
       "      <td>11.187917</td>\n",
       "    </tr>\n",
       "    <tr>\n",
       "      <th>min</th>\n",
       "      <td>1998.000000</td>\n",
       "      <td>1.710000e+02</td>\n",
       "      <td>0.000000</td>\n",
       "      <td>0.440000</td>\n",
       "    </tr>\n",
       "    <tr>\n",
       "      <th>25%</th>\n",
       "      <td>2011.000000</td>\n",
       "      <td>3.400000e+04</td>\n",
       "      <td>5.000000</td>\n",
       "      <td>3.500000</td>\n",
       "    </tr>\n",
       "    <tr>\n",
       "      <th>50%</th>\n",
       "      <td>2014.000000</td>\n",
       "      <td>5.300000e+04</td>\n",
       "      <td>5.000000</td>\n",
       "      <td>5.640000</td>\n",
       "    </tr>\n",
       "    <tr>\n",
       "      <th>75%</th>\n",
       "      <td>2016.000000</td>\n",
       "      <td>7.300000e+04</td>\n",
       "      <td>5.000000</td>\n",
       "      <td>9.950000</td>\n",
       "    </tr>\n",
       "    <tr>\n",
       "      <th>max</th>\n",
       "      <td>2019.000000</td>\n",
       "      <td>6.500000e+06</td>\n",
       "      <td>10.000000</td>\n",
       "      <td>160.000000</td>\n",
       "    </tr>\n",
       "  </tbody>\n",
       "</table>\n",
       "</div>"
      ],
      "text/plain": [
       "              Year  Kilometers_Driven        Seats        Price\n",
       "count  6019.000000       6.019000e+03  5977.000000  6019.000000\n",
       "mean   2013.358199       5.873838e+04     5.278735     9.479468\n",
       "std       3.269742       9.126884e+04     0.808840    11.187917\n",
       "min    1998.000000       1.710000e+02     0.000000     0.440000\n",
       "25%    2011.000000       3.400000e+04     5.000000     3.500000\n",
       "50%    2014.000000       5.300000e+04     5.000000     5.640000\n",
       "75%    2016.000000       7.300000e+04     5.000000     9.950000\n",
       "max    2019.000000       6.500000e+06    10.000000   160.000000"
      ]
     },
     "execution_count": 91,
     "metadata": {},
     "output_type": "execute_result"
    }
   ],
   "source": [
    "# enter solution here\n",
    "df.describe()"
   ]
  },
  {
   "cell_type": "markdown",
   "metadata": {
    "id": "XkRyvQrkGTyG"
   },
   "source": [
    "### <a name='2'></a> Exercise 62\n",
    "Find the list containing the names of all columns of the _df_ object."
   ]
  },
  {
   "cell_type": "code",
   "execution_count": 92,
   "metadata": {
    "id": "u60c3cm3JgeT"
   },
   "outputs": [
    {
     "data": {
      "text/plain": [
       "Index(['Name', 'Location', 'Year', 'Kilometers_Driven', 'Fuel_Type',\n",
       "       'Transmission', 'Owner_Type', 'Mileage', 'Engine', 'Power', 'Seats',\n",
       "       'New_Price', 'Price'],\n",
       "      dtype='object')"
      ]
     },
     "execution_count": 92,
     "metadata": {},
     "output_type": "execute_result"
    }
   ],
   "source": [
    "# enter solution here\n",
    "df.columns"
   ]
  },
  {
   "cell_type": "markdown",
   "metadata": {
    "id": "0Z0utMPFGWst"
   },
   "source": [
    "From the df object, remove the column named New_Price and display the first 5 rows."
   ]
  },
  {
   "cell_type": "code",
   "execution_count": 93,
   "metadata": {
    "id": "8jz2R3HUJhAt"
   },
   "outputs": [
    {
     "name": "stdout",
     "output_type": "stream",
     "text": [
      "                               Name    Location  Year  Kilometers_Driven  \\\n",
      "0            Maruti Wagon R LXI CNG      Mumbai  2010              72000   \n",
      "1  Hyundai Creta 1.6 CRDi SX Option        Pune  2015              41000   \n",
      "2                      Honda Jazz V     Chennai  2011              46000   \n",
      "3                 Maruti Ertiga VDI     Chennai  2012              87000   \n",
      "4   Audi A4 New 2.0 TDI Multitronic  Coimbatore  2013              40670   \n",
      "\n",
      "  Fuel_Type Transmission Owner_Type     Mileage   Engine      Power  Seats  \\\n",
      "0       CNG       Manual      First  26.6 km/kg   998 CC  58.16 bhp    5.0   \n",
      "1    Diesel       Manual      First  19.67 kmpl  1582 CC  126.2 bhp    5.0   \n",
      "2    Petrol       Manual      First   18.2 kmpl  1199 CC   88.7 bhp    5.0   \n",
      "3    Diesel       Manual      First  20.77 kmpl  1248 CC  88.76 bhp    7.0   \n",
      "4    Diesel    Automatic     Second   15.2 kmpl  1968 CC  140.8 bhp    5.0   \n",
      "\n",
      "   Price  \n",
      "0   1.75  \n",
      "1  12.50  \n",
      "2   4.50  \n",
      "3   6.00  \n",
      "4  17.74  \n"
     ]
    }
   ],
   "source": [
    "# enter solution here\n",
    "# Remove the 'New_Price' column from the df DataFrame\n",
    "df = df.drop('New_Price', axis=1)\n",
    "\n",
    "# Display the first 5 rows of the updated DataFrame df\n",
    "print(df.head())\n"
   ]
  },
  {
   "cell_type": "markdown",
   "metadata": {
    "id": "tnud-P0nGYbQ"
   },
   "source": [
    "### <a name='3'></a> Exercise 63\n",
    "Find the number of missing values for each object variable _df_."
   ]
  },
  {
   "cell_type": "code",
   "execution_count": 94,
   "metadata": {
    "id": "xaMT-kbgJdb_"
   },
   "outputs": [
    {
     "name": "stdout",
     "output_type": "stream",
     "text": [
      "Name                  0\n",
      "Location              0\n",
      "Year                  0\n",
      "Kilometers_Driven     0\n",
      "Fuel_Type             0\n",
      "Transmission          0\n",
      "Owner_Type            0\n",
      "Mileage               2\n",
      "Engine               36\n",
      "Power                36\n",
      "Seats                42\n",
      "Price                 0\n",
      "dtype: int64\n"
     ]
    }
   ],
   "source": [
    "# enter solution here\n",
    "# Find the number of missing values for each column in the df DataFrame\n",
    "missing_values_per_column = df.isnull().sum()\n",
    "\n",
    "# Display the number of missing values per column\n",
    "print(missing_values_per_column)\n"
   ]
  },
  {
   "cell_type": "markdown",
   "metadata": {
    "id": "O_6NO9rXGaaV"
   },
   "source": [
    "Delete all rows with missing values in the _df_ object. Use the `inplace = True` parameter."
   ]
  },
  {
   "cell_type": "code",
   "execution_count": 95,
   "metadata": {
    "id": "Ypq_mXIbJd6u"
   },
   "outputs": [
    {
     "name": "stdout",
     "output_type": "stream",
     "text": [
      "                                  Name    Location  Year  Kilometers_Driven  \\\n",
      "0               Maruti Wagon R LXI CNG      Mumbai  2010              72000   \n",
      "1     Hyundai Creta 1.6 CRDi SX Option        Pune  2015              41000   \n",
      "2                         Honda Jazz V     Chennai  2011              46000   \n",
      "3                    Maruti Ertiga VDI     Chennai  2012              87000   \n",
      "4      Audi A4 New 2.0 TDI Multitronic  Coimbatore  2013              40670   \n",
      "...                                ...         ...   ...                ...   \n",
      "6014                  Maruti Swift VDI       Delhi  2014              27365   \n",
      "6015          Hyundai Xcent 1.1 CRDi S      Jaipur  2015             100000   \n",
      "6016             Mahindra Xylo D4 BSIV      Jaipur  2012              55000   \n",
      "6017                Maruti Wagon R VXI     Kolkata  2013              46000   \n",
      "6018             Chevrolet Beat Diesel   Hyderabad  2011              47000   \n",
      "\n",
      "     Fuel_Type Transmission Owner_Type     Mileage   Engine      Power  Seats  \\\n",
      "0          CNG       Manual      First  26.6 km/kg   998 CC  58.16 bhp    5.0   \n",
      "1       Diesel       Manual      First  19.67 kmpl  1582 CC  126.2 bhp    5.0   \n",
      "2       Petrol       Manual      First   18.2 kmpl  1199 CC   88.7 bhp    5.0   \n",
      "3       Diesel       Manual      First  20.77 kmpl  1248 CC  88.76 bhp    7.0   \n",
      "4       Diesel    Automatic     Second   15.2 kmpl  1968 CC  140.8 bhp    5.0   \n",
      "...        ...          ...        ...         ...      ...        ...    ...   \n",
      "6014    Diesel       Manual      First   28.4 kmpl  1248 CC     74 bhp    5.0   \n",
      "6015    Diesel       Manual      First   24.4 kmpl  1120 CC     71 bhp    5.0   \n",
      "6016    Diesel       Manual     Second   14.0 kmpl  2498 CC    112 bhp    8.0   \n",
      "6017    Petrol       Manual      First   18.9 kmpl   998 CC   67.1 bhp    5.0   \n",
      "6018    Diesel       Manual      First  25.44 kmpl   936 CC   57.6 bhp    5.0   \n",
      "\n",
      "      Price  \n",
      "0      1.75  \n",
      "1     12.50  \n",
      "2      4.50  \n",
      "3      6.00  \n",
      "4     17.74  \n",
      "...     ...  \n",
      "6014   4.75  \n",
      "6015   4.00  \n",
      "6016   2.90  \n",
      "6017   2.65  \n",
      "6018   2.50  \n",
      "\n",
      "[5975 rows x 12 columns]\n"
     ]
    }
   ],
   "source": [
    "# enter solution here\n",
    "# Delete all rows with missing values in the df DataFrame\n",
    "df.dropna(inplace=True)\n",
    "\n",
    "# Display the updated DataFrame df\n",
    "print(df)\n"
   ]
  },
  {
   "cell_type": "markdown",
   "metadata": {
    "id": "cQJ70FNkGcL9"
   },
   "source": [
    "### <a name='4'></a> Exercise 64\n",
    "Replace all letters in column names with lowercase letters, e.g.\n",
    "* Name -> name\n",
    "* Fuel_Type -> fuel_type\n",
    "\n",
    "Display the first five rows using the _head()_ method."
   ]
  },
  {
   "cell_type": "code",
   "execution_count": 96,
   "metadata": {
    "id": "AxIS3ydvJb1V"
   },
   "outputs": [
    {
     "name": "stdout",
     "output_type": "stream",
     "text": [
      "                               name    location  year  kilometers_driven  \\\n",
      "0            Maruti Wagon R LXI CNG      Mumbai  2010              72000   \n",
      "1  Hyundai Creta 1.6 CRDi SX Option        Pune  2015              41000   \n",
      "2                      Honda Jazz V     Chennai  2011              46000   \n",
      "3                 Maruti Ertiga VDI     Chennai  2012              87000   \n",
      "4   Audi A4 New 2.0 TDI Multitronic  Coimbatore  2013              40670   \n",
      "\n",
      "  fuel_type transmission owner_type     mileage   engine      power  seats  \\\n",
      "0       CNG       Manual      First  26.6 km/kg   998 CC  58.16 bhp    5.0   \n",
      "1    Diesel       Manual      First  19.67 kmpl  1582 CC  126.2 bhp    5.0   \n",
      "2    Petrol       Manual      First   18.2 kmpl  1199 CC   88.7 bhp    5.0   \n",
      "3    Diesel       Manual      First  20.77 kmpl  1248 CC  88.76 bhp    7.0   \n",
      "4    Diesel    Automatic     Second   15.2 kmpl  1968 CC  140.8 bhp    5.0   \n",
      "\n",
      "   price  \n",
      "0   1.75  \n",
      "1  12.50  \n",
      "2   4.50  \n",
      "3   6.00  \n",
      "4  17.74  \n"
     ]
    }
   ],
   "source": [
    "# enter solution here\n",
    "# Replace all letters in column names with lowercase letters\n",
    "df.columns = df.columns.str.lower()\n",
    "\n",
    "# Display the first five rows of the updated DataFrame df\n",
    "print(df.head())\n"
   ]
  },
  {
   "cell_type": "markdown",
   "metadata": {
    "id": "nLOrevotGd61"
   },
   "source": [
    "### <a name='5'></a> Exercise 65\n",
    "Find the distribution of the _owner_type_ variable."
   ]
  },
  {
   "cell_type": "code",
   "execution_count": 97,
   "metadata": {
    "id": "8Z42U4qHJY2r"
   },
   "outputs": [
    {
     "name": "stdout",
     "output_type": "stream",
     "text": [
      "First             4903\n",
      "Second             953\n",
      "Third              111\n",
      "Fourth & Above       8\n",
      "Name: owner_type, dtype: int64\n"
     ]
    }
   ],
   "source": [
    "# enter solution here\n",
    "# Find the distribution of the 'owner_type' variable\n",
    "owner_type_distribution = df['owner_type'].value_counts()\n",
    "\n",
    "# Display the distribution\n",
    "print(owner_type_distribution)\n"
   ]
  },
  {
   "cell_type": "markdown",
   "metadata": {
    "id": "IV4mY5CrGgGN"
   },
   "source": [
    "Find the distribution of the _engine_ variable."
   ]
  },
  {
   "cell_type": "code",
   "execution_count": 98,
   "metadata": {
    "id": "pbDPSZGBJZOz"
   },
   "outputs": [
    {
     "name": "stdout",
     "output_type": "stream",
     "text": [
      "1197 CC    606\n",
      "1248 CC    512\n",
      "1498 CC    303\n",
      "998 CC     259\n",
      "2179 CC    240\n",
      "          ... \n",
      "1489 CC      1\n",
      "1422 CC      1\n",
      "1978 CC      1\n",
      "2694 CC      1\n",
      "1797 CC      1\n",
      "Name: engine, Length: 145, dtype: int64\n"
     ]
    }
   ],
   "source": [
    "# enter solution here\n",
    "# Find the distribution of the 'engine' variable\n",
    "engine_distribution = df['engine'].value_counts()\n",
    "\n",
    "# Display the distribution\n",
    "print(engine_distribution)\n"
   ]
  },
  {
   "cell_type": "markdown",
   "metadata": {
    "id": "IqU-5K31Ghq2"
   },
   "source": [
    "Note that the variable _engine_ is of type _object_. Remove the last 3 characters from each element and convert to _int_. Display the first five rows using the _head()_ method."
   ]
  },
  {
   "cell_type": "code",
   "execution_count": 99,
   "metadata": {
    "id": "l9O1bzH0JZoj"
   },
   "outputs": [
    {
     "name": "stdout",
     "output_type": "stream",
     "text": [
      "                               name    location  year  kilometers_driven  \\\n",
      "0            Maruti Wagon R LXI CNG      Mumbai  2010              72000   \n",
      "1  Hyundai Creta 1.6 CRDi SX Option        Pune  2015              41000   \n",
      "2                      Honda Jazz V     Chennai  2011              46000   \n",
      "3                 Maruti Ertiga VDI     Chennai  2012              87000   \n",
      "4   Audi A4 New 2.0 TDI Multitronic  Coimbatore  2013              40670   \n",
      "\n",
      "  fuel_type transmission owner_type     mileage  engine      power  seats  \\\n",
      "0       CNG       Manual      First  26.6 km/kg     998  58.16 bhp    5.0   \n",
      "1    Diesel       Manual      First  19.67 kmpl    1582  126.2 bhp    5.0   \n",
      "2    Petrol       Manual      First   18.2 kmpl    1199   88.7 bhp    5.0   \n",
      "3    Diesel       Manual      First  20.77 kmpl    1248  88.76 bhp    7.0   \n",
      "4    Diesel    Automatic     Second   15.2 kmpl    1968  140.8 bhp    5.0   \n",
      "\n",
      "   price  \n",
      "0   1.75  \n",
      "1  12.50  \n",
      "2   4.50  \n",
      "3   6.00  \n",
      "4  17.74  \n"
     ]
    }
   ],
   "source": [
    "# enter solution here\n",
    "# Remove the last 3 characters from each element in the 'engine' column and convert to int\n",
    "df['engine'] = df['engine'].str[:-3].astype(int)\n",
    "\n",
    "# Display the first five rows of the updated DataFrame df\n",
    "print(df.head())\n"
   ]
  },
  {
   "cell_type": "markdown",
   "metadata": {
    "id": "3j0fgxlrGjdm"
   },
   "source": [
    "### <a name='6'></a> Exercise 66\n",
    "Look at the distribution of the _power_ variable. Note that this variable also has missing values in the form of the _'null bhp'_ value. Replace these values for _power_ with _np.nan_. Use the _np.where()_ function for this."
   ]
  },
  {
   "cell_type": "code",
   "execution_count": 101,
   "metadata": {
    "id": "UFXkGW9MJXNb"
   },
   "outputs": [
    {
     "name": "stdout",
     "output_type": "stream",
     "text": [
      "74 bhp        235\n",
      "98.6 bhp      131\n",
      "73.9 bhp      125\n",
      "140 bhp       123\n",
      "78.9 bhp      111\n",
      "             ... \n",
      "340 bhp         1\n",
      "80.9 bhp        1\n",
      "68.1 bhp        1\n",
      "301.73 bhp      1\n",
      "181.04 bhp      1\n",
      "Name: power, Length: 370, dtype: int64\n"
     ]
    }
   ],
   "source": [
    "import numpy as np\n",
    "\n",
    "# Replace 'null bhp' with np.nan in the 'power' column\n",
    "df['power'] = np.where(df['power'] == 'null bhp', np.nan, df['power'])\n",
    "\n",
    "# Display the distribution of the 'power' variable after replacement\n",
    "power_distribution = df['power'].value_counts()\n",
    "print(power_distribution)\n"
   ]
  },
  {
   "cell_type": "markdown",
   "metadata": {
    "id": "0SEBoYHLGlY9"
   },
   "source": [
    "Delete all rows with missing values again."
   ]
  },
  {
   "cell_type": "code",
   "execution_count": 102,
   "metadata": {
    "id": "2-P_dlEYJWvr"
   },
   "outputs": [
    {
     "name": "stdout",
     "output_type": "stream",
     "text": [
      "74 bhp        235\n",
      "98.6 bhp      131\n",
      "73.9 bhp      125\n",
      "140 bhp       123\n",
      "78.9 bhp      111\n",
      "             ... \n",
      "340 bhp         1\n",
      "80.9 bhp        1\n",
      "68.1 bhp        1\n",
      "301.73 bhp      1\n",
      "181.04 bhp      1\n",
      "Name: power, Length: 370, dtype: int64\n"
     ]
    }
   ],
   "source": [
    "# enter solution here\n",
    "import numpy as np\n",
    "\n",
    "# Replace 'null bhp' with np.nan in the 'power' column\n",
    "df['power'] = np.where(df['power'] == 'null bhp', np.nan, df['power'])\n",
    "\n",
    "# Display the distribution of the 'power' variable after replacement\n",
    "power_distribution = df['power'].value_counts()\n",
    "print(power_distribution)\n"
   ]
  },
  {
   "cell_type": "markdown",
   "metadata": {
    "id": "Hx4rPBt7GnFL"
   },
   "source": [
    "### <a name='7'></a> Exercise 67\n",
    "Note that the _power_ variable is of type _object_. Remove the last 4 characters from each element and convert to float type.\n",
    "\n",
    "Display the first five rows using the _head()_ method."
   ]
  },
  {
   "cell_type": "code",
   "execution_count": 103,
   "metadata": {
    "id": "yGkr2bSNJUVs"
   },
   "outputs": [
    {
     "name": "stdout",
     "output_type": "stream",
     "text": [
      "                               name    location  year  kilometers_driven  \\\n",
      "0            Maruti Wagon R LXI CNG      Mumbai  2010              72000   \n",
      "1  Hyundai Creta 1.6 CRDi SX Option        Pune  2015              41000   \n",
      "2                      Honda Jazz V     Chennai  2011              46000   \n",
      "3                 Maruti Ertiga VDI     Chennai  2012              87000   \n",
      "4   Audi A4 New 2.0 TDI Multitronic  Coimbatore  2013              40670   \n",
      "\n",
      "  fuel_type transmission owner_type     mileage  engine   power  seats  price  \n",
      "0       CNG       Manual      First  26.6 km/kg     998   58.16    5.0   1.75  \n",
      "1    Diesel       Manual      First  19.67 kmpl    1582  126.20    5.0  12.50  \n",
      "2    Petrol       Manual      First   18.2 kmpl    1199   88.70    5.0   4.50  \n",
      "3    Diesel       Manual      First  20.77 kmpl    1248   88.76    7.0   6.00  \n",
      "4    Diesel    Automatic     Second   15.2 kmpl    1968  140.80    5.0  17.74  \n"
     ]
    }
   ],
   "source": [
    "# enter solution here\n",
    "# Remove the last 4 characters from each element in the 'power' column and convert to float\n",
    "df['power'] = df['power'].str[:-4].astype(float)\n",
    "\n",
    "# Display the first five rows of the updated DataFrame df\n",
    "print(df.head())\n"
   ]
  },
  {
   "cell_type": "markdown",
   "metadata": {
    "id": "gFO2XnP4GpJL"
   },
   "source": [
    "### <a name='8'></a> Exercise 68\n",
    "Group data at year level (_year_) and count the number of rows for each year."
   ]
  },
  {
   "cell_type": "code",
   "execution_count": 104,
   "metadata": {
    "id": "lmN3Sb57JT88"
   },
   "outputs": [
    {
     "name": "stdout",
     "output_type": "stream",
     "text": [
      "   year  count\n",
      "0  1970   5975\n"
     ]
    }
   ],
   "source": [
    "# enter solution here\n",
    "# Assuming 'year' is the name of the datetime column\n",
    "df['year'] = pd.to_datetime(df['year'])\n",
    "df_grouped = df.groupby(df['year'].dt.year).size().reset_index(name='count')\n",
    "\n",
    "# Display the grouped DataFrame\n",
    "print(df_grouped)\n"
   ]
  },
  {
   "cell_type": "markdown",
   "metadata": {
    "id": "jgEfc9xSGqwC"
   },
   "source": [
    "### <a name='9'></a> Exercise 69\n",
    "Check the distribution of the _transmission_ variable."
   ]
  },
  {
   "cell_type": "code",
   "execution_count": 105,
   "metadata": {
    "id": "J6kaUhyHJS7s"
   },
   "outputs": [
    {
     "name": "stdout",
     "output_type": "stream",
     "text": [
      "Manual       4266\n",
      "Automatic    1709\n",
      "Name: transmission, dtype: int64\n"
     ]
    }
   ],
   "source": [
    "# enter solution here\n",
    "# Check the distribution of the 'transmission' variable\n",
    "transmission_distribution = df['transmission'].value_counts()\n",
    "\n",
    "# Display the distribution\n",
    "print(transmission_distribution)\n"
   ]
  },
  {
   "cell_type": "markdown",
   "metadata": {
    "id": "oQOqJkWXGtMV"
   },
   "source": [
    "Perform the following mapping of the _transmission_ variable:\n",
    "* Manual -> 0\n",
    "* Automatic -> 1\n",
    "\n",
    "Display the first five rows using the _head()_ method."
   ]
  },
  {
   "cell_type": "code",
   "execution_count": 106,
   "metadata": {
    "id": "yqHEOQ9rJSXj"
   },
   "outputs": [
    {
     "name": "stdout",
     "output_type": "stream",
     "text": [
      "                               name    location                          year  \\\n",
      "0            Maruti Wagon R LXI CNG      Mumbai 1970-01-01 00:00:00.000002010   \n",
      "1  Hyundai Creta 1.6 CRDi SX Option        Pune 1970-01-01 00:00:00.000002015   \n",
      "2                      Honda Jazz V     Chennai 1970-01-01 00:00:00.000002011   \n",
      "3                 Maruti Ertiga VDI     Chennai 1970-01-01 00:00:00.000002012   \n",
      "4   Audi A4 New 2.0 TDI Multitronic  Coimbatore 1970-01-01 00:00:00.000002013   \n",
      "\n",
      "   kilometers_driven fuel_type  transmission owner_type     mileage  engine  \\\n",
      "0              72000       CNG             0      First  26.6 km/kg     998   \n",
      "1              41000    Diesel             0      First  19.67 kmpl    1582   \n",
      "2              46000    Petrol             0      First   18.2 kmpl    1199   \n",
      "3              87000    Diesel             0      First  20.77 kmpl    1248   \n",
      "4              40670    Diesel             1     Second   15.2 kmpl    1968   \n",
      "\n",
      "    power  seats  price  \n",
      "0   58.16    5.0   1.75  \n",
      "1  126.20    5.0  12.50  \n",
      "2   88.70    5.0   4.50  \n",
      "3   88.76    7.0   6.00  \n",
      "4  140.80    5.0  17.74  \n"
     ]
    }
   ],
   "source": [
    "# enter solution here\n",
    "# Mapping of the 'transmission' variable\n",
    "transmission_mapping = {'Manual': 0, 'Automatic': 1}\n",
    "df['transmission'] = df['transmission'].replace(transmission_mapping)\n",
    "\n",
    "# Display the first five rows of the updated DataFrame df\n",
    "print(df.head())\n"
   ]
  },
  {
   "cell_type": "markdown",
   "metadata": {
    "id": "scnr_vk1GvOl"
   },
   "source": [
    "### <a name='10'></a> Exercise 70\n",
    "Save the _df_ object to the _car.csv_ file (do not save the index)."
   ]
  },
  {
   "cell_type": "code",
   "execution_count": 107,
   "metadata": {
    "id": "UYOhSKyiJQV7"
   },
   "outputs": [],
   "source": [
    "# enter solution here\n",
    "# Save the df object to the 'car.csv' file without saving the index\n",
    "df.to_csv('car.csv', index=False)\n"
   ]
  },
  {
   "cell_type": "markdown",
   "metadata": {
    "id": "9sor4RckGxE3"
   },
   "source": [
    "Run the following instructions to check."
   ]
  },
  {
   "cell_type": "code",
   "execution_count": null,
   "metadata": {
    "id": "7gWZQzr3Gzmz"
   },
   "outputs": [],
   "source": [
    "!head car.csv"
   ]
  },
  {
   "cell_type": "markdown",
   "metadata": {
    "id": "VxjP6zXPJyez"
   },
   "source": [
    "Run the following code to download the _london_bike.csv_ file to your working directory."
   ]
  },
  {
   "cell_type": "code",
   "execution_count": null,
   "metadata": {
    "id": "SnsqQdd7J1TL"
   },
   "outputs": [],
   "source": [
    "!wget -q https://storage.googleapis.com/esmartdata-courses-files/ds-bootcamp/london_bike.csv"
   ]
  },
  {
   "cell_type": "markdown",
   "metadata": {
    "id": "iMD68yu5J4bo"
   },
   "source": [
    "### <a name='1'></a> Exercise 71\n",
    "Load the _london_bike.csv_ file into the DataFrame object named _df_ and display basic information about the object."
   ]
  },
  {
   "cell_type": "code",
   "execution_count": 108,
   "metadata": {
    "id": "HIsreAjQK8Ck"
   },
   "outputs": [
    {
     "ename": "FileNotFoundError",
     "evalue": "[Errno 2] No such file or directory: 'london_bike.csv'",
     "output_type": "error",
     "traceback": [
      "\u001b[1;31m---------------------------------------------------------------------------\u001b[0m",
      "\u001b[1;31mFileNotFoundError\u001b[0m                         Traceback (most recent call last)",
      "\u001b[1;32m~\\AppData\\Local\\Temp\\ipykernel_10136\\3141125799.py\u001b[0m in \u001b[0;36m<module>\u001b[1;34m\u001b[0m\n\u001b[0;32m      3\u001b[0m \u001b[1;33m\u001b[0m\u001b[0m\n\u001b[0;32m      4\u001b[0m \u001b[1;31m# Load the 'london_bike.csv' file into the DataFrame\u001b[0m\u001b[1;33m\u001b[0m\u001b[1;33m\u001b[0m\u001b[0m\n\u001b[1;32m----> 5\u001b[1;33m \u001b[0mdf\u001b[0m \u001b[1;33m=\u001b[0m \u001b[0mpd\u001b[0m\u001b[1;33m.\u001b[0m\u001b[0mread_csv\u001b[0m\u001b[1;33m(\u001b[0m\u001b[1;34m'london_bike.csv'\u001b[0m\u001b[1;33m)\u001b[0m\u001b[1;33m\u001b[0m\u001b[1;33m\u001b[0m\u001b[0m\n\u001b[0m\u001b[0;32m      6\u001b[0m \u001b[1;33m\u001b[0m\u001b[0m\n\u001b[0;32m      7\u001b[0m \u001b[1;31m# Display basic information about the DataFrame\u001b[0m\u001b[1;33m\u001b[0m\u001b[1;33m\u001b[0m\u001b[0m\n",
      "\u001b[1;32m~\\anaconda3\\lib\\site-packages\\pandas\\util\\_decorators.py\u001b[0m in \u001b[0;36mwrapper\u001b[1;34m(*args, **kwargs)\u001b[0m\n\u001b[0;32m    309\u001b[0m                     \u001b[0mstacklevel\u001b[0m\u001b[1;33m=\u001b[0m\u001b[0mstacklevel\u001b[0m\u001b[1;33m,\u001b[0m\u001b[1;33m\u001b[0m\u001b[1;33m\u001b[0m\u001b[0m\n\u001b[0;32m    310\u001b[0m                 )\n\u001b[1;32m--> 311\u001b[1;33m             \u001b[1;32mreturn\u001b[0m \u001b[0mfunc\u001b[0m\u001b[1;33m(\u001b[0m\u001b[1;33m*\u001b[0m\u001b[0margs\u001b[0m\u001b[1;33m,\u001b[0m \u001b[1;33m**\u001b[0m\u001b[0mkwargs\u001b[0m\u001b[1;33m)\u001b[0m\u001b[1;33m\u001b[0m\u001b[1;33m\u001b[0m\u001b[0m\n\u001b[0m\u001b[0;32m    312\u001b[0m \u001b[1;33m\u001b[0m\u001b[0m\n\u001b[0;32m    313\u001b[0m         \u001b[1;32mreturn\u001b[0m \u001b[0mwrapper\u001b[0m\u001b[1;33m\u001b[0m\u001b[1;33m\u001b[0m\u001b[0m\n",
      "\u001b[1;32m~\\anaconda3\\lib\\site-packages\\pandas\\io\\parsers\\readers.py\u001b[0m in \u001b[0;36mread_csv\u001b[1;34m(filepath_or_buffer, sep, delimiter, header, names, index_col, usecols, squeeze, prefix, mangle_dupe_cols, dtype, engine, converters, true_values, false_values, skipinitialspace, skiprows, skipfooter, nrows, na_values, keep_default_na, na_filter, verbose, skip_blank_lines, parse_dates, infer_datetime_format, keep_date_col, date_parser, dayfirst, cache_dates, iterator, chunksize, compression, thousands, decimal, lineterminator, quotechar, quoting, doublequote, escapechar, comment, encoding, encoding_errors, dialect, error_bad_lines, warn_bad_lines, on_bad_lines, delim_whitespace, low_memory, memory_map, float_precision, storage_options)\u001b[0m\n\u001b[0;32m    584\u001b[0m     \u001b[0mkwds\u001b[0m\u001b[1;33m.\u001b[0m\u001b[0mupdate\u001b[0m\u001b[1;33m(\u001b[0m\u001b[0mkwds_defaults\u001b[0m\u001b[1;33m)\u001b[0m\u001b[1;33m\u001b[0m\u001b[1;33m\u001b[0m\u001b[0m\n\u001b[0;32m    585\u001b[0m \u001b[1;33m\u001b[0m\u001b[0m\n\u001b[1;32m--> 586\u001b[1;33m     \u001b[1;32mreturn\u001b[0m \u001b[0m_read\u001b[0m\u001b[1;33m(\u001b[0m\u001b[0mfilepath_or_buffer\u001b[0m\u001b[1;33m,\u001b[0m \u001b[0mkwds\u001b[0m\u001b[1;33m)\u001b[0m\u001b[1;33m\u001b[0m\u001b[1;33m\u001b[0m\u001b[0m\n\u001b[0m\u001b[0;32m    587\u001b[0m \u001b[1;33m\u001b[0m\u001b[0m\n\u001b[0;32m    588\u001b[0m \u001b[1;33m\u001b[0m\u001b[0m\n",
      "\u001b[1;32m~\\anaconda3\\lib\\site-packages\\pandas\\io\\parsers\\readers.py\u001b[0m in \u001b[0;36m_read\u001b[1;34m(filepath_or_buffer, kwds)\u001b[0m\n\u001b[0;32m    480\u001b[0m \u001b[1;33m\u001b[0m\u001b[0m\n\u001b[0;32m    481\u001b[0m     \u001b[1;31m# Create the parser.\u001b[0m\u001b[1;33m\u001b[0m\u001b[1;33m\u001b[0m\u001b[0m\n\u001b[1;32m--> 482\u001b[1;33m     \u001b[0mparser\u001b[0m \u001b[1;33m=\u001b[0m \u001b[0mTextFileReader\u001b[0m\u001b[1;33m(\u001b[0m\u001b[0mfilepath_or_buffer\u001b[0m\u001b[1;33m,\u001b[0m \u001b[1;33m**\u001b[0m\u001b[0mkwds\u001b[0m\u001b[1;33m)\u001b[0m\u001b[1;33m\u001b[0m\u001b[1;33m\u001b[0m\u001b[0m\n\u001b[0m\u001b[0;32m    483\u001b[0m \u001b[1;33m\u001b[0m\u001b[0m\n\u001b[0;32m    484\u001b[0m     \u001b[1;32mif\u001b[0m \u001b[0mchunksize\u001b[0m \u001b[1;32mor\u001b[0m \u001b[0miterator\u001b[0m\u001b[1;33m:\u001b[0m\u001b[1;33m\u001b[0m\u001b[1;33m\u001b[0m\u001b[0m\n",
      "\u001b[1;32m~\\anaconda3\\lib\\site-packages\\pandas\\io\\parsers\\readers.py\u001b[0m in \u001b[0;36m__init__\u001b[1;34m(self, f, engine, **kwds)\u001b[0m\n\u001b[0;32m    809\u001b[0m             \u001b[0mself\u001b[0m\u001b[1;33m.\u001b[0m\u001b[0moptions\u001b[0m\u001b[1;33m[\u001b[0m\u001b[1;34m\"has_index_names\"\u001b[0m\u001b[1;33m]\u001b[0m \u001b[1;33m=\u001b[0m \u001b[0mkwds\u001b[0m\u001b[1;33m[\u001b[0m\u001b[1;34m\"has_index_names\"\u001b[0m\u001b[1;33m]\u001b[0m\u001b[1;33m\u001b[0m\u001b[1;33m\u001b[0m\u001b[0m\n\u001b[0;32m    810\u001b[0m \u001b[1;33m\u001b[0m\u001b[0m\n\u001b[1;32m--> 811\u001b[1;33m         \u001b[0mself\u001b[0m\u001b[1;33m.\u001b[0m\u001b[0m_engine\u001b[0m \u001b[1;33m=\u001b[0m \u001b[0mself\u001b[0m\u001b[1;33m.\u001b[0m\u001b[0m_make_engine\u001b[0m\u001b[1;33m(\u001b[0m\u001b[0mself\u001b[0m\u001b[1;33m.\u001b[0m\u001b[0mengine\u001b[0m\u001b[1;33m)\u001b[0m\u001b[1;33m\u001b[0m\u001b[1;33m\u001b[0m\u001b[0m\n\u001b[0m\u001b[0;32m    812\u001b[0m \u001b[1;33m\u001b[0m\u001b[0m\n\u001b[0;32m    813\u001b[0m     \u001b[1;32mdef\u001b[0m \u001b[0mclose\u001b[0m\u001b[1;33m(\u001b[0m\u001b[0mself\u001b[0m\u001b[1;33m)\u001b[0m\u001b[1;33m:\u001b[0m\u001b[1;33m\u001b[0m\u001b[1;33m\u001b[0m\u001b[0m\n",
      "\u001b[1;32m~\\anaconda3\\lib\\site-packages\\pandas\\io\\parsers\\readers.py\u001b[0m in \u001b[0;36m_make_engine\u001b[1;34m(self, engine)\u001b[0m\n\u001b[0;32m   1038\u001b[0m             )\n\u001b[0;32m   1039\u001b[0m         \u001b[1;31m# error: Too many arguments for \"ParserBase\"\u001b[0m\u001b[1;33m\u001b[0m\u001b[1;33m\u001b[0m\u001b[0m\n\u001b[1;32m-> 1040\u001b[1;33m         \u001b[1;32mreturn\u001b[0m \u001b[0mmapping\u001b[0m\u001b[1;33m[\u001b[0m\u001b[0mengine\u001b[0m\u001b[1;33m]\u001b[0m\u001b[1;33m(\u001b[0m\u001b[0mself\u001b[0m\u001b[1;33m.\u001b[0m\u001b[0mf\u001b[0m\u001b[1;33m,\u001b[0m \u001b[1;33m**\u001b[0m\u001b[0mself\u001b[0m\u001b[1;33m.\u001b[0m\u001b[0moptions\u001b[0m\u001b[1;33m)\u001b[0m  \u001b[1;31m# type: ignore[call-arg]\u001b[0m\u001b[1;33m\u001b[0m\u001b[1;33m\u001b[0m\u001b[0m\n\u001b[0m\u001b[0;32m   1041\u001b[0m \u001b[1;33m\u001b[0m\u001b[0m\n\u001b[0;32m   1042\u001b[0m     \u001b[1;32mdef\u001b[0m \u001b[0m_failover_to_python\u001b[0m\u001b[1;33m(\u001b[0m\u001b[0mself\u001b[0m\u001b[1;33m)\u001b[0m\u001b[1;33m:\u001b[0m\u001b[1;33m\u001b[0m\u001b[1;33m\u001b[0m\u001b[0m\n",
      "\u001b[1;32m~\\anaconda3\\lib\\site-packages\\pandas\\io\\parsers\\c_parser_wrapper.py\u001b[0m in \u001b[0;36m__init__\u001b[1;34m(self, src, **kwds)\u001b[0m\n\u001b[0;32m     49\u001b[0m \u001b[1;33m\u001b[0m\u001b[0m\n\u001b[0;32m     50\u001b[0m         \u001b[1;31m# open handles\u001b[0m\u001b[1;33m\u001b[0m\u001b[1;33m\u001b[0m\u001b[0m\n\u001b[1;32m---> 51\u001b[1;33m         \u001b[0mself\u001b[0m\u001b[1;33m.\u001b[0m\u001b[0m_open_handles\u001b[0m\u001b[1;33m(\u001b[0m\u001b[0msrc\u001b[0m\u001b[1;33m,\u001b[0m \u001b[0mkwds\u001b[0m\u001b[1;33m)\u001b[0m\u001b[1;33m\u001b[0m\u001b[1;33m\u001b[0m\u001b[0m\n\u001b[0m\u001b[0;32m     52\u001b[0m         \u001b[1;32massert\u001b[0m \u001b[0mself\u001b[0m\u001b[1;33m.\u001b[0m\u001b[0mhandles\u001b[0m \u001b[1;32mis\u001b[0m \u001b[1;32mnot\u001b[0m \u001b[1;32mNone\u001b[0m\u001b[1;33m\u001b[0m\u001b[1;33m\u001b[0m\u001b[0m\n\u001b[0;32m     53\u001b[0m \u001b[1;33m\u001b[0m\u001b[0m\n",
      "\u001b[1;32m~\\anaconda3\\lib\\site-packages\\pandas\\io\\parsers\\base_parser.py\u001b[0m in \u001b[0;36m_open_handles\u001b[1;34m(self, src, kwds)\u001b[0m\n\u001b[0;32m    220\u001b[0m         \u001b[0mLet\u001b[0m \u001b[0mthe\u001b[0m \u001b[0mreaders\u001b[0m \u001b[0mopen\u001b[0m \u001b[0mIOHandles\u001b[0m \u001b[0mafter\u001b[0m \u001b[0mthey\u001b[0m \u001b[0mare\u001b[0m \u001b[0mdone\u001b[0m \u001b[1;32mwith\u001b[0m \u001b[0mtheir\u001b[0m \u001b[0mpotential\u001b[0m \u001b[0mraises\u001b[0m\u001b[1;33m.\u001b[0m\u001b[1;33m\u001b[0m\u001b[1;33m\u001b[0m\u001b[0m\n\u001b[0;32m    221\u001b[0m         \"\"\"\n\u001b[1;32m--> 222\u001b[1;33m         self.handles = get_handle(\n\u001b[0m\u001b[0;32m    223\u001b[0m             \u001b[0msrc\u001b[0m\u001b[1;33m,\u001b[0m\u001b[1;33m\u001b[0m\u001b[1;33m\u001b[0m\u001b[0m\n\u001b[0;32m    224\u001b[0m             \u001b[1;34m\"r\"\u001b[0m\u001b[1;33m,\u001b[0m\u001b[1;33m\u001b[0m\u001b[1;33m\u001b[0m\u001b[0m\n",
      "\u001b[1;32m~\\anaconda3\\lib\\site-packages\\pandas\\io\\common.py\u001b[0m in \u001b[0;36mget_handle\u001b[1;34m(path_or_buf, mode, encoding, compression, memory_map, is_text, errors, storage_options)\u001b[0m\n\u001b[0;32m    700\u001b[0m         \u001b[1;32mif\u001b[0m \u001b[0mioargs\u001b[0m\u001b[1;33m.\u001b[0m\u001b[0mencoding\u001b[0m \u001b[1;32mand\u001b[0m \u001b[1;34m\"b\"\u001b[0m \u001b[1;32mnot\u001b[0m \u001b[1;32min\u001b[0m \u001b[0mioargs\u001b[0m\u001b[1;33m.\u001b[0m\u001b[0mmode\u001b[0m\u001b[1;33m:\u001b[0m\u001b[1;33m\u001b[0m\u001b[1;33m\u001b[0m\u001b[0m\n\u001b[0;32m    701\u001b[0m             \u001b[1;31m# Encoding\u001b[0m\u001b[1;33m\u001b[0m\u001b[1;33m\u001b[0m\u001b[0m\n\u001b[1;32m--> 702\u001b[1;33m             handle = open(\n\u001b[0m\u001b[0;32m    703\u001b[0m                 \u001b[0mhandle\u001b[0m\u001b[1;33m,\u001b[0m\u001b[1;33m\u001b[0m\u001b[1;33m\u001b[0m\u001b[0m\n\u001b[0;32m    704\u001b[0m                 \u001b[0mioargs\u001b[0m\u001b[1;33m.\u001b[0m\u001b[0mmode\u001b[0m\u001b[1;33m,\u001b[0m\u001b[1;33m\u001b[0m\u001b[1;33m\u001b[0m\u001b[0m\n",
      "\u001b[1;31mFileNotFoundError\u001b[0m: [Errno 2] No such file or directory: 'london_bike.csv'"
     ]
    }
   ],
   "source": [
    "# enter solution here\n",
    "import pandas as pd\n",
    "\n",
    "# Load the 'london_bike.csv' file into the DataFrame\n",
    "df = pd.read_csv('london_bike.csv')\n",
    "\n",
    "# Display basic information about the DataFrame\n",
    "df.info()\n"
   ]
  },
  {
   "cell_type": "markdown",
   "metadata": {
    "id": "2R-JdtJzJ6zj"
   },
   "source": [
    "Display the first five rows of _df_."
   ]
  },
  {
   "cell_type": "code",
   "execution_count": 109,
   "metadata": {
    "id": "-Rg1y85JK8p_"
   },
   "outputs": [
    {
     "name": "stdout",
     "output_type": "stream",
     "text": [
      "                               name    location                          year  \\\n",
      "0            Maruti Wagon R LXI CNG      Mumbai 1970-01-01 00:00:00.000002010   \n",
      "1  Hyundai Creta 1.6 CRDi SX Option        Pune 1970-01-01 00:00:00.000002015   \n",
      "2                      Honda Jazz V     Chennai 1970-01-01 00:00:00.000002011   \n",
      "3                 Maruti Ertiga VDI     Chennai 1970-01-01 00:00:00.000002012   \n",
      "4   Audi A4 New 2.0 TDI Multitronic  Coimbatore 1970-01-01 00:00:00.000002013   \n",
      "\n",
      "   kilometers_driven fuel_type  transmission owner_type     mileage  engine  \\\n",
      "0              72000       CNG             0      First  26.6 km/kg     998   \n",
      "1              41000    Diesel             0      First  19.67 kmpl    1582   \n",
      "2              46000    Petrol             0      First   18.2 kmpl    1199   \n",
      "3              87000    Diesel             0      First  20.77 kmpl    1248   \n",
      "4              40670    Diesel             1     Second   15.2 kmpl    1968   \n",
      "\n",
      "    power  seats  price  \n",
      "0   58.16    5.0   1.75  \n",
      "1  126.20    5.0  12.50  \n",
      "2   88.70    5.0   4.50  \n",
      "3   88.76    7.0   6.00  \n",
      "4  140.80    5.0  17.74  \n"
     ]
    }
   ],
   "source": [
    "# enter solution here\n",
    "# Display the first five rows of the DataFrame df\n",
    "print(df.head())\n"
   ]
  },
  {
   "cell_type": "markdown",
   "metadata": {
    "id": "h_7rkoPlJ8wz"
   },
   "source": [
    "Display the last five rows of _df_."
   ]
  },
  {
   "cell_type": "code",
   "execution_count": 110,
   "metadata": {
    "id": "aeMfNCKIK9Pf"
   },
   "outputs": [
    {
     "name": "stdout",
     "output_type": "stream",
     "text": [
      "                          name   location                          year  \\\n",
      "6014          Maruti Swift VDI      Delhi 1970-01-01 00:00:00.000002014   \n",
      "6015  Hyundai Xcent 1.1 CRDi S     Jaipur 1970-01-01 00:00:00.000002015   \n",
      "6016     Mahindra Xylo D4 BSIV     Jaipur 1970-01-01 00:00:00.000002012   \n",
      "6017        Maruti Wagon R VXI    Kolkata 1970-01-01 00:00:00.000002013   \n",
      "6018     Chevrolet Beat Diesel  Hyderabad 1970-01-01 00:00:00.000002011   \n",
      "\n",
      "      kilometers_driven fuel_type  transmission owner_type     mileage  \\\n",
      "6014              27365    Diesel             0      First   28.4 kmpl   \n",
      "6015             100000    Diesel             0      First   24.4 kmpl   \n",
      "6016              55000    Diesel             0     Second   14.0 kmpl   \n",
      "6017              46000    Petrol             0      First   18.9 kmpl   \n",
      "6018              47000    Diesel             0      First  25.44 kmpl   \n",
      "\n",
      "      engine  power  seats  price  \n",
      "6014    1248   74.0    5.0   4.75  \n",
      "6015    1120   71.0    5.0   4.00  \n",
      "6016    2498  112.0    8.0   2.90  \n",
      "6017     998   67.1    5.0   2.65  \n",
      "6018     936   57.6    5.0   2.50  \n"
     ]
    }
   ],
   "source": [
    "# enter solution here\n",
    "# Display the last five rows of the DataFrame df\n",
    "print(df.tail())\n"
   ]
  },
  {
   "cell_type": "markdown",
   "metadata": {
    "id": "o5cCOOKGJ-rV"
   },
   "source": [
    "### <a name='2'></a> Exercise 72\n",
    "Note that the _timestamp_ column is of type _object_. Replace it with _datetime_.\n",
    "\n",
    "__Tip:__ Use the _pd.to_datetime()_ function."
   ]
  },
  {
   "cell_type": "code",
   "execution_count": 111,
   "metadata": {
    "id": "qZeNyIJHK47T"
   },
   "outputs": [
    {
     "ename": "KeyError",
     "evalue": "'timestamp'",
     "output_type": "error",
     "traceback": [
      "\u001b[1;31m---------------------------------------------------------------------------\u001b[0m",
      "\u001b[1;31mKeyError\u001b[0m                                  Traceback (most recent call last)",
      "\u001b[1;32m~\\anaconda3\\lib\\site-packages\\pandas\\core\\indexes\\base.py\u001b[0m in \u001b[0;36mget_loc\u001b[1;34m(self, key, method, tolerance)\u001b[0m\n\u001b[0;32m   3360\u001b[0m             \u001b[1;32mtry\u001b[0m\u001b[1;33m:\u001b[0m\u001b[1;33m\u001b[0m\u001b[1;33m\u001b[0m\u001b[0m\n\u001b[1;32m-> 3361\u001b[1;33m                 \u001b[1;32mreturn\u001b[0m \u001b[0mself\u001b[0m\u001b[1;33m.\u001b[0m\u001b[0m_engine\u001b[0m\u001b[1;33m.\u001b[0m\u001b[0mget_loc\u001b[0m\u001b[1;33m(\u001b[0m\u001b[0mcasted_key\u001b[0m\u001b[1;33m)\u001b[0m\u001b[1;33m\u001b[0m\u001b[1;33m\u001b[0m\u001b[0m\n\u001b[0m\u001b[0;32m   3362\u001b[0m             \u001b[1;32mexcept\u001b[0m \u001b[0mKeyError\u001b[0m \u001b[1;32mas\u001b[0m \u001b[0merr\u001b[0m\u001b[1;33m:\u001b[0m\u001b[1;33m\u001b[0m\u001b[1;33m\u001b[0m\u001b[0m\n",
      "\u001b[1;32m~\\anaconda3\\lib\\site-packages\\pandas\\_libs\\index.pyx\u001b[0m in \u001b[0;36mpandas._libs.index.IndexEngine.get_loc\u001b[1;34m()\u001b[0m\n",
      "\u001b[1;32m~\\anaconda3\\lib\\site-packages\\pandas\\_libs\\index.pyx\u001b[0m in \u001b[0;36mpandas._libs.index.IndexEngine.get_loc\u001b[1;34m()\u001b[0m\n",
      "\u001b[1;32mpandas\\_libs\\hashtable_class_helper.pxi\u001b[0m in \u001b[0;36mpandas._libs.hashtable.PyObjectHashTable.get_item\u001b[1;34m()\u001b[0m\n",
      "\u001b[1;32mpandas\\_libs\\hashtable_class_helper.pxi\u001b[0m in \u001b[0;36mpandas._libs.hashtable.PyObjectHashTable.get_item\u001b[1;34m()\u001b[0m\n",
      "\u001b[1;31mKeyError\u001b[0m: 'timestamp'",
      "\nThe above exception was the direct cause of the following exception:\n",
      "\u001b[1;31mKeyError\u001b[0m                                  Traceback (most recent call last)",
      "\u001b[1;32m~\\AppData\\Local\\Temp\\ipykernel_10136\\1495246182.py\u001b[0m in \u001b[0;36m<module>\u001b[1;34m\u001b[0m\n\u001b[0;32m      1\u001b[0m \u001b[1;31m# enter solution here\u001b[0m\u001b[1;33m\u001b[0m\u001b[1;33m\u001b[0m\u001b[0m\n\u001b[0;32m      2\u001b[0m \u001b[1;31m# Replace 'timestamp' column with datetime type\u001b[0m\u001b[1;33m\u001b[0m\u001b[1;33m\u001b[0m\u001b[0m\n\u001b[1;32m----> 3\u001b[1;33m \u001b[0mdf\u001b[0m\u001b[1;33m[\u001b[0m\u001b[1;34m'timestamp'\u001b[0m\u001b[1;33m]\u001b[0m \u001b[1;33m=\u001b[0m \u001b[0mpd\u001b[0m\u001b[1;33m.\u001b[0m\u001b[0mto_datetime\u001b[0m\u001b[1;33m(\u001b[0m\u001b[0mdf\u001b[0m\u001b[1;33m[\u001b[0m\u001b[1;34m'timestamp'\u001b[0m\u001b[1;33m]\u001b[0m\u001b[1;33m)\u001b[0m\u001b[1;33m\u001b[0m\u001b[1;33m\u001b[0m\u001b[0m\n\u001b[0m\u001b[0;32m      4\u001b[0m \u001b[1;33m\u001b[0m\u001b[0m\n\u001b[0;32m      5\u001b[0m \u001b[1;31m# Display basic information about the DataFrame to confirm the changes\u001b[0m\u001b[1;33m\u001b[0m\u001b[1;33m\u001b[0m\u001b[0m\n",
      "\u001b[1;32m~\\anaconda3\\lib\\site-packages\\pandas\\core\\frame.py\u001b[0m in \u001b[0;36m__getitem__\u001b[1;34m(self, key)\u001b[0m\n\u001b[0;32m   3456\u001b[0m             \u001b[1;32mif\u001b[0m \u001b[0mself\u001b[0m\u001b[1;33m.\u001b[0m\u001b[0mcolumns\u001b[0m\u001b[1;33m.\u001b[0m\u001b[0mnlevels\u001b[0m \u001b[1;33m>\u001b[0m \u001b[1;36m1\u001b[0m\u001b[1;33m:\u001b[0m\u001b[1;33m\u001b[0m\u001b[1;33m\u001b[0m\u001b[0m\n\u001b[0;32m   3457\u001b[0m                 \u001b[1;32mreturn\u001b[0m \u001b[0mself\u001b[0m\u001b[1;33m.\u001b[0m\u001b[0m_getitem_multilevel\u001b[0m\u001b[1;33m(\u001b[0m\u001b[0mkey\u001b[0m\u001b[1;33m)\u001b[0m\u001b[1;33m\u001b[0m\u001b[1;33m\u001b[0m\u001b[0m\n\u001b[1;32m-> 3458\u001b[1;33m             \u001b[0mindexer\u001b[0m \u001b[1;33m=\u001b[0m \u001b[0mself\u001b[0m\u001b[1;33m.\u001b[0m\u001b[0mcolumns\u001b[0m\u001b[1;33m.\u001b[0m\u001b[0mget_loc\u001b[0m\u001b[1;33m(\u001b[0m\u001b[0mkey\u001b[0m\u001b[1;33m)\u001b[0m\u001b[1;33m\u001b[0m\u001b[1;33m\u001b[0m\u001b[0m\n\u001b[0m\u001b[0;32m   3459\u001b[0m             \u001b[1;32mif\u001b[0m \u001b[0mis_integer\u001b[0m\u001b[1;33m(\u001b[0m\u001b[0mindexer\u001b[0m\u001b[1;33m)\u001b[0m\u001b[1;33m:\u001b[0m\u001b[1;33m\u001b[0m\u001b[1;33m\u001b[0m\u001b[0m\n\u001b[0;32m   3460\u001b[0m                 \u001b[0mindexer\u001b[0m \u001b[1;33m=\u001b[0m \u001b[1;33m[\u001b[0m\u001b[0mindexer\u001b[0m\u001b[1;33m]\u001b[0m\u001b[1;33m\u001b[0m\u001b[1;33m\u001b[0m\u001b[0m\n",
      "\u001b[1;32m~\\anaconda3\\lib\\site-packages\\pandas\\core\\indexes\\base.py\u001b[0m in \u001b[0;36mget_loc\u001b[1;34m(self, key, method, tolerance)\u001b[0m\n\u001b[0;32m   3361\u001b[0m                 \u001b[1;32mreturn\u001b[0m \u001b[0mself\u001b[0m\u001b[1;33m.\u001b[0m\u001b[0m_engine\u001b[0m\u001b[1;33m.\u001b[0m\u001b[0mget_loc\u001b[0m\u001b[1;33m(\u001b[0m\u001b[0mcasted_key\u001b[0m\u001b[1;33m)\u001b[0m\u001b[1;33m\u001b[0m\u001b[1;33m\u001b[0m\u001b[0m\n\u001b[0;32m   3362\u001b[0m             \u001b[1;32mexcept\u001b[0m \u001b[0mKeyError\u001b[0m \u001b[1;32mas\u001b[0m \u001b[0merr\u001b[0m\u001b[1;33m:\u001b[0m\u001b[1;33m\u001b[0m\u001b[1;33m\u001b[0m\u001b[0m\n\u001b[1;32m-> 3363\u001b[1;33m                 \u001b[1;32mraise\u001b[0m \u001b[0mKeyError\u001b[0m\u001b[1;33m(\u001b[0m\u001b[0mkey\u001b[0m\u001b[1;33m)\u001b[0m \u001b[1;32mfrom\u001b[0m \u001b[0merr\u001b[0m\u001b[1;33m\u001b[0m\u001b[1;33m\u001b[0m\u001b[0m\n\u001b[0m\u001b[0;32m   3364\u001b[0m \u001b[1;33m\u001b[0m\u001b[0m\n\u001b[0;32m   3365\u001b[0m         \u001b[1;32mif\u001b[0m \u001b[0mis_scalar\u001b[0m\u001b[1;33m(\u001b[0m\u001b[0mkey\u001b[0m\u001b[1;33m)\u001b[0m \u001b[1;32mand\u001b[0m \u001b[0misna\u001b[0m\u001b[1;33m(\u001b[0m\u001b[0mkey\u001b[0m\u001b[1;33m)\u001b[0m \u001b[1;32mand\u001b[0m \u001b[1;32mnot\u001b[0m \u001b[0mself\u001b[0m\u001b[1;33m.\u001b[0m\u001b[0mhasnans\u001b[0m\u001b[1;33m:\u001b[0m\u001b[1;33m\u001b[0m\u001b[1;33m\u001b[0m\u001b[0m\n",
      "\u001b[1;31mKeyError\u001b[0m: 'timestamp'"
     ]
    }
   ],
   "source": [
    "# enter solution here\n",
    "# Replace 'timestamp' column with datetime type\n",
    "df['timestamp'] = pd.to_datetime(df['timestamp'])\n",
    "\n",
    "# Display basic information about the DataFrame to confirm the changes\n",
    "print(df.info())\n"
   ]
  },
  {
   "cell_type": "markdown",
   "metadata": {
    "id": "5yRpbBS8KAez"
   },
   "source": [
    "Add a new column named _hour_ to the _df_ object and assign the time from the _timestamp_ column. Display the first five rows of the _df_ object."
   ]
  },
  {
   "cell_type": "code",
   "execution_count": null,
   "metadata": {
    "id": "1jVypw3fK5Wa"
   },
   "outputs": [],
   "source": [
    "# enter solution here\n",
    "# Add a new column 'hour' and assign the hour from the 'timestamp' column\n",
    "df['hour'] = df['timestamp'].dt.hour\n",
    "\n",
    "# Display the first five rows of the updated DataFrame df\n",
    "print(df.head())\n"
   ]
  },
  {
   "cell_type": "markdown",
   "metadata": {
    "id": "AM5rll2LKETb"
   },
   "source": [
    "### <a name='3'></a> Exercise 73\n",
    "Add a new column named _month_ to the _df_ object and assign the month from the _timestamp_ column. Display the first five rows of the _df_ object."
   ]
  },
  {
   "cell_type": "code",
   "execution_count": null,
   "metadata": {
    "id": "IE19bQ_gK0QL"
   },
   "outputs": [],
   "source": [
    "# enter solution here\n",
    "# Add a new column 'month' and assign the month from the 'timestamp' column\n",
    "df['month'] = df['timestamp'].dt.month\n",
    "\n",
    "# Display the first five rows of the updated DataFrame df\n",
    "print(df.head())\n"
   ]
  },
  {
   "cell_type": "markdown",
   "metadata": {
    "id": "zBwrQD9vKGXF"
   },
   "source": [
    "Group data by month (_month_) and calculate the average value for the variable _hum_. Assign the result to _humidity_by_month_ and reset the index."
   ]
  },
  {
   "cell_type": "code",
   "execution_count": null,
   "metadata": {
    "id": "WNKZK8H1K0rY"
   },
   "outputs": [],
   "source": [
    "# enter solution here\n",
    "# Group data by month and calculate the average value for 'hum'\n",
    "humidity_by_month = df.groupby(df['month'])['hum'].mean().reset_index()\n",
    "\n",
    "# Display the resulting DataFrame\n",
    "print(humidity_by_month)\n"
   ]
  },
  {
   "cell_type": "markdown",
   "metadata": {
    "id": "ws_Fx8JhKIOc"
   },
   "source": [
    "Using the _plotly express_ library, build a line chart of the average value of the _hum_ variable for a given month (use the _humidity_by_month_ object).\n",
    "\n",
    "__Tip:__ Use the _px.line()_ function."
   ]
  },
  {
   "cell_type": "code",
   "execution_count": null,
   "metadata": {
    "id": "mYCXXR_vK1RD"
   },
   "outputs": [],
   "source": [
    "# enter solution here\n",
    "import plotly.express as px\n",
    "\n",
    "# Build a line chart using Plotly Express\n",
    "fig = px.line(humidity_by_month, x='month', y='hum', title='Average Humidity by Month',\n",
    "              labels={'month': 'Month', 'hum': 'Average Humidity'})\n",
    "\n",
    "# Show the plot\n",
    "fig.show()\n"
   ]
  },
  {
   "cell_type": "markdown",
   "metadata": {
    "id": "cS4xmozhKKhb"
   },
   "source": [
    "Build the same chart this time using the _plotly_dark_ template."
   ]
  },
  {
   "cell_type": "code",
   "execution_count": 1,
   "metadata": {
    "id": "9PUmfnYZK1v7"
   },
   "outputs": [
    {
     "ename": "NameError",
     "evalue": "name 'humidity_by_month' is not defined",
     "output_type": "error",
     "traceback": [
      "\u001b[1;31m---------------------------------------------------------------------------\u001b[0m",
      "\u001b[1;31mNameError\u001b[0m                                 Traceback (most recent call last)",
      "\u001b[1;32m~\\AppData\\Local\\Temp\\ipykernel_13840\\3619937318.py\u001b[0m in \u001b[0;36m<module>\u001b[1;34m\u001b[0m\n\u001b[0;32m      3\u001b[0m \u001b[1;33m\u001b[0m\u001b[0m\n\u001b[0;32m      4\u001b[0m \u001b[1;31m# Build a line chart using Plotly Express with plotly_dark template\u001b[0m\u001b[1;33m\u001b[0m\u001b[1;33m\u001b[0m\u001b[0m\n\u001b[1;32m----> 5\u001b[1;33m fig = px.line(humidity_by_month, x='month', y='hum', title='Average Humidity by Month',\n\u001b[0m\u001b[0;32m      6\u001b[0m               labels={'month': 'Month', 'hum': 'Average Humidity'})\n\u001b[0;32m      7\u001b[0m \u001b[1;33m\u001b[0m\u001b[0m\n",
      "\u001b[1;31mNameError\u001b[0m: name 'humidity_by_month' is not defined"
     ]
    }
   ],
   "source": [
    "# enter solution here\n",
    "import plotly.express as px\n",
    "\n",
    "# Build a line chart using Plotly Express with plotly_dark template\n",
    "fig = px.line(humidity_by_month, x='month', y='hum', title='Average Humidity by Month',\n",
    "              labels={'month': 'Month', 'hum': 'Average Humidity'})\n",
    "\n",
    "# Set the template to plotly_dark\n",
    "fig.update_layout(template='plotly_dark')\n",
    "\n",
    "# Show the plot\n",
    "fig.show()\n"
   ]
  },
  {
   "cell_type": "markdown",
   "metadata": {
    "id": "6-PyqWBGKL-z"
   },
   "source": [
    "Read for which month the average value of the _hum_ variable is the smallest and for which it is the largest."
   ]
  },
  {
   "cell_type": "markdown",
   "metadata": {
    "id": "GMsEFrsmKN-L"
   },
   "source": [
    "### <a name='4'></a> Exercise 74\n",
    "Group data at the hour level (_hour_) and then determine the average value of the variable _cnt_. Assign the result to the variable _cnt_by_hour_ and reset the index."
   ]
  },
  {
   "cell_type": "code",
   "execution_count": null,
   "metadata": {
    "id": "PAUee4y3KvgD"
   },
   "outputs": [],
   "source": [
    "# enter solution here\n",
    "# Group data by hour and calculate the average value for 'cnt'\n",
    "cnt_by_hour = df.groupby(df['hour'])['cnt'].mean().reset_index()\n",
    "\n",
    "# Display the resulting DataFrame\n",
    "print(cnt_by_hour)\n"
   ]
  },
  {
   "cell_type": "markdown",
   "metadata": {
    "id": "Z9kl0QapKPum"
   },
   "source": [
    "Using the _plotly express_ library, build a line chart of the average value of the _cnt_ variable by hours (use the _cnt_by_hour_ object)."
   ]
  },
  {
   "cell_type": "code",
   "execution_count": null,
   "metadata": {
    "id": "magPvV8PKv-K"
   },
   "outputs": [],
   "source": [
    "# enter solution here\n",
    "import plotly.express as px\n",
    "\n",
    "# Build a line chart using Plotly Express\n",
    "fig = px.line(cnt_by_hour, x='hour', y='cnt', title='Average Count by Hour',\n",
    "              labels={'hour': 'Hour', 'cnt': 'Average Count'})\n",
    "\n",
    "# Show the plot\n",
    "fig.show()\n"
   ]
  },
  {
   "cell_type": "markdown",
   "metadata": {
    "id": "hqSjIZTUKRnV"
   },
   "source": [
    "### <a name='5'></a> Exercise 75\n",
    "Group data by variables _is_weekend_ and _hour_ and determine the average value of the variable _cnt_. Assign the result to the variable _cnt_by_weekend_hour_ and reset the index."
   ]
  },
  {
   "cell_type": "code",
   "execution_count": null,
   "metadata": {
    "id": "TCa8vA8mKr6y"
   },
   "outputs": [],
   "source": [
    "# enter solution here\n",
    "# Group data by 'is_weekend' and 'hour', calculate the average value for 'cnt', and reset the index\n",
    "cnt_by_weekend_hour = df.groupby(['is_weekend', 'hour'])['cnt'].mean().reset_index()\n",
    "\n",
    "# Display the resulting DataFrame\n",
    "print(cnt_by_weekend_hour)\n"
   ]
  },
  {
   "cell_type": "markdown",
   "metadata": {
    "id": "sZudk8YTKTSb"
   },
   "source": [
    "Using the _plotly express_ library, build a line chart of the average value of the _cnt_ variable by hours __on non-weekend days__ (use the _cnt_by_weekend_hour_ object). Set the title of the chart: 'Out of the weekend'."
   ]
  },
  {
   "cell_type": "code",
   "execution_count": null,
   "metadata": {
    "id": "iKXDHCHaKsWa"
   },
   "outputs": [],
   "source": [
    "# enter solution here\n",
    "import plotly.express as px\n",
    "\n",
    "# Filter cnt_by_weekend_hour for non-weekend days\n",
    "non_weekend_data = cnt_by_weekend_hour[cnt_by_weekend_hour['is_weekend'] == 0]\n",
    "\n",
    "# Build a line chart using Plotly Express\n",
    "fig = px.line(non_weekend_data, x='hour', y='cnt', title='Out of the Weekend - Average Count by Hour',\n",
    "              labels={'hour': 'Hour', 'cnt': 'Average Count'})\n",
    "\n",
    "# Show the plot\n",
    "fig.show()\n"
   ]
  },
  {
   "cell_type": "markdown",
   "metadata": {
    "id": "9liswNj2KVLz"
   },
   "source": [
    "Using the _plotly express_ library, build a line chart of the average value of _cnt_ by hour __on weekend days__ (use the _cnt_by_weekend_hour_ object). Set the chart title: 'Weekends'."
   ]
  },
  {
   "cell_type": "code",
   "execution_count": null,
   "metadata": {
    "id": "Yf_L2xc8Ks06"
   },
   "outputs": [],
   "source": [
    "# enter solution here\n",
    "import plotly.express as px\n",
    "\n",
    "# Filter cnt_by_weekend_hour for weekend days\n",
    "weekend_data = cnt_by_weekend_hour[cnt_by_weekend_hour['is_weekend'] == 1]\n",
    "\n",
    "# Build a line chart using Plotly Express\n",
    "fig = px.line(weekend_data, x='hour', y='cnt', title='Weekends - Average Count by Hour',\n",
    "              labels={'hour': 'Hour', 'cnt': 'Average Count'})\n",
    "\n",
    "# Show the plot\n",
    "fig.show()\n"
   ]
  },
  {
   "cell_type": "markdown",
   "metadata": {
    "id": "wGjl7CDSKW9C"
   },
   "source": [
    "Are there any differences between non-weekend days and weekend days?"
   ]
  },
  {
   "cell_type": "markdown",
   "metadata": {
    "id": "U3tJkSZOKY26"
   },
   "source": [
    "### <a name='6'></a> Exercise 76\n",
    "Using the _plotly express_ library, build the histogram of the _cnt_ variable. Add chart title: 'Histogram of the cnt variable'.\n"
   ]
  },
  {
   "cell_type": "code",
   "execution_count": null,
   "metadata": {
    "id": "IUk-MUa4Kog1"
   },
   "outputs": [],
   "source": [
    "# enter solution here\n",
    "import plotly.express as px\n",
    "\n",
    "# Build a histogram using Plotly Express\n",
    "fig = px.histogram(df, x='cnt', title='Histogram of the cnt variable',\n",
    "                   labels={'cnt': 'Count'})\n",
    "\n",
    "# Show the plot\n",
    "fig.show()\n"
   ]
  },
  {
   "cell_type": "markdown",
   "metadata": {
    "id": "NjY6KAI3Kam2"
   },
   "source": [
    "Also add a box chart to the histogram.\n",
    "\n",
    "__Tip:__ Use parameter _marginal_ of function _px.histogram()_."
   ]
  },
  {
   "cell_type": "code",
   "execution_count": null,
   "metadata": {
    "id": "QmTVCsetKo-A"
   },
   "outputs": [],
   "source": [
    "# enter solution here\n",
    "import plotly.express as px\n",
    "\n",
    "# Build a histogram with a box chart using Plotly Express\n",
    "fig = px.histogram(df, x='cnt', marginal='box', title='Histogram with Box Chart of the cnt variable',\n",
    "                   labels={'cnt': 'Count'})\n",
    "\n",
    "# Show the plot\n",
    "fig.show()\n"
   ]
  },
  {
   "cell_type": "markdown",
   "metadata": {
    "id": "esWgPynzKcUC"
   },
   "source": [
    "### <a name='7'></a> Exercise 77\n",
    "Extract rows for which the _wind_speed_ variable is less than 10.0 and the _hum_ variable is greater than 90.0."
   ]
  },
  {
   "cell_type": "code",
   "execution_count": null,
   "metadata": {
    "id": "SKJZoP5JKmv7"
   },
   "outputs": [],
   "source": [
    "# enter solution here\n",
    "# Extract rows based on conditions\n",
    "filtered_rows = df[(df['wind_speed'] < 10.0) & (df['hum'] > 90.0)]\n",
    "\n",
    "# Display the resulting DataFrame\n",
    "print(filtered_rows)\n"
   ]
  },
  {
   "cell_type": "markdown",
   "metadata": {
    "id": "OxpS__BwKeKa"
   },
   "source": [
    "### <a name='8'></a> Exercise 78\n",
    "Extract rows for which the _is_weekend_ variable is 1.0. Then copy the result and assign it to the _df_weekend_ variable."
   ]
  },
  {
   "cell_type": "code",
   "execution_count": null,
   "metadata": {
    "id": "U16ayUBbKmVb"
   },
   "outputs": [],
   "source": [
    "# enter solution here\n",
    "# Extract rows where 'is_weekend' is 1.0\n",
    "df_weekend = df[df['is_weekend'] == 1.0].copy()\n",
    "\n",
    "# Display the resulting DataFrame\n",
    "print(df_weekend)\n"
   ]
  },
  {
   "cell_type": "markdown",
   "metadata": {
    "id": "uIS1_nkaKf3F"
   },
   "source": [
    "### <a name='9'></a> Exercise 79\n",
    "Save the _df_weekend_ object to the _weekend.xlsx_ file. Name the worksheet _london_bike_ and skip saving the index to a file."
   ]
  },
  {
   "cell_type": "code",
   "execution_count": null,
   "metadata": {
    "id": "OYTHn28zKl2z"
   },
   "outputs": [],
   "source": [
    "# enter solution here\n",
    "# Save df_weekend to an Excel file\n",
    "df_weekend.to_excel('weekend.xlsx', sheet_name='london_bike', index=False)\n"
   ]
  },
  {
   "cell_type": "markdown",
   "metadata": {
    "id": "TMZzUXrSKhdK"
   },
   "source": [
    "### <a name='10'></a> Exercise 80\n",
    "Save the first 10 rows of the _df_weekend_ object to the _head10.html_ file."
   ]
  },
  {
   "cell_type": "code",
   "execution_count": null,
   "metadata": {
    "id": "3JIWot5WKkXS"
   },
   "outputs": [],
   "source": [
    "# enter solution here\n",
    "# Save the first 10 rows of df_weekend to an HTML file\n",
    "df_weekend.head(10).to_html('head10.html', index=False)\n"
   ]
  },
  {
   "cell_type": "markdown",
   "metadata": {
    "id": "2CuR07_9LVoK"
   },
   "source": [
    "Run the following instructions to download the _insurance.csv_ file to your working directory."
   ]
  },
  {
   "cell_type": "code",
   "execution_count": null,
   "metadata": {
    "id": "KjRyfZNqLXfg"
   },
   "outputs": [],
   "source": [
    "!wget -q https://storage.googleapis.com/esmartdata-courses-files/ml-course/insurance.csv"
   ]
  },
  {
   "cell_type": "markdown",
   "metadata": {
    "id": "_BpgOhXOLZis"
   },
   "source": [
    "### <a name='1'></a> Exercise 81\n",
    "Load the _insurance.csv_ file into the DataFrame object _df_raw_ and display the first few rows."
   ]
  },
  {
   "cell_type": "code",
   "execution_count": null,
   "metadata": {
    "id": "JgsF6b7qNpOG"
   },
   "outputs": [],
   "source": [
    "# enter solution here\n",
    "import pandas as pd\n",
    "\n",
    "# Load the CSV file into a DataFrame\n",
    "df_raw = pd.read_csv('insurance.csv')\n",
    "\n",
    "# Display the first few rows of the DataFrame\n",
    "print(df_raw.head())\n"
   ]
  },
  {
   "cell_type": "markdown",
   "metadata": {
    "id": "WrTiP9-4LbSe"
   },
   "source": [
    "Copy the _df_raw_ object to the _df_ variable and display basic information about the _df_ object."
   ]
  },
  {
   "cell_type": "code",
   "execution_count": null,
   "metadata": {
    "id": "nT1Dx4EaNpnJ"
   },
   "outputs": [],
   "source": [
    "# enter solution here\n",
    "# Copy df_raw to df\n",
    "df = df_raw.copy()\n",
    "\n",
    "# Display basic information about df\n",
    "df.info()\n"
   ]
  },
  {
   "cell_type": "markdown",
   "metadata": {
    "id": "VLmnjGh3LdFN"
   },
   "source": [
    "### <a name='2'></a> Exercise 82\n",
    "Check if there are duplicate rows in the _df_ object. If so, display these rows."
   ]
  },
  {
   "cell_type": "code",
   "execution_count": null,
   "metadata": {
    "id": "XDmqRHpaNm3m"
   },
   "outputs": [],
   "source": [
    "# enter solution here\n",
    "# Check for duplicate rows\n",
    "duplicate_rows = df[df.duplicated()]\n",
    "\n",
    "# Display duplicate rows if any\n",
    "if not duplicate_rows.empty:\n",
    "    print(\"Duplicate Rows:\")\n",
    "    print(duplicate_rows)\n",
    "else:\n",
    "    print(\"No duplicate rows found.\")\n"
   ]
  },
  {
   "cell_type": "markdown",
   "metadata": {
    "id": "NPE_fsRXLe_o"
   },
   "source": [
    "Delete duplicates in object _df_."
   ]
  },
  {
   "cell_type": "code",
   "execution_count": null,
   "metadata": {
    "id": "nJNfcWA-Nndn"
   },
   "outputs": [],
   "source": [
    "# enter solution here\n",
    "# Remove duplicate rows from df\n",
    "df.drop_duplicates(inplace=True)\n",
    "\n",
    "# Display basic information about df after removing duplicates\n",
    "df.info()\n"
   ]
  },
  {
   "cell_type": "markdown",
   "metadata": {
    "id": "prPcLrZRLhJq"
   },
   "source": [
    "### <a name='3'></a> Exercise 83\n",
    "Display variables from the object _df_ with the type _object_.\n",
    "\n",
    "__Tip:__ Use the _pd.DataFrame.select_dtypes()_ method."
   ]
  },
  {
   "cell_type": "code",
   "execution_count": null,
   "metadata": {
    "id": "XGLsbWAMNhH_"
   },
   "outputs": [],
   "source": [
    "# enter solution here\n",
    "# Display variables with type 'object' in df\n",
    "object_variables = df.select_dtypes(include='object')\n",
    "print(object_variables)\n"
   ]
  },
  {
   "cell_type": "markdown",
   "metadata": {
    "id": "73gwJ8FkLjgH"
   },
   "source": [
    "Convert these variables to categorical variables.\n",
    "\n",
    "__Tip:__ Use the _pd.DataFrame.astype()_ method."
   ]
  },
  {
   "cell_type": "code",
   "execution_count": null,
   "metadata": {
    "id": "PHldyz2DNhvB"
   },
   "outputs": [],
   "source": [
    "# enter solution here\n",
    "# Convert selected variables to categorical\n",
    "df[object_variables.columns] = df[object_variables.columns].astype('category')\n",
    "\n",
    "# Display basic information about df after conversion\n",
    "df.info()\n"
   ]
  },
  {
   "cell_type": "markdown",
   "metadata": {
    "id": "elWZYmWNLlWq"
   },
   "source": [
    "Display numeric variables (_float_, _int_) from the object _df_.\n",
    "\n",
    "__Tip:__ Use the _pd.DataFrame.select_dtypes()_ method"
   ]
  },
  {
   "cell_type": "code",
   "execution_count": null,
   "metadata": {
    "id": "oGmiM75INiiC"
   },
   "outputs": [],
   "source": [
    "# enter solution here\n",
    "# Display numeric variables (float, int) in df\n",
    "numeric_variables = df.select_dtypes(include=['float', 'int'])\n",
    "print(numeric_variables)\n"
   ]
  },
  {
   "cell_type": "markdown",
   "metadata": {
    "id": "FDTKwACKLnB7"
   },
   "source": [
    "Find the names of numeric variables (_float_, _int_) from the object _df_."
   ]
  },
  {
   "cell_type": "code",
   "execution_count": null,
   "metadata": {
    "id": "LWSwxiFuNjA6"
   },
   "outputs": [],
   "source": [
    "# enter solution here\n",
    "# Find the names of numeric variables (float, int) in df\n",
    "numeric_variable_names = df.select_dtypes(include=['float', 'int']).columns\n",
    "print(numeric_variable_names)\n"
   ]
  },
  {
   "cell_type": "markdown",
   "metadata": {
    "id": "A3eh75wRLow6"
   },
   "source": [
    "### <a name='4'></a> Exercise 84\n",
    "Follow the steps below:\n",
    "\n",
    "* assign to the variable _df_cat_ categorical variables from the object _df_ and create a copy of them.\n",
    "\n",
    "* assign to the variable _df_num_ numerical variables from the object _df_ and create a copy of them."
   ]
  },
  {
   "cell_type": "code",
   "execution_count": null,
   "metadata": {
    "id": "3J6DiVGWNbmq"
   },
   "outputs": [],
   "source": [
    "# enter solution here\n",
    "# Select categorical variables and create a copy\n",
    "df_cat = df.select_dtypes(include='category').copy()\n",
    "\n",
    "# Select numerical variables and create a copy\n",
    "df_num = df.select_dtypes(include=['float', 'int']).copy()\n",
    "\n",
    "# Display basic information about df_cat and df_num\n",
    "print(\"Categorical Variables:\")\n",
    "print(df_cat.info())\n",
    "print(\"\\nNumerical Variables:\")\n",
    "print(df_num.info())\n"
   ]
  },
  {
   "cell_type": "markdown",
   "metadata": {
    "id": "BKpbRGVELrEb"
   },
   "source": [
    "Display the first 5 rows of the _df_cat_ object."
   ]
  },
  {
   "cell_type": "code",
   "execution_count": null,
   "metadata": {
    "id": "5dLDhRu9NZ-u"
   },
   "outputs": [],
   "source": [
    "# enter solution here\n",
    "df_cat.head()"
   ]
  },
  {
   "cell_type": "markdown",
   "metadata": {
    "id": "peEZYljKLtPS"
   },
   "source": [
    "Display the first 5 rows of _df_num_."
   ]
  },
  {
   "cell_type": "code",
   "execution_count": null,
   "metadata": {
    "id": "roPiCJ7aNZW4"
   },
   "outputs": [],
   "source": [
    "# enter solution here\n",
    "df_num.head()"
   ]
  },
  {
   "cell_type": "markdown",
   "metadata": {
    "id": "jQPvSHXZLvdH"
   },
   "source": [
    "### <a name='5'></a> Exercise 85\n",
    "Display basic statistics of the _df_cat_ object."
   ]
  },
  {
   "cell_type": "code",
   "execution_count": null,
   "metadata": {
    "id": "wc-ZGzulNMyp"
   },
   "outputs": [],
   "source": [
    "# enter solution here\n",
    "df_cat.describe()"
   ]
  },
  {
   "cell_type": "markdown",
   "metadata": {
    "id": "qNLc8qzfLxHK"
   },
   "source": [
    "Display basic statistics of the object _df_num_."
   ]
  },
  {
   "cell_type": "code",
   "execution_count": null,
   "metadata": {
    "id": "qF-O6HAENNXK"
   },
   "outputs": [],
   "source": [
    "# enter solution here\n",
    "df_num.describe()"
   ]
  },
  {
   "cell_type": "markdown",
   "metadata": {
    "id": "6BHURE6eLzHy"
   },
   "source": [
    "Display basic statistics of the _df_ object for numeric variables and transpose the resulting _DataFrame_ object."
   ]
  },
  {
   "cell_type": "code",
   "execution_count": null,
   "metadata": {
    "id": "wTWqgEWeNNsn"
   },
   "outputs": [],
   "source": [
    "# enter solution here\n",
    "# Display basic statistics for numeric variables and transpose\n",
    "stats_df = df.describe().transpose()\n",
    "print(stats_df)\n"
   ]
  },
  {
   "cell_type": "markdown",
   "metadata": {
    "id": "KUQdm9WrL1OK"
   },
   "source": [
    "Display basic statistics of the _df_ object for numeric variables, transpose the resulting _DataFrame_ object and extract the two columns _mean_ and _std_."
   ]
  },
  {
   "cell_type": "code",
   "execution_count": null,
   "metadata": {
    "id": "1vV1Dy75NOrM"
   },
   "outputs": [],
   "source": [
    "# enter solution here\n",
    "# Display basic statistics for numeric variables and transpose\n",
    "stats_df = df.describe().transpose()\n",
    "\n",
    "# Extract 'mean' and 'std' columns\n",
    "mean_std_df = stats_df[['mean', 'std']]\n",
    "print(mean_std_df)\n"
   ]
  },
  {
   "cell_type": "markdown",
   "metadata": {
    "id": "fUos4DJuL28v"
   },
   "source": [
    "Display basic statistics of the _df_ object for categorical variables and transpose the resulting _DataFrame_ object."
   ]
  },
  {
   "cell_type": "code",
   "execution_count": null,
   "metadata": {
    "id": "ULK7nI5FNPL6"
   },
   "outputs": [],
   "source": [
    "# enter solution here\n",
    "# Display basic statistics for categorical variables and transpose\n",
    "cat_stats_df = df.describe(include='category').transpose()\n",
    "print(cat_stats_df)\n"
   ]
  },
  {
   "cell_type": "markdown",
   "metadata": {
    "id": "OtgXj90HL5F9"
   },
   "source": [
    "Check if there are any missing data in the _df_ object."
   ]
  },
  {
   "cell_type": "code",
   "execution_count": null,
   "metadata": {
    "id": "mXBtWR3zNQdJ"
   },
   "outputs": [],
   "source": [
    "# enter solution here\n",
    "# Check for missing data in df\n",
    "missing_data = df.isnull().any()\n",
    "\n",
    "# Display the result\n",
    "print(\"Missing Data:\")\n",
    "print(missing_data)\n"
   ]
  },
  {
   "cell_type": "markdown",
   "metadata": {
    "id": "LiYX3wGKL60G"
   },
   "source": [
    "### <a name='6'></a> Exercise 86\n",
    "Using the _plotly express_ library, build the histogram of the _charges_ variable.\n",
    "\n",
    "Use the _px.histogram()_ function with the following parameters:\n",
    "* width = 800\n",
    "* height = 400\n",
    "* nbins = 50\n",
    "* facet_col = 'smoker'\n",
    "* facet_row = 'sex'\n"
   ]
  },
  {
   "cell_type": "code",
   "execution_count": 2,
   "metadata": {
    "id": "6KyPK3X5M6-W"
   },
   "outputs": [
    {
     "ename": "NameError",
     "evalue": "name 'df' is not defined",
     "output_type": "error",
     "traceback": [
      "\u001b[1;31m---------------------------------------------------------------------------\u001b[0m",
      "\u001b[1;31mNameError\u001b[0m                                 Traceback (most recent call last)",
      "\u001b[1;32m~\\AppData\\Local\\Temp\\ipykernel_13840\\946931404.py\u001b[0m in \u001b[0;36m<module>\u001b[1;34m\u001b[0m\n\u001b[0;32m      3\u001b[0m \u001b[1;33m\u001b[0m\u001b[0m\n\u001b[0;32m      4\u001b[0m \u001b[1;31m# Build histogram\u001b[0m\u001b[1;33m\u001b[0m\u001b[1;33m\u001b[0m\u001b[0m\n\u001b[1;32m----> 5\u001b[1;33m \u001b[0mfig\u001b[0m \u001b[1;33m=\u001b[0m \u001b[0mpx\u001b[0m\u001b[1;33m.\u001b[0m\u001b[0mhistogram\u001b[0m\u001b[1;33m(\u001b[0m\u001b[0mdf\u001b[0m\u001b[1;33m,\u001b[0m \u001b[0mx\u001b[0m\u001b[1;33m=\u001b[0m\u001b[1;34m'charges'\u001b[0m\u001b[1;33m,\u001b[0m \u001b[0mwidth\u001b[0m\u001b[1;33m=\u001b[0m\u001b[1;36m800\u001b[0m\u001b[1;33m,\u001b[0m \u001b[0mheight\u001b[0m\u001b[1;33m=\u001b[0m\u001b[1;36m400\u001b[0m\u001b[1;33m,\u001b[0m \u001b[0mnbins\u001b[0m\u001b[1;33m=\u001b[0m\u001b[1;36m50\u001b[0m\u001b[1;33m,\u001b[0m \u001b[0mfacet_col\u001b[0m\u001b[1;33m=\u001b[0m\u001b[1;34m'smoker'\u001b[0m\u001b[1;33m,\u001b[0m \u001b[0mfacet_row\u001b[0m\u001b[1;33m=\u001b[0m\u001b[1;34m'sex'\u001b[0m\u001b[1;33m)\u001b[0m\u001b[1;33m\u001b[0m\u001b[1;33m\u001b[0m\u001b[0m\n\u001b[0m\u001b[0;32m      6\u001b[0m \u001b[1;33m\u001b[0m\u001b[0m\n\u001b[0;32m      7\u001b[0m \u001b[1;31m# Show the plot\u001b[0m\u001b[1;33m\u001b[0m\u001b[1;33m\u001b[0m\u001b[0m\n",
      "\u001b[1;31mNameError\u001b[0m: name 'df' is not defined"
     ]
    }
   ],
   "source": [
    "# enter solution here\n",
    "import plotly.express as px\n",
    "\n",
    "# Build histogram\n",
    "fig = px.histogram(df, x='charges', width=800, height=400, nbins=50, facet_col='smoker', facet_row='sex')\n",
    "\n",
    "# Show the plot\n",
    "fig.show()\n"
   ]
  },
  {
   "cell_type": "markdown",
   "metadata": {
    "id": "1NP897yBL8pX"
   },
   "source": [
    "Using the _plotly express_ library, find the distribution of the _smoker_ variable.\n",
    "\n",
    "Use the _px.histogram()_ function with the following parameters:\n",
    "* width = 800\n",
    "* height = 400\n",
    "* facet_col = 'sex'\n",
    "* color = 'sex'"
   ]
  },
  {
   "cell_type": "code",
   "execution_count": null,
   "metadata": {
    "id": "Gm382u24M86a"
   },
   "outputs": [],
   "source": [
    "# enter solution here\n",
    "import plotly.express as px\n",
    "\n",
    "# Find distribution of the 'smoker' variable\n",
    "fig = px.histogram(df, x='smoker', width=800, height=400, facet_col='sex', color='sex')\n",
    "\n",
    "# Show the plot\n",
    "fig.show()\n"
   ]
  },
  {
   "cell_type": "markdown",
   "metadata": {
    "id": "Pi1bcPwlL-tC"
   },
   "source": [
    "### <a name='7'></a> Exercise 87\n",
    "Convert categorical variables of the _df_ object to 0-1 encoding and assign it to the _df_dummies_ variable.  \n",
    "\n",
    "__Tip:__ Use the _pd.get_dummies()_ function with the `drop_first = True` parameter."
   ]
  },
  {
   "cell_type": "code",
   "execution_count": null,
   "metadata": {
    "id": "iiN4k47LMiEj"
   },
   "outputs": [],
   "source": [
    "# enter solution here\n",
    "# Convert categorical variables to 0-1 encoding\n",
    "df_dummies = pd.get_dummies(df, drop_first=True)\n",
    "\n",
    "# Display the resulting DataFrame\n",
    "print(df_dummies)\n"
   ]
  },
  {
   "cell_type": "markdown",
   "metadata": {
    "id": "3RNGwJxTMATq"
   },
   "source": [
    "### <a name='8'></a> Exercise 88\n",
    "Determine the correlations of variables in the _df_dummies_ object and assign it to the _corr_ variable."
   ]
  },
  {
   "cell_type": "code",
   "execution_count": null,
   "metadata": {
    "id": "gqs9dlqIMghf"
   },
   "outputs": [],
   "source": [
    "# enter solution here\n",
    "# Determine correlations of variables in df_dummies\n",
    "corr = df_dummies.corr()\n",
    "\n",
    "# Display the correlation matrix\n",
    "print(corr)\n"
   ]
  },
  {
   "cell_type": "markdown",
   "metadata": {
    "id": "-dcDE-0RMB_b"
   },
   "source": [
    "Extract the column from the _corr_ object for the _charges_ variable (as a DataFrame object) and sort the values in descending order."
   ]
  },
  {
   "cell_type": "code",
   "execution_count": null,
   "metadata": {
    "id": "KGjK7qceMgBT"
   },
   "outputs": [],
   "source": [
    "# enter solution here\n",
    "# Extract and sort the correlation with 'charges'\n",
    "charges_corr = pd.DataFrame(corr['charges']).sort_values(by='charges', ascending=False)\n",
    "\n",
    "# Display the result\n",
    "print(charges_corr)\n"
   ]
  },
  {
   "cell_type": "markdown",
   "metadata": {
    "id": "tk1jn7aIMDyb"
   },
   "source": [
    "Using the _plotly express_ library, create a bar chart for such sorted values. Skip the first element of the object."
   ]
  },
  {
   "cell_type": "code",
   "execution_count": null,
   "metadata": {
    "id": "-Fb660q3MfUB"
   },
   "outputs": [],
   "source": [
    "# enter solution here\n",
    "import plotly.express as px\n",
    "\n",
    "# Skip the first element and create a bar chart\n",
    "fig = px.bar(charges_corr.iloc[1:], x=charges_corr.index[1:], y='charges', labels={'charges': 'Correlation with Charges'})\n",
    "\n",
    "# Show the plot\n",
    "fig.show()\n"
   ]
  },
  {
   "cell_type": "markdown",
   "metadata": {
    "id": "l6eSrPKhMFW1"
   },
   "source": [
    "### <a name='9'></a> Exercise 89\n",
    "Copy the _df_dummies_ object to the _data_ variable. Then pop the _charges_ column from this object and assign it to the _target_ variable."
   ]
  },
  {
   "cell_type": "code",
   "execution_count": null,
   "metadata": {
    "id": "m2660ZvYMb_L"
   },
   "outputs": [],
   "source": [
    "# enter solution here\n",
    "# Copy df_dummies to data\n",
    "data = df_dummies.copy()\n",
    "\n",
    "# Pop the 'charges' column and assign it to target\n",
    "target = data.pop('charges')\n"
   ]
  },
  {
   "cell_type": "markdown",
   "metadata": {
    "id": "qt5Cq8udMHC6"
   },
   "source": [
    "Display the first 5 rows of _data_. Make sure the _charges_ column is not in it."
   ]
  },
  {
   "cell_type": "code",
   "execution_count": null,
   "metadata": {
    "id": "Ljl1SLa_Mcl5"
   },
   "outputs": [],
   "source": [
    "# enter solution here"
   ]
  },
  {
   "cell_type": "markdown",
   "metadata": {
    "id": "HLddthwUMIsL"
   },
   "source": [
    "Display the first 5 rows of _target_."
   ]
  },
  {
   "cell_type": "code",
   "execution_count": null,
   "metadata": {
    "id": "WXYtE833MdS5"
   },
   "outputs": [],
   "source": [
    "# enter solution here"
   ]
  },
  {
   "cell_type": "markdown",
   "metadata": {
    "id": "MZOFe0YdMKbd"
   },
   "source": [
    "### <a name='10'></a> Exercise 90\n",
    "Using the _scikit-learn_ library and the _train_test_split_ function, divide the data from the _data_ and _target_ objects into a training set (_X\\_train_, _y\\_train_) and a test set (_X\\_test_, _y\\_test_). Assign 20% of the samples to the test set.\n",
    "\n",
    "Display object size:\n",
    "* _X\\_train_\n",
    "* _X\\_test_\n",
    "* _y\\_train_\n",
    "* _y\\_test_"
   ]
  },
  {
   "cell_type": "code",
   "execution_count": null,
   "metadata": {
    "id": "5hzu7e9VMXI6"
   },
   "outputs": [],
   "source": [
    "# enter solution here\n",
    "from sklearn.model_selection import train_test_split\n",
    "\n",
    "# Split the data into training and test sets\n",
    "X_train, X_test, y_train, y_test = train_test_split(data, target, test_size=0.2, random_state=42)\n",
    "\n",
    "# Display object sizes\n",
    "print(\"Size of X_train:\", X_train.shape)\n",
    "print(\"Size of X_test:\", X_test.shape)\n",
    "print(\"Size of y_train:\", y_train.shape)\n",
    "print(\"Size of y_test:\", y_test.shape)\n"
   ]
  },
  {
   "cell_type": "markdown",
   "metadata": {
    "id": "gbHwRDyTMMGO"
   },
   "source": [
    "Save objects:\n",
    "* _X\\_train_\n",
    "* _X\\_test_\n",
    "* _y\\_train_\n",
    "* _y\\_test_  \n",
    "\n",
    "to csv files with the appropriate name:\n",
    "* X_train.csv\n",
    "* X_test.csv\n",
    "* y_train.csv\n",
    "* y_test.csv\n"
   ]
  },
  {
   "cell_type": "code",
   "execution_count": null,
   "metadata": {
    "id": "pbneG09QMUk8"
   },
   "outputs": [],
   "source": [
    "# enter solution here"
   ]
  },
  {
   "cell_type": "markdown",
   "metadata": {
    "id": "V_Sh559dMPeK"
   },
   "source": [
    "Run the cell below to check."
   ]
  },
  {
   "cell_type": "code",
   "execution_count": null,
   "metadata": {
    "id": "vuswdtkkMQ8n"
   },
   "outputs": [],
   "source": [
    "!head -5 X_test.csv\n",
    "!head -5 X_train.csv\n",
    "!head -5 y_train.csv\n",
    "!head -5 y_test.csv"
   ]
  },
  {
   "cell_type": "markdown",
   "metadata": {
    "id": "0Qd6kVw-N_84"
   },
   "source": [
    "### <a name='1'></a> Exercise 91\n",
    "Create the _DataFrame_ object from the _data_ dictionary below and assign it to the _df_ variable.\n",
    "\n",
    "```\n",
    "data = {\n",
    "    'size': ['XL', 'L', 'M', 'L', 'M'],\n",
    "    'color': ['red', 'green', 'blue', 'green', 'red'],\n",
    "    'gender': ['female', 'male', 'male', 'female', 'female'],\n",
    "    'price': [199.0, 89.0, 99.0, 129.0, 79.0],\n",
    "    'weight': [500, 450, 300, 380, 410],\n",
    "    'bought': ['yes', 'no', 'yes', 'no', 'yes']\n",
    "}\n",
    "```"
   ]
  },
  {
   "cell_type": "code",
   "execution_count": 8,
   "metadata": {
    "id": "eeUqBnaxOB5J"
   },
   "outputs": [],
   "source": [
    "import pandas as pd\n",
    "data = {\n",
    "    'size': ['XL', 'L', 'M', 'L', 'M'],\n",
    "    'color': ['red', 'green', 'blue', 'green', 'red'],\n",
    "    'gender': ['female', 'male', 'male', 'female', 'female'],\n",
    "    'price': [199.0, 89.0, 99.0, 129.0, 79.0],\n",
    "    'weight': [500, 450, 300, 380, 410],\n",
    "    'bought': ['yes', 'no', 'yes', 'no', 'yes']\n",
    "}\n",
    "\n",
    "# enter solution here\n",
    "data=pd.DataFrame(data)"
   ]
  },
  {
   "cell_type": "markdown",
   "metadata": {
    "id": "FmBljCl_OEAR"
   },
   "source": [
    "Display basic information about the object _df_."
   ]
  },
  {
   "cell_type": "code",
   "execution_count": 9,
   "metadata": {
    "id": "HYBeLLI_OHl5"
   },
   "outputs": [
    {
     "name": "stdout",
     "output_type": "stream",
     "text": [
      "<class 'pandas.core.frame.DataFrame'>\n",
      "RangeIndex: 5 entries, 0 to 4\n",
      "Data columns (total 6 columns):\n",
      " #   Column  Non-Null Count  Dtype  \n",
      "---  ------  --------------  -----  \n",
      " 0   size    5 non-null      object \n",
      " 1   color   5 non-null      object \n",
      " 2   gender  5 non-null      object \n",
      " 3   price   5 non-null      float64\n",
      " 4   weight  5 non-null      int64  \n",
      " 5   bought  5 non-null      object \n",
      "dtypes: float64(1), int64(1), object(4)\n",
      "memory usage: 368.0+ bytes\n"
     ]
    }
   ],
   "source": [
    "# enter solution here\n",
    "data.info()"
   ]
  },
  {
   "cell_type": "markdown",
   "metadata": {
    "id": "rGPYMiK5OJFK"
   },
   "source": [
    "Convert variables to types:\n",
    "* size -> _category_\n",
    "* color -> _category_\n",
    "* gender -> _category_\n",
    "* weight -> _float_\n",
    "* bought -> _category_"
   ]
  },
  {
   "cell_type": "code",
   "execution_count": 10,
   "metadata": {
    "id": "m-xNU5EUPO_M"
   },
   "outputs": [],
   "source": [
    "# enter solution here# Convert variables to specified types\n",
    "data['size'] = data['size'].astype('category')\n",
    "data['color'] = data['color'].astype('category')\n",
    "data['gender'] = data['gender'].astype('category')\n",
    "data['weight'] = data['weight'].astype(float)\n",
    "data['bought'] = data['bought'].astype('category')\n"
   ]
  },
  {
   "cell_type": "markdown",
   "metadata": {
    "id": "rSC7kgmKOK4d"
   },
   "source": [
    "### <a name='2'></a> Exercise 92\n",
    "Use the _scikit-learn_ machine learning library and the _LabelEncoder_ class to code 0-1 of the _bought_ variable. Assign changes to the _df_ object permanently and display the object."
   ]
  },
  {
   "cell_type": "code",
   "execution_count": null,
   "metadata": {
    "id": "U0foc9kNPJJr"
   },
   "outputs": [],
   "source": [
    "# enter solution here\n",
    "from sklearn.preprocessing import LabelEncoder\n",
    "\n",
    "# Initialize LabelEncoder\n",
    "label_encoder = LabelEncoder()\n",
    "\n",
    "# Encode 'bought' variable\n",
    "df['bought'] = label_encoder.fit_transform(df['bought'])\n",
    "\n",
    "# Display the modified DataFrame\n",
    "print(df)\n"
   ]
  },
  {
   "cell_type": "markdown",
   "metadata": {
    "id": "6boAKs0aONKp"
   },
   "source": [
    "Use the appropriate method of the _LabelEncoder_ class to restore the original values of the _bought_ variable. Note the type of the _bought_ variable."
   ]
  },
  {
   "cell_type": "code",
   "execution_count": null,
   "metadata": {
    "id": "NfFXenPPPJmV"
   },
   "outputs": [],
   "source": [
    "# enter solution here\n",
    "from sklearn.preprocessing import LabelEncoder\n",
    "\n",
    "# Initialize LabelEncoder\n",
    "label_encoder = LabelEncoder()\n",
    "\n",
    "# Decode 'bought' variable\n",
    "df['bought'] = label_encoder.fit_transform(df['bought'])\n",
    "\n",
    "# Restore original values\n",
    "df['bought'] = label_encoder.inverse_transform(df['bought'])\n",
    "\n",
    "# Display the modified DataFrame and the type of 'bought' variable\n",
    "print(df)\n",
    "print(\"Type of 'bought' variable:\", df['bought'].dtype)\n"
   ]
  },
  {
   "cell_type": "markdown",
   "metadata": {
    "id": "5l35rys2OO3J"
   },
   "source": [
    "### <a name='3'></a> Exercise 93\n",
    "Using the machine learning library _scikit-learn_ and the _OneHotEncoder_ class, encode 0-1 of the _size_ variable. Don't assign changes to the _df_ object.\n",
    "\n",
    "Use the `sparse = False` parameter of the _OneHotEncoder_ class."
   ]
  },
  {
   "cell_type": "code",
   "execution_count": null,
   "metadata": {
    "id": "3mk1Wa08PGnA"
   },
   "outputs": [],
   "source": [
    "# enter solution here\n",
    "from sklearn.preprocessing import OneHotEncoder\n",
    "\n",
    "# Initialize OneHotEncoder\n",
    "onehot_encoder = OneHotEncoder(sparse=False)\n",
    "\n",
    "# Extract 'size' variable and reshape it to a 2D array\n",
    "size_column = df[['size']]\n",
    "size_array = onehot_encoder.fit_transform(size_column.values.reshape(-1, 1))\n",
    "\n",
    "# Display the encoded array\n",
    "print(size_array)\n"
   ]
  },
  {
   "cell_type": "markdown",
   "metadata": {
    "id": "AP_gE45BOQ9r"
   },
   "source": [
    "Using the machine learning library _scikit-learn_ and the _OneHotEncoder_ class, encode 0-1 of the _size_ variable. Don't assign changes to the _df_ object.\n",
    "\n",
    "Use the parameter `sparse = False` and `drop = first` of the _OneHotEncoder_ class."
   ]
  },
  {
   "cell_type": "code",
   "execution_count": null,
   "metadata": {
    "id": "Y_Cm3EwQPHC2"
   },
   "outputs": [],
   "source": [
    "# enter solution here\n",
    "from sklearn.preprocessing import OneHotEncoder\n",
    "\n",
    "# Initialize OneHotEncoder\n",
    "onehot_encoder = OneHotEncoder(sparse=False)\n",
    "\n",
    "# Extract 'size' variable and reshape it to a 2D array\n",
    "size_column = df[['size']]\n",
    "size_array = onehot_encoder.fit_transform(size_column.values.reshape(-1, 1))\n",
    "\n",
    "# Display the encoded array\n",
    "print(size_array)\n"
   ]
  },
  {
   "cell_type": "markdown",
   "metadata": {
    "id": "Ou_V7Ne-OWsI"
   },
   "source": [
    "### <a name='4'></a> Exercise 94\n",
    "Using the _pandas_ library and the _get_dummies()_ function, present all categorical variables of the _df_ object in the form of 0-1 encoding. Don't assign changes permanently to the _df_ object."
   ]
  },
  {
   "cell_type": "code",
   "execution_count": null,
   "metadata": {
    "id": "nbeRCVF-PChO"
   },
   "outputs": [],
   "source": [
    "# enter solution here\n",
    "# Select categorical columns from the df object\n",
    "categorical_columns = df.select_dtypes(include=['category']).columns\n",
    "\n",
    "# Create dummy variables using get_dummies\n",
    "dummy_df = pd.get_dummies(df[categorical_columns])\n",
    "\n",
    "# Display the resulting DataFrame with dummy variables\n",
    "print(dummy_df)\n"
   ]
  },
  {
   "cell_type": "markdown",
   "metadata": {
    "id": "yY-0y1yrOYoV"
   },
   "source": [
    "Using the _pandas_ library and the _get_dummies()_ function, present all categorical variables of the _df_ object in the form of 0-1 encoding. Use the `drop_first = True` parameter. Don't assign changes permanently to the _df_ object."
   ]
  },
  {
   "cell_type": "code",
   "execution_count": null,
   "metadata": {
    "id": "fsFE5sohPDJq"
   },
   "outputs": [],
   "source": [
    "# enter solution here\n",
    "# Select categorical columns from the df object\n",
    "categorical_columns = df.select_dtypes(include=['category']).columns\n",
    "\n",
    "# Create dummy variables using get_dummies with drop_first=True\n",
    "dummy_df = pd.get_dummies(df[categorical_columns], drop_first=True)\n",
    "\n",
    "# Display the resulting DataFrame with dummy variables\n",
    "print(dummy_df)\n"
   ]
  },
  {
   "cell_type": "markdown",
   "metadata": {
    "id": "B-eblZgjOau8"
   },
   "source": [
    "Using the _pandas_ library and the _get_dummies()_ function, present the _size_ variable of the _df_ object in the form of 0-1 encoding. Use the `drop_first = True` parameter. Don't assign changes permanently to the _df_ object."
   ]
  },
  {
   "cell_type": "code",
   "execution_count": null,
   "metadata": {
    "id": "5UvdTRBhPDrw"
   },
   "outputs": [],
   "source": [
    "# enter solution here\n",
    "# Create dummy variables for the 'size' variable using get_dummies with drop_first=True\n",
    "size_dummy = pd.get_dummies(df['size'], prefix='size', drop_first=True)\n",
    "\n",
    "# Display the resulting DataFrame with dummy variables for 'size'\n",
    "print(size_dummy)\n"
   ]
  },
  {
   "cell_type": "markdown",
   "metadata": {
    "id": "c__p_mA1Ocaa"
   },
   "source": [
    "### <a name='5'></a> Exercise 95\n",
    "Use the _scikit-learn_ machine learning library and the _StandardScaler_ class to scale the _weight_ variable. Don't assign changes to the _df_ object."
   ]
  },
  {
   "cell_type": "code",
   "execution_count": null,
   "metadata": {
    "id": "AOXGwTSzO_rR"
   },
   "outputs": [],
   "source": [
    "# enter solution here\n",
    "from sklearn.preprocessing import StandardScaler\n",
    "\n",
    "# Create a StandardScaler object\n",
    "scaler = StandardScaler()\n",
    "\n",
    "# Reshape the 'weight' variable to a 2D array (required by StandardScaler)\n",
    "weight_values = df['weight'].values.reshape(-1, 1)\n",
    "\n",
    "# Use the scaler to transform the 'weight' variable\n",
    "scaled_weight = scaler.fit_transform(weight_values)\n",
    "\n",
    "# Create a new DataFrame with the scaled 'weight' variable\n",
    "scaled_weight_df = pd.DataFrame(scaled_weight, columns=['scaled_weight'])\n",
    "\n",
    "# Display the resulting DataFrame with the scaled 'weight' variable\n",
    "print(scaled_weight_df)\n"
   ]
  },
  {
   "cell_type": "markdown",
   "metadata": {
    "id": "_guzUbsfOeKc"
   },
   "source": [
    "### <a name='6'></a> Exercise 96\n",
    "Load the _data_ dictionary again into the _DataFrame_ object named _df_."
   ]
  },
  {
   "cell_type": "code",
   "execution_count": null,
   "metadata": {
    "id": "hV5SFLlSO9cB"
   },
   "outputs": [],
   "source": [
    "# enter solution here\n",
    "import pandas as pd\n",
    "\n",
    "# Assuming data_dict contains your data\n",
    "data_dict = {\n",
    "    'col1': [0.292145, 0.366362, 0.45607, 0.785176, 0.199674],\n",
    "    'col2': [0.822545, -1.22084, 0.208864, -1.95967, -1.32819],\n",
    "    'col3': [1, -1, 1, -1, -1],\n",
    "    'col4': [0.822545, -1, 0.208864, -1, -1]\n",
    "}\n",
    "\n",
    "# Load data_dict into a DataFrame named df\n",
    "df = pd.DataFrame(data_dict)\n",
    "\n",
    "# Display the DataFrame\n",
    "print(df)\n"
   ]
  },
  {
   "cell_type": "markdown",
   "metadata": {
    "id": "YoTzGCJNOf3Y"
   },
   "source": [
    "Prepare the data for the machine learning model:\n",
    "* using the LabelEncoder class, encode 0-1 of the _bought_ variable\n",
    "* standardize the variables _weight_ and _price_\n",
    "* encode 0-1 categorical variables using the function _get_dummies()._\n",
    "\n",
    "Assign changes to the _df_prep_ variable."
   ]
  },
  {
   "cell_type": "code",
   "execution_count": null,
   "metadata": {
    "id": "OaGJ-hd1O-FW"
   },
   "outputs": [],
   "source": [
    "# enter solution here\n",
    "from sklearn.preprocessing import LabelEncoder, StandardScaler\n",
    "\n",
    "# Assuming df contains your DataFrame with the 'bought', 'weight', 'price', and categorical variables\n",
    "\n",
    "# Step 1: Encode 0-1 of the 'bought' variable using LabelEncoder\n",
    "label_encoder = LabelEncoder()\n",
    "df_prep['bought'] = label_encoder.fit_transform(df['bought'])\n",
    "\n",
    "# Step 2: Standardize the 'weight' and 'price' variables using StandardScaler\n",
    "scaler = StandardScaler()\n",
    "df_prep[['weight', 'price']] = scaler.fit_transform(df[['weight', 'price']])\n",
    "\n",
    "# Step 3: Encode 0-1 categorical variables using get_dummies\n",
    "df_prep = pd.get_dummies(df_prep, columns=['categorical_variable1', 'categorical_variable2'], drop_first=True)\n",
    "\n",
    "# Display the prepared DataFrame\n",
    "print(df_prep)\n"
   ]
  },
  {
   "cell_type": "markdown",
   "metadata": {
    "id": "of--hdcbOhk6"
   },
   "source": [
    "### <a name='7'></a> Exercise 97\n",
    "Copy the _df_prep_ object to the _data_ variable. Then pop the _bought_ column from this object and assign it to the _target_ variable."
   ]
  },
  {
   "cell_type": "code",
   "execution_count": null,
   "metadata": {
    "id": "sMTr33b8O7aI"
   },
   "outputs": [],
   "source": [
    "# enter solution here\n",
    "# Assuming df_prep contains your prepared DataFrame\n",
    "\n",
    "# Copy df_prep to data variable\n",
    "data = df_prep.copy()\n",
    "\n",
    "# Pop 'bought' column and assign it to target variable\n",
    "target = data.pop('bought')\n",
    "\n",
    "# Display the data and target variables\n",
    "print(\"Data:\")\n",
    "print(data)\n",
    "print(\"\\nTarget:\")\n",
    "print(target)\n"
   ]
  },
  {
   "cell_type": "markdown",
   "metadata": {
    "id": "KrHyAIgcOjbM"
   },
   "source": [
    "Display the first 5 rows of _data_. Make sure the _bought_ column is not in it."
   ]
  },
  {
   "cell_type": "code",
   "execution_count": null,
   "metadata": {
    "id": "hDGT466RO7H4"
   },
   "outputs": [],
   "source": [
    "# enter solution here\n",
    "data.head()"
   ]
  },
  {
   "cell_type": "markdown",
   "metadata": {
    "id": "A32jeGYJOlVh"
   },
   "source": [
    "Display the first 5 rows of _target_."
   ]
  },
  {
   "cell_type": "code",
   "execution_count": null,
   "metadata": {
    "id": "Mo8g-nduO6io"
   },
   "outputs": [],
   "source": [
    "# enter solution here\n",
    "target.head()"
   ]
  },
  {
   "cell_type": "markdown",
   "metadata": {
    "id": "2begq3GjOm2G"
   },
   "source": [
    "### <a name='8'></a> Exercise 98\n",
    "Using the _scikit-learn_ library and the _train_test_split_ function, divide the data from the _data_ and _target_ objects into a training set (_X\\_train_, _y\\_train_) and a test set (_X\\_test_, _y\\_test_). Assign 20% of the samples to the test set.\n",
    "\n",
    "Display object size:\n",
    "* _X\\_train_\n",
    "* _X\\_test_\n",
    "* _y\\_train_\n",
    "* _y\\_test_"
   ]
  },
  {
   "cell_type": "code",
   "execution_count": null,
   "metadata": {
    "id": "ZzicPOg0O2Dm"
   },
   "outputs": [],
   "source": [
    "# enter solution here\n",
    "from sklearn.model_selection import train_test_split\n",
    "\n",
    "# Assuming data and target have been prepared\n",
    "\n",
    "# Split the data into training and test sets\n",
    "X_train, X_test, y_train, y_test = train_test_split(data, target, test_size=0.2, random_state=42)\n",
    "\n",
    "# Display object sizes\n",
    "print(\"Size of X_train:\", X_train.shape)\n",
    "print(\"Size of X_test:\", X_test.shape)\n",
    "print(\"Size of y_train:\", y_train.shape)\n",
    "print(\"Size of y_test:\", y_test.shape)\n"
   ]
  },
  {
   "cell_type": "markdown",
   "metadata": {
    "id": "DCzduqagOois"
   },
   "source": [
    "### <a name='9'></a> Exercise 99\n",
    "Combine _X\\_train_ and _X\\_test_ objects into one _DataFrame_ object named _X_."
   ]
  },
  {
   "cell_type": "code",
   "execution_count": null,
   "metadata": {
    "id": "j0L8QIwpO0hp"
   },
   "outputs": [],
   "source": [
    "# enter solution here\n",
    "import pandas as pd\n",
    "\n",
    "# Assuming X_train and X_test are already defined\n",
    "\n",
    "# Combine X_train and X_test into one DataFrame X\n",
    "X = pd.concat([X_train, X_test], ignore_index=True)\n",
    "\n",
    "# Display the combined DataFrame X\n",
    "print(\"Combined DataFrame X:\")\n",
    "print(X)\n"
   ]
  },
  {
   "cell_type": "markdown",
   "metadata": {
    "id": "9yCcyXXIOqLt"
   },
   "source": [
    "### <a name='10'></a> Exercise 100\n",
    "Combine the _y\\_train_ and _y\\_test_ objects into one _DataFrame_ object named _y_."
   ]
  },
  {
   "cell_type": "code",
   "execution_count": null,
   "metadata": {
    "id": "IIPZDno-OzHg"
   },
   "outputs": [],
   "source": [
    "# enter solution here\n",
    "import pandas as pd\n",
    "\n",
    "# Assuming y_train and y_test are already defined\n",
    "\n",
    "# Combine y_train and y_test into one DataFrame y\n",
    "y = pd.concat([y_train, y_test], ignore_index=True)\n",
    "\n",
    "# Display the combined DataFrame y\n",
    "print(\"Combined DataFrame y:\")\n",
    "print(y)\n"
   ]
  },
  {
   "cell_type": "markdown",
   "metadata": {
    "id": "XmeNI-lFOsgI"
   },
   "source": [
    "Combine _X_ and _y_ objects into one _DataFrame_ object."
   ]
  },
  {
   "cell_type": "code",
   "execution_count": null,
   "metadata": {
    "id": "-susp68fOxMK"
   },
   "outputs": [],
   "source": [
    "# enter solution here\n",
    "import pandas as pd\n",
    "\n",
    "# Assuming X and y are already defined\n",
    "\n",
    "# Combine X and y into one DataFrame df_combined\n",
    "df_combined = pd.concat([X, y], axis=1)\n",
    "\n",
    "# Display the combined DataFrame df_combined\n",
    "print(\"Combined DataFrame df_combined:\")\n",
    "print(df_combined)\n"
   ]
  }
 ],
 "metadata": {
  "colab": {
   "collapsed_sections": [],
   "name": "Pandas_exercises.ipynb",
   "provenance": [
    {
     "file_id": "1HdQY8rZG0puzmO8pyfZa0SGFFOWVzurf",
     "timestamp": 1645004976648
    },
    {
     "file_id": "1L0sZe_F4tsXgM3kh44-v04ljVxYJvTFE",
     "timestamp": 1589891222070
    },
    {
     "file_id": "1iUHdlUmGvmY0VRluKCT6v3CrD6kN7D5f",
     "timestamp": 1589811739728
    },
    {
     "file_id": "10z5RvixXCwjFDsEKVGGBpzZkHTUxZ7hb",
     "timestamp": 1589782151891
    },
    {
     "file_id": "1_m97_c_5qp5qG9wVA-pn9rJAj4PUJgSs",
     "timestamp": 1586944540238
    }
   ]
  },
  "kernelspec": {
   "display_name": "Python 3 (ipykernel)",
   "language": "python",
   "name": "python3"
  },
  "language_info": {
   "codemirror_mode": {
    "name": "ipython",
    "version": 3
   },
   "file_extension": ".py",
   "mimetype": "text/x-python",
   "name": "python",
   "nbconvert_exporter": "python",
   "pygments_lexer": "ipython3",
   "version": "3.9.7"
  }
 },
 "nbformat": 4,
 "nbformat_minor": 1
}
