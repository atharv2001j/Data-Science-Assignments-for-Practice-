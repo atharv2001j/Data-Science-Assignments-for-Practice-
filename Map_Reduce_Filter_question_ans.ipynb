{
 "cells": [
  {
   "cell_type": "code",
   "execution_count": 1,
   "metadata": {},
   "outputs": [
    {
     "name": "stdout",
     "output_type": "stream",
     "text": [
      "Original Numbers: [1, 2, 3, 4, 5]\n",
      "Tripled Numbers: [3, 6, 9, 12, 15]\n"
     ]
    }
   ],
   "source": [
    "def triple_number(num):\n",
    "    return num * 3\n",
    "\n",
    "# Example list of integers\n",
    "numbers = [1, 2, 3, 4, 5]\n",
    "\n",
    "# Use map to triple all numbers\n",
    "tripled_numbers = list(map(triple_number, numbers))\n",
    "\n",
    "print(\"Original Numbers:\", numbers)\n",
    "print(\"Tripled Numbers:\", tripled_numbers)\n"
   ]
  },
  {
   "cell_type": "code",
   "execution_count": 2,
   "metadata": {},
   "outputs": [
    {
     "name": "stdout",
     "output_type": "stream",
     "text": [
      "List 1: [1, 2, 3]\n",
      "List 2: [4, 5, 6]\n",
      "List 3: [7, 8, 9]\n",
      "Result: [12, 15, 18]\n"
     ]
    }
   ],
   "source": [
    "# Example lists\n",
    "list1 = [1, 2, 3]\n",
    "list2 = [4, 5, 6]\n",
    "list3 = [7, 8, 9]\n",
    "\n",
    "# Use map and lambda to add corresponding elements of the three lists\n",
    "result = list(map(lambda x, y, z: x + y + z, list1, list2, list3))\n",
    "\n",
    "print(\"List 1:\", list1)\n",
    "print(\"List 2:\", list2)\n",
    "print(\"List 3:\", list3)\n",
    "print(\"Result:\", result)\n"
   ]
  },
  {
   "cell_type": "code",
   "execution_count": 3,
   "metadata": {},
   "outputs": [
    {
     "name": "stdout",
     "output_type": "stream",
     "text": [
      "nums1: [6, 5, 3, 9]\n",
      "nums2: [0, 1, 7, 7]\n",
      "Output: [(6, 6), (6, 4), (10, -4), (16, 2)]\n"
     ]
    }
   ],
   "source": [
    "# Sample lists\n",
    "nums1 = [6, 5, 3, 9]\n",
    "nums2 = [0, 1, 7, 7]\n",
    "\n",
    "# Add two lists and find the difference\n",
    "result = list(zip(nums1, nums2))\n",
    "result = [(x + y, x - y) for x, y in result]\n",
    "\n",
    "print(\"nums1:\", nums1)\n",
    "print(\"nums2:\", nums2)\n",
    "print(\"Output:\", result)\n"
   ]
  },
  {
   "cell_type": "code",
   "execution_count": 4,
   "metadata": {},
   "outputs": [
    {
     "name": "stdout",
     "output_type": "stream",
     "text": [
      "Original Sequence: Hello World\n",
      "Uppercase Sequence: HELLO WORLD\n",
      "Lowercase Sequence: hello world\n",
      "Unique Characters: Helo Wrd\n"
     ]
    }
   ],
   "source": [
    "def process_sequence(sequence):\n",
    "    # Convert to uppercase and lowercase\n",
    "    upper_case = sequence.upper()\n",
    "    lower_case = sequence.lower()\n",
    "\n",
    "    # Eliminate duplicate letters\n",
    "    unique_characters = ''.join(sorted(set(sequence), key=sequence.index))\n",
    "\n",
    "    return upper_case, lower_case, unique_characters\n",
    "\n",
    "# Example sequence\n",
    "given_sequence = \"Hello World\"\n",
    "\n",
    "# Process the sequence\n",
    "upper_case_result, lower_case_result, unique_characters_result = process_sequence(given_sequence)\n",
    "\n",
    "# Print the results\n",
    "print(\"Original Sequence:\", given_sequence)\n",
    "print(\"Uppercase Sequence:\", upper_case_result)\n",
    "print(\"Lowercase Sequence:\", lower_case_result)\n",
    "print(\"Unique Characters:\", unique_characters_result)\n"
   ]
  },
  {
   "cell_type": "code",
   "execution_count": 5,
   "metadata": {},
   "outputs": [
    {
     "name": "stdout",
     "output_type": "stream",
     "text": [
      "Original Fruits: ['Apple', 'Banana', 'Avocado', 'Cherry', 'Apricot', 'Grapes']\n",
      "Filtered Fruits: ['Banana', 'Cherry', 'Grapes']\n"
     ]
    }
   ],
   "source": [
    "# Filter out the fruits that start with A \n",
    "fruits = [\"Apple\", \"Banana\", \"Avocado\", \"Cherry\", \"Apricot\", \"Grapes\"]\n",
    "\n",
    "# Using filter and lambda function to filter out fruits starting with 'A'\n",
    "filtered_fruits = list(filter(lambda fruit: fruit[0].lower() != 'a', fruits))\n",
    "\n",
    "print(\"Original Fruits:\", fruits)\n",
    "print(\"Filtered Fruits:\", filtered_fruits)\n"
   ]
  },
  {
   "cell_type": "code",
   "execution_count": 6,
   "metadata": {},
   "outputs": [
    {
     "name": "stdout",
     "output_type": "stream",
     "text": [
      "Original Numbers: [1, -2, 3, -4, 5, -6, 7, -8, 9]\n",
      "Positive Numbers: [1, 3, 5, 7, 9]\n"
     ]
    }
   ],
   "source": [
    "numbers = [1, -2, 3, -4, 5, -6, 7, -8, 9]\n",
    "\n",
    "# Using filter and lambda function to filter out positive numbers\n",
    "positive_numbers = list(filter(lambda x: x > 0, numbers))\n",
    "\n",
    "print(\"Original Numbers:\", numbers)\n",
    "print(\"Positive Numbers:\", positive_numbers)\n"
   ]
  },
  {
   "cell_type": "code",
   "execution_count": 7,
   "metadata": {},
   "outputs": [
    {
     "name": "stdout",
     "output_type": "stream",
     "text": [
      "Original Numbers: [1, 2, 3, 4, 5, 6, 7, 8, 9, 10, 15, 20, 25]\n",
      "Filtered Numbers (not multiples of 3 and 5): [1, 2, 4, 7, 8]\n"
     ]
    }
   ],
   "source": [
    "numbers = [1, 2, 3, 4, 5, 6, 7, 8, 9, 10, 15, 20, 25]\n",
    "\n",
    "# Using filter and lambda function to filter out multiples of 3 and 5\n",
    "filtered_numbers = list(filter(lambda x: x % 3 != 0 and x % 5 != 0, numbers))\n",
    "\n",
    "print(\"Original Numbers:\", numbers)\n",
    "print(\"Filtered Numbers (not multiples of 3 and 5):\", filtered_numbers)\n"
   ]
  },
  {
   "cell_type": "code",
   "execution_count": 8,
   "metadata": {},
   "outputs": [
    {
     "name": "stdout",
     "output_type": "stream",
     "text": [
      "List of Strings: ['apple', 'banana', 'orange', 'grape', 'kiwi']\n",
      "Maximum String: orange\n"
     ]
    }
   ],
   "source": [
    "from functools import reduce\n",
    "\n",
    "strings = [\"apple\", \"banana\", \"orange\", \"grape\", \"kiwi\"]\n",
    "\n",
    "# Using reduce to find the maximum string\n",
    "max_string = reduce(lambda x, y: x if len(x) > len(y) else y, strings)\n",
    "\n",
    "print(\"List of Strings:\", strings)\n",
    "print(\"Maximum String:\", max_string)\n"
   ]
  },
  {
   "cell_type": "code",
   "execution_count": 9,
   "metadata": {},
   "outputs": [
    {
     "name": "stdout",
     "output_type": "stream",
     "text": [
      "List of Numbers: [5, 2, 8, 4, 6, 9, 3, 7]\n",
      "Mean: 5.5\n",
      "Maximum: 9\n",
      "Minimum: 2\n"
     ]
    }
   ],
   "source": [
    "from functools import reduce\n",
    "\n",
    "numbers = [5, 2, 8, 4, 6, 9, 3, 7]\n",
    "\n",
    "# Mean calculation using reduce\n",
    "mean = reduce(lambda x, y: x + y, numbers) / len(numbers)\n",
    "\n",
    "# Maximum calculation using reduce\n",
    "max_num = reduce(lambda x, y: x if x > y else y, numbers)\n",
    "\n",
    "# Minimum calculation using reduce\n",
    "min_num = reduce(lambda x, y: x if x < y else y, numbers)\n",
    "\n",
    "print(\"List of Numbers:\", numbers)\n",
    "print(\"Mean:\", mean)\n",
    "print(\"Maximum:\", max_num)\n",
    "print(\"Minimum:\", min_num)\n"
   ]
  },
  {
   "cell_type": "code",
   "execution_count": null,
   "metadata": {},
   "outputs": [],
   "source": []
  }
 ],
 "metadata": {
  "kernelspec": {
   "display_name": "Python 3 (ipykernel)",
   "language": "python",
   "name": "python3"
  },
  "language_info": {
   "codemirror_mode": {
    "name": "ipython",
    "version": 3
   },
   "file_extension": ".py",
   "mimetype": "text/x-python",
   "name": "python",
   "nbconvert_exporter": "python",
   "pygments_lexer": "ipython3",
   "version": "3.9.7"
  }
 },
 "nbformat": 4,
 "nbformat_minor": 4
}
