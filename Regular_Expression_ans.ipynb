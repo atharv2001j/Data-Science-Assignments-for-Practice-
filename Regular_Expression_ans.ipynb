{
 "cells": [
  {
   "cell_type": "code",
   "execution_count": 1,
   "metadata": {
    "id": "xMLU30SQxZCH"
   },
   "outputs": [
    {
     "name": "stdout",
     "output_type": "stream",
     "text": [
      "['cat']\n"
     ]
    }
   ],
   "source": [
    "#Write the regular expression and use proper method which gives output as:- 'cat' in str.\n",
    "import re\n",
    "str = 'cat mat bat rat'\n",
    "x = re.findall(\"cat\", str)\n",
    "print(x) "
   ]
  },
  {
   "cell_type": "code",
   "execution_count": 2,
   "metadata": {
    "id": "zMiSTGMHx6Dv"
   },
   "outputs": [
    {
     "name": "stdout",
     "output_type": "stream",
     "text": [
      "['rat']\n"
     ]
    }
   ],
   "source": [
    "#Write the regular expression and use proper method which gives output as:- 'rat' in str.\n",
    "import re\n",
    "str = 'cat mat bat rat'\n",
    "x = re.findall(\"rat\", str)\n",
    "print(x) "
   ]
  },
  {
   "cell_type": "code",
   "execution_count": 3,
   "metadata": {
    "id": "qBoYFjf5x6Mm"
   },
   "outputs": [
    {
     "name": "stdout",
     "output_type": "stream",
     "text": [
      "['mat'] ['man']\n"
     ]
    }
   ],
   "source": [
    "#Write the regular expression and use proper method which gives output as:- ['mat', 'man'] in str.\n",
    "import re\n",
    "str = 'cat mat bat rat man'\n",
    "x = re.findall(\"mat\", str)\n",
    "y = re.findall(\"man\", str)\n",
    "print(x,y) "
   ]
  },
  {
   "cell_type": "code",
   "execution_count": 4,
   "metadata": {
    "id": "qmxmqzX_x6QR"
   },
   "outputs": [
    {
     "name": "stdout",
     "output_type": "stream",
     "text": [
      "[\"Python's\", 'Programming:', 'is', 'very', 'easy', 'to', 'learn']\n"
     ]
    }
   ],
   "source": [
    "#Write the regular expression and use proper method which gives output as:- \n",
    "#['Python', 's', 'Programming', 'is', 'very', 'easy', 'to', 'learn'] in str.\n",
    "import re\n",
    "str = \"Python's Programming: is very easy to learn\"\n",
    "x = re.split(\" \",str)\n",
    "print(x)"
   ]
  },
  {
   "cell_type": "code",
   "execution_count": 18,
   "metadata": {
    "id": "LxGl1o7px6Vi"
   },
   "outputs": [
    {
     "name": "stdout",
     "output_type": "stream",
     "text": [
      "Output: str'str str: str str str str str\n"
     ]
    }
   ],
   "source": [
    "import re\n",
    "\n",
    "input_str = \"Python's Programming: is very easy to learn\"\n",
    "pattern = r\"(\\b\\w+\\b)\"\n",
    "result = re.sub(pattern, \"str\", input_str)\n",
    "\n",
    "print(\"Output:\", result)\n"
   ]
  },
  {
   "cell_type": "code",
   "execution_count": 19,
   "metadata": {
    "id": "9uIpb614x6Yb"
   },
   "outputs": [
    {
     "name": "stdout",
     "output_type": "stream",
     "text": [
      "Output: ['peter', 'picked', 'peck', 'pickled', 'peppers']\n"
     ]
    }
   ],
   "source": [
    "import re\n",
    "\n",
    "input_str = \"peter giper picked a peck of pickled peppers\"\n",
    "pattern = r\"\\bp\\w*\"\n",
    "result = re.findall(pattern, input_str)\n",
    "\n",
    "print(\"Output:\", result)\n"
   ]
  },
  {
   "cell_type": "code",
   "execution_count": 20,
   "metadata": {
    "id": "N0vFkePdx6bN"
   },
   "outputs": [
    {
     "name": "stdout",
     "output_type": "stream",
     "text": [
      "Output: ['peter', 'picked', 'peck', 'pickled', 'peppers']\n"
     ]
    }
   ],
   "source": [
    "import re\n",
    "\n",
    "input_str = \"peter giper picked a peck of pickled peppers\"\n",
    "pattern = r'\\bp(?!er\\b)\\w*'\n",
    "result = re.findall(pattern, input_str)\n",
    "\n",
    "print(\"Output:\", result)\n"
   ]
  },
  {
   "cell_type": "code",
   "execution_count": 22,
   "metadata": {
    "id": "mbiypO3yx6eE"
   },
   "outputs": [
    {
     "name": "stdout",
     "output_type": "stream",
     "text": [
      "Output: ['8th', '11th']\n"
     ]
    }
   ],
   "source": [
    "import re\n",
    "\n",
    "input_str = 'The election in delhi will be held on 8th and result for the same will be declared on 11th'\n",
    "pattern = r'\\b\\d\\w*\\b'\n",
    "result = re.findall(pattern, input_str)\n",
    "\n",
    "print(\"Output:\", result)\n"
   ]
  },
  {
   "cell_type": "code",
   "execution_count": 23,
   "metadata": {
    "id": "6ZUWWd6bx6g8"
   },
   "outputs": [
    {
     "name": "stdout",
     "output_type": "stream",
     "text": [
      "Output: ['peter', 'giper']\n"
     ]
    }
   ],
   "source": [
    "import re\n",
    "\n",
    "input_str = \"peter giper picked a peck of pickled peppers\"\n",
    "pattern = r'\\b\\w{5}\\b'\n",
    "result = re.findall(pattern, input_str)\n",
    "\n",
    "print(\"Output:\", result)\n"
   ]
  },
  {
   "cell_type": "code",
   "execution_count": 24,
   "metadata": {
    "id": "syuXvEXox6jt"
   },
   "outputs": [
    {
     "name": "stdout",
     "output_type": "stream",
     "text": [
      "Output: ['Retrieving', 'words', 'having', 'least', 'characters']\n"
     ]
    }
   ],
   "source": [
    "import re\n",
    "\n",
    "input_str = \"Retrieving all words having at least 4 characters\"\n",
    "pattern = r'\\b\\w{4,}\\b'\n",
    "result = re.findall(pattern, input_str)\n",
    "\n",
    "print(\"Output:\", result)\n"
   ]
  },
  {
   "cell_type": "code",
   "execution_count": 25,
   "metadata": {
    "id": "MtXo1Hf8x6ma"
   },
   "outputs": [
    {
     "name": "stdout",
     "output_type": "stream",
     "text": [
      "Output: ['all', 'words', 'least']\n"
     ]
    }
   ],
   "source": [
    "import re\n",
    "\n",
    "input_str = \"Retrieving all words having at least 4 characters\"\n",
    "pattern = r'\\b\\w{3,5}\\b'\n",
    "result = re.findall(pattern, input_str)\n",
    "\n",
    "print(\"Output:\", result)\n"
   ]
  },
  {
   "cell_type": "code",
   "execution_count": 26,
   "metadata": {
    "id": "RlvMct7xx6pE"
   },
   "outputs": [
    {
     "name": "stdout",
     "output_type": "stream",
     "text": [
      "Output: ['8', '11']\n"
     ]
    }
   ],
   "source": [
    "import re\n",
    "\n",
    "input_str = 'The election in delhi will be held on 8 and result for the same will be declared on 11'\n",
    "pattern = r'\\b\\d+\\b'\n",
    "result = re.findall(pattern, input_str)\n",
    "\n",
    "print(\"Output:\", result)\n"
   ]
  },
  {
   "cell_type": "code",
   "execution_count": 27,
   "metadata": {
    "id": "wdD4cSyJx6us"
   },
   "outputs": [
    {
     "name": "stdout",
     "output_type": "stream",
     "text": [
      "Output: ['characters']\n"
     ]
    }
   ],
   "source": [
    "import re\n",
    "\n",
    "input_str = \"Retrieving all words having at least 4 characters\"\n",
    "pattern = r'\\bc\\w*\\b'\n",
    "result = re.findall(pattern, input_str)\n",
    "\n",
    "print(\"Output:\", result)\n"
   ]
  },
  {
   "cell_type": "code",
   "execution_count": 28,
   "metadata": {
    "id": "HsVGzJVbx6sl"
   },
   "outputs": [
    {
     "name": "stdout",
     "output_type": "stream",
     "text": [
      "Output: 1234567890\n"
     ]
    }
   ],
   "source": [
    "import re\n",
    "\n",
    "input_str = \"Learnbay : 1234567890\"\n",
    "pattern = r'\\b\\d{10}\\b'\n",
    "result = re.search(pattern, input_str)\n",
    "\n",
    "if result:\n",
    "    output = result.group()\n",
    "    print(\"Output:\", output)\n",
    "else:\n",
    "    print(\"Phone number not found\")\n"
   ]
  },
  {
   "cell_type": "code",
   "execution_count": 29,
   "metadata": {
    "id": "LvG3jTtvyQKk"
   },
   "outputs": [
    {
     "name": "stdout",
     "output_type": "stream",
     "text": [
      "Output: Learnbay : \n"
     ]
    }
   ],
   "source": [
    "import re\n",
    "\n",
    "input_str = \"Learnbay : 1234567890\"\n",
    "pattern = r'\\b[^0-9]+\\b'\n",
    "result = re.search(pattern, input_str)\n",
    "\n",
    "if result:\n",
    "    output = result.group()\n",
    "    print(\"Output:\", output)\n",
    "else:\n",
    "    print(\"Name not found\")\n"
   ]
  },
  {
   "cell_type": "code",
   "execution_count": 30,
   "metadata": {
    "id": "drArGXgKyQNz"
   },
   "outputs": [
    {
     "name": "stdout",
     "output_type": "stream",
     "text": [
      "Output: ['anil', 'akhil', 'anant', 'ankur']\n"
     ]
    }
   ],
   "source": [
    "import re\n",
    "\n",
    "input_str = 'anil akhil anant abhi arun arati arundhati abhijit ankur'\n",
    "pattern = r'\\b(?:an|ak)\\w*\\b'\n",
    "result = re.findall(pattern, input_str)\n",
    "\n",
    "print(\"Output:\", result)\n"
   ]
  },
  {
   "cell_type": "code",
   "execution_count": null,
   "metadata": {},
   "outputs": [],
   "source": []
  }
 ],
 "metadata": {
  "colab": {
   "name": "Regular_Expression.ipynb",
   "provenance": []
  },
  "kernelspec": {
   "display_name": "Python 3 (ipykernel)",
   "language": "python",
   "name": "python3"
  },
  "language_info": {
   "codemirror_mode": {
    "name": "ipython",
    "version": 3
   },
   "file_extension": ".py",
   "mimetype": "text/x-python",
   "name": "python",
   "nbconvert_exporter": "python",
   "pygments_lexer": "ipython3",
   "version": "3.9.7"
  }
 },
 "nbformat": 4,
 "nbformat_minor": 1
}
